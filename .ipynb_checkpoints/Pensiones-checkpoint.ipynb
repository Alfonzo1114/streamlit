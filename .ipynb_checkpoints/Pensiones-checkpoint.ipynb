{
 "cells": [
  {
   "metadata": {
    "ExecuteTime": {
     "end_time": "2025-07-28T22:51:42.515843Z",
     "start_time": "2025-07-28T22:51:41.875532Z"
    }
   },
   "cell_type": "code",
   "source": [
    "import streamlit as st\n",
    "import pdfplumber\n",
    "import pandas as pd\n",
    "import os\n",
    "\n",
    "st.title(\"Reporte de Semanas Cotizadas\")\n",
    "\n",
    "uploaded_file = st.file_uploader(\"Sube tu reporte de semanas cotizadas en PDF\", type=[\"pdf\"])\n",
    "\n",
    "if uploaded_file is not None:\n",
    "    with pdfplumber.open(uploaded_file) as pdf:\n",
    "        page = pdf.pages[0]\n",
    "        table = page.extract_table()\n",
    "        if table:\n",
    "            df = pd.DataFrame(table[1:], columns=table[0])\n",
    "            st.dataframe(df)\n",
    "\n",
    "            save_path = \"output.csv\"\n",
    "            df.to_csv(save_path, index=False)\n",
    "            st.success(f\"Table saved to {save_path}\")\n",
    "        else:\n",
    "            st.warning(\"No table found on the first page.\")\n"
   ],
   "id": "bfa8376bf45ce2d0",
   "outputs": [
    {
     "name": "stderr",
     "output_type": "stream",
     "text": [
      "2025-07-28 16:51:42.430 WARNING streamlit.runtime.scriptrunner_utils.script_run_context: Thread 'MainThread': missing ScriptRunContext! This warning can be ignored when running in bare mode.\n",
      "2025-07-28 16:51:42.507 \n",
      "  \u001B[33m\u001B[1mWarning:\u001B[0m to view this Streamlit app on a browser, run it with the following\n",
      "  command:\n",
      "\n",
      "    streamlit run /home/carlos-alfonzo/miniconda3/lib/python3.12/site-packages/ipykernel_launcher.py [ARGUMENTS]\n",
      "2025-07-28 16:51:42.508 Thread 'MainThread': missing ScriptRunContext! This warning can be ignored when running in bare mode.\n",
      "2025-07-28 16:51:42.509 Thread 'MainThread': missing ScriptRunContext! This warning can be ignored when running in bare mode.\n",
      "2025-07-28 16:51:42.509 Thread 'MainThread': missing ScriptRunContext! This warning can be ignored when running in bare mode.\n",
      "2025-07-28 16:51:42.510 Thread 'MainThread': missing ScriptRunContext! This warning can be ignored when running in bare mode.\n",
      "2025-07-28 16:51:42.511 Thread 'MainThread': missing ScriptRunContext! This warning can be ignored when running in bare mode.\n",
      "2025-07-28 16:51:42.511 Thread 'MainThread': missing ScriptRunContext! This warning can be ignored when running in bare mode.\n",
      "2025-07-28 16:51:42.512 Thread 'MainThread': missing ScriptRunContext! This warning can be ignored when running in bare mode.\n",
      "2025-07-28 16:51:42.513 Thread 'MainThread': missing ScriptRunContext! This warning can be ignored when running in bare mode.\n"
     ]
    }
   ],
   "execution_count": 1
  }
 ],
 "metadata": {
  "kernelspec": {
   "display_name": "Python 3",
   "language": "python",
   "name": "python3"
  },
  "language_info": {
   "codemirror_mode": {
    "name": "ipython",
    "version": 2
   },
   "file_extension": ".py",
   "mimetype": "text/x-python",
   "name": "python",
   "nbconvert_exporter": "python",
   "pygments_lexer": "ipython2",
   "version": "2.7.6"
  }
 },
 "nbformat": 4,
 "nbformat_minor": 5
}
