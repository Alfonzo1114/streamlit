{
 "cells": [
  {
   "cell_type": "code",
   "id": "initial_id",
   "metadata": {
    "collapsed": true,
    "ExecuteTime": {
     "end_time": "2025-08-19T19:41:29.636541Z",
     "start_time": "2025-08-19T19:41:29.634400Z"
    }
   },
   "source": [
    "import pdfplumber\n",
    "import re\n",
    "from datetime import timedelta, date, datetime\n",
    "import pandas as pd\n",
    "import numpy as np\n",
    "from dateutil.relativedelta import relativedelta\n",
    "import plotly.graph_objects as go\n"
   ],
   "outputs": [],
   "execution_count": 20
  },
  {
   "metadata": {
    "ExecuteTime": {
     "end_time": "2025-08-19T19:18:11.224639Z",
     "start_time": "2025-08-19T19:18:11.220727Z"
    }
   },
   "cell_type": "code",
   "source": [
    "def file_path_fcn(file_path=None):\n",
    "    if file_path is None:\n",
    "        file_path = 'REPORTES/LUPITA.pdf'\n",
    "    return file_path\n",
    "\n",
    "file_path ='REPORTES/BOYER.pdf'\n",
    "\n",
    "# file_path = file_path_fcn(file_path=file_path)\n",
    "file_path = file_path_fcn()\n",
    "file_path"
   ],
   "id": "92164bf1e68b4469",
   "outputs": [
    {
     "data": {
      "text/plain": [
       "'REPORTES/LUPITA.pdf'"
      ]
     },
     "execution_count": 4,
     "metadata": {},
     "output_type": "execute_result"
    }
   ],
   "execution_count": 4
  },
  {
   "metadata": {
    "ExecuteTime": {
     "end_time": "2025-08-19T19:18:11.563565Z",
     "start_time": "2025-08-19T19:18:11.283183Z"
    }
   },
   "cell_type": "code",
   "source": [
    "def pdf_a_texto(file_path):\n",
    "    '''Conversion del pdf a texto'''\n",
    "    with pdfplumber.open(file_path) as pdf:\n",
    "        text = ''\n",
    "        for page in pdf.pages:\n",
    "            text += page.extract_text()\n",
    "    return text\n",
    "\n",
    "texto = pdf_a_texto(file_path)"
   ],
   "id": "9cda922479447866",
   "outputs": [],
   "execution_count": 5
  },
  {
   "metadata": {
    "ExecuteTime": {
     "end_time": "2025-08-19T19:18:11.576902Z",
     "start_time": "2025-08-19T19:18:11.573079Z"
    }
   },
   "cell_type": "code",
   "source": [
    "def format_spanish_date(my_date, date_type=\"format_string\"):\n",
    "    days = [\"Lunes\", \"Martes\", \"Miércoles\", \"Jueves\",\n",
    "            \"Viernes\", \"Sábado\", \"Domingo\"]\n",
    "    months = [\"enero\", \"febrero\", \"marzo\", \"abril\", \"mayo\", \"junio\",\n",
    "              \"julio\", \"agosto\", \"septiembre\", \"octubre\", \"noviembre\", \"diciembre\"]\n",
    "\n",
    "    for fmt in (\"%d/%m/%Y\", \"%d-%m-%Y\", \"%Y-%m-%d\", \"%Y/%m/%d\"):\n",
    "        # here we will check if date_type is \"format_string\" or \"date\"\n",
    "        if date_type == \"format_string\":\n",
    "            try:\n",
    "                date_obj = datetime.strptime(my_date, fmt)\n",
    "                break\n",
    "            except ValueError:\n",
    "                continue\n",
    "        elif date_type == \"format_date\":\n",
    "            try:\n",
    "                date_obj = datetime.strptime(my_date, fmt)\n",
    "                break\n",
    "            except ValueError:\n",
    "                continue\n",
    "        else:\n",
    "            raise ValueError(\"Invalid date_type. It should be 'format_string' or 'date'.\")\n",
    "\n",
    "    day_name = days[date_obj.weekday()]\n",
    "    month_name = months[date_obj.month - 1]\n",
    "    day_number = date_obj.day\n",
    "    year = date_obj.year\n",
    "\n",
    "    if date_type == \"format_string\":\n",
    "        return f\"{day_name}, {day_number} de {month_name} de {year}\"\n",
    "    elif date_type == \"format_date\":\n",
    "        return date_obj.date()\n",
    "\n",
    "\n",
    "# Example usage:\n",
    "date_str = \"17/02/1992\"\n",
    "# date_str = '2024-09-19'\n",
    "# date_str = '1964/10/13'\n",
    "formatted_date = format_spanish_date(date_str, date_type=\"format_date\")\n",
    "# formatted_date = format_spanish_date(date_str, date_type=\"format_string\")\n",
    "print(formatted_date)"
   ],
   "id": "7358abe70e71c0b3",
   "outputs": [
    {
     "name": "stdout",
     "output_type": "stream",
     "text": [
      "1992-02-17\n"
     ]
    }
   ],
   "execution_count": 6
  },
  {
   "metadata": {
    "ExecuteTime": {
     "end_time": "2025-08-19T19:18:11.639740Z",
     "start_time": "2025-08-19T19:18:11.636974Z"
    }
   },
   "cell_type": "code",
   "source": [
    "def convert_double_currency(value):\n",
    "    # We will receive a float value and return a string with $ and 2 decimals\n",
    "    return \"${:,.2f}\".format(value)\n",
    "\n",
    "# Example usage:\n",
    "value = 1234.56\n",
    "formatted_value = convert_double_currency(value)\n",
    "print(formatted_value)"
   ],
   "id": "398257fbdc59c9d9",
   "outputs": [
    {
     "name": "stdout",
     "output_type": "stream",
     "text": [
      "$1,234.56\n"
     ]
    }
   ],
   "execution_count": 7
  },
  {
   "metadata": {
    "ExecuteTime": {
     "end_time": "2025-08-19T19:18:11.706368Z",
     "start_time": "2025-08-19T19:18:11.690093Z"
    }
   },
   "cell_type": "code",
   "source": [
    "class DatosGenerales:\n",
    "    def __init__(self, texto):\n",
    "        self.texto = texto\n",
    "\n",
    "    def nombrefcn(self):\n",
    "    # Extract the substring between the found positions, adjust indices for correct slicing\n",
    "        InicioStr = re.search(r\"20\\d{2}\\s{1}\", self.texto)\n",
    "        FinalStr = \"DD MM YYYY\"\n",
    "        # Find the starting and ending positions of the target substrings\n",
    "        Inicio = InicioStr.span()[0]\n",
    "        Final = texto.find(FinalStr)\n",
    "        # Extract the substring between the found positions, adjust indices for correct slicing\n",
    "        if Inicio != -1 and Final != -1:\n",
    "            # + 5 since InicioStr length = length(20) + 2 + 1 = 5\n",
    "            Nombre = self.texto[Inicio + 5: Final].strip()\n",
    "        else:\n",
    "            Nombre = \"\"\n",
    "        print(f\"NOMBRE: {Nombre}\")\n",
    "        self.Nombre = Nombre\n",
    "\n",
    "    def nssfcn(self):\n",
    "        InicioStr = \"NSS: \"\n",
    "        FinalStr = \"CURP:\"\n",
    "\n",
    "        Inicio = self.texto.find(InicioStr)\n",
    "        Final = self.texto.find(FinalStr)\n",
    "\n",
    "        if Inicio != -1 and Final != -1:\n",
    "            nss = self.texto[Inicio + 5: Final - 28].strip()\n",
    "        else:\n",
    "            nss = \"\"\n",
    "        print(f\"NSS: {nss}\")\n",
    "        self.nss = nss\n",
    "\n",
    "    def curpfcn(self):\n",
    "        InicioStr = \"CURP:\"\n",
    "\n",
    "        Inicio = self.texto.find(InicioStr)\n",
    "\n",
    "        if Inicio != -1:\n",
    "            curp = self.texto[Inicio +len(InicioStr): Inicio + 25].strip()\n",
    "        else:\n",
    "            curp = ''\n",
    "        print(f\"CURP: {curp}\")\n",
    "        self.curp = curp\n",
    "\n",
    "    def fecha_nacimiento_fcn(self):\n",
    "        YEAR_BIRTH = \"19\" + self.curp[4:6]\n",
    "        MONTH_BIRTH = self.curp[6:8]\n",
    "        DAY_BIRTH = self.curp[8:10]\n",
    "        FECHA_NACIMIENTO = DAY_BIRTH + '/' + MONTH_BIRTH + '/' + YEAR_BIRTH\n",
    "        # Convert string to datetime object\n",
    "        FECHA_NACIMIENTO_date = format_spanish_date(FECHA_NACIMIENTO, date_type=\"format_date\")\n",
    "        # Convert string to spanish date string\n",
    "        FECHA_NACIMIENTO_string = format_spanish_date(FECHA_NACIMIENTO, date_type=\"format_string\")\n",
    "        print(f\"FECHA DE NACIMIENTO: {FECHA_NACIMIENTO}\")\n",
    "        self.fecha_nacimiento_string = FECHA_NACIMIENTO_string\n",
    "        self.fecha_nacimiento_date = FECHA_NACIMIENTO_date\n",
    "\n",
    "    def ano_inscripcionIMSS_fcn(self):\n",
    "        TerminacionYear = self.nss[2:4]\n",
    "        if int(TerminacionYear) < 50:\n",
    "            AnoInicio = int('20'+ TerminacionYear)\n",
    "        else:\n",
    "            AnoInicio = int('19'+ TerminacionYear)\n",
    "        print(f\"AÑO DE INSCRIPCIÓN IMSS: {AnoInicio}\")\n",
    "        self.AnoInicio = AnoInicio\n",
    "\n",
    "    def regimen_pertenecefcn(self):\n",
    "        if self.AnoInicio > 1997:\n",
    "            Regimen = 'Régimen 97'\n",
    "        elif self.AnoInicio == 1997:\n",
    "            Regimen = \"Determinar el mes que inició, si es a partir de julio, entra en régimen 97\"\n",
    "        else:\n",
    "            Regimen = 'Régimen 73'\n",
    "\n",
    "        print(f\"REGIMEN AL QUE PERTENECE: {Regimen}\")\n",
    "        self.Regimen = Regimen\n",
    "\n",
    "    def semanas_cotizadas_descontadas_fcn(self):\n",
    "        Iniciostr = re.search(r\"\\d{1,4}\\s{1}\\d{1,4}\\s{1}\\d{1,4}\", texto)\n",
    "        myrange = Iniciostr.span()\n",
    "        risultati = self.texto[myrange[0]:myrange[1]]\n",
    "        semanas_cotizadas = int(risultati.split()[0])\n",
    "        semanas_descontadas = int(risultati.split()[1])\n",
    "        semanas_reintegradas = int(risultati.split()[-1])\n",
    "        semanas_totales = semanas_cotizadas - semanas_descontadas + semanas_reintegradas\n",
    "\n",
    "        print(f\"SEMANAS COTIZADAS: {semanas_cotizadas}\")\n",
    "        print(f\"SEMANAS DESCONTADAS: {semanas_descontadas}\")\n",
    "        print(f\"SEMANAS REINTEGRADAS: {semanas_reintegradas}\")\n",
    "        print(f\"SEMANAS TOTALES: {semanas_totales}\")\n",
    "\n",
    "        self.semanas_cotizadas = semanas_cotizadas\n",
    "        self.semanas_descontadas = semanas_descontadas\n",
    "        self.semanas_reintegradas = semanas_reintegradas\n",
    "        self.semanas_totales = semanas_totales\n",
    "\n",
    "    def fecha_emision_reporte_fcn(self):\n",
    "        texto_array = self.texto.split('\\n')\n",
    "        # Find the position of the string that ends with 'reporte' and select the next element that contains the date\n",
    "        position_date_report = [i + 1 for i, s in enumerate(texto_array) if s.endswith('reporte')]\n",
    "        out = texto_array[position_date_report[0]]\n",
    "        out = out.replace(' ', '')\n",
    "        self.fecha_emision_reporte_date = format_spanish_date(out, date_type=\"format_date\")\n",
    "        self.fecha_emision_reporte_string = format_spanish_date(out, date_type=\"format_string\")\n",
    "\n",
    "        print(f\"FECHA DE EMISIÓN DEL REPORTE: {self.fecha_emision_reporte_date}, type: {type(self.fecha_emision_reporte_date)}\")\n",
    "\n",
    "    def tabla_datos(self):\n",
    "        self.nombrefcn()\n",
    "        self.nssfcn()\n",
    "        self.curpfcn()\n",
    "        self.fecha_nacimiento_fcn()\n",
    "        self.ano_inscripcionIMSS_fcn()\n",
    "        self.regimen_pertenecefcn()\n",
    "        self.semanas_cotizadas_descontadas_fcn()\n",
    "        self.fecha_emision_reporte_fcn()\n",
    "\n",
    "        out = pd.DataFrame({\n",
    "            'NOMBRE': [self.Nombre],\n",
    "            'NSS': [self.nss],\n",
    "            'CURP': [self.curp],\n",
    "            'FECHA DE NACIMIENTO': [self.fecha_nacimiento_string],\n",
    "            'AÑO DE INSCRIPCIÓN IMSS': [self.AnoInicio],\n",
    "            'REGIMEN AL QUE PERTENECE': [self.Regimen],\n",
    "            'SEMANAS COTIZADAS': [self.semanas_cotizadas],\n",
    "            'SEMANAS DESCONTADAS': [self.semanas_descontadas],\n",
    "            'SEMANAS REINTEGRADAS': [self.semanas_reintegradas],\n",
    "            'SEMANAS TOTALES': [self.semanas_totales],\n",
    "            'FECHA DE EMISIÓN DEL REPORTE': [self.fecha_emision_reporte_string]\n",
    "        }\n",
    "        )\n",
    "        out = out.T\n",
    "        out.columns = ['DATOS PERSONALES']\n",
    "        return out\n",
    "\n",
    "# Example usage\n",
    "Usuario = DatosGenerales(texto)\n",
    "df = Usuario.tabla_datos()\n",
    "df"
   ],
   "id": "212e481480cd4d6",
   "outputs": [
    {
     "name": "stdout",
     "output_type": "stream",
     "text": [
      "NOMBRE: SAN ROMAN MOSCOSO MARIA GUADALUPE\n",
      "NSS: 71896250306\n",
      "CURP: SAMG620423MCSNSD01\n",
      "FECHA DE NACIMIENTO: 23/04/1962\n",
      "AÑO DE INSCRIPCIÓN IMSS: 1989\n",
      "REGIMEN AL QUE PERTENECE: Régimen 73\n",
      "SEMANAS COTIZADAS: 805\n",
      "SEMANAS DESCONTADAS: 0\n",
      "SEMANAS REINTEGRADAS: 0\n",
      "SEMANAS TOTALES: 805\n",
      "FECHA DE EMISIÓN DEL REPORTE: 2021-03-03, type: <class 'datetime.date'>\n"
     ]
    },
    {
     "data": {
      "text/plain": [
       "                                               DATOS PERSONALES\n",
       "NOMBRE                        SAN ROMAN MOSCOSO MARIA GUADALUPE\n",
       "NSS                                                 71896250306\n",
       "CURP                                         SAMG620423MCSNSD01\n",
       "FECHA DE NACIMIENTO                  Lunes, 23 de abril de 1962\n",
       "AÑO DE INSCRIPCIÓN IMSS                                    1989\n",
       "REGIMEN AL QUE PERTENECE                             Régimen 73\n",
       "SEMANAS COTIZADAS                                           805\n",
       "SEMANAS DESCONTADAS                                           0\n",
       "SEMANAS REINTEGRADAS                                          0\n",
       "SEMANAS TOTALES                                             805\n",
       "FECHA DE EMISIÓN DEL REPORTE      Miércoles, 3 de marzo de 2021"
      ],
      "text/html": [
       "<div>\n",
       "<style scoped>\n",
       "    .dataframe tbody tr th:only-of-type {\n",
       "        vertical-align: middle;\n",
       "    }\n",
       "\n",
       "    .dataframe tbody tr th {\n",
       "        vertical-align: top;\n",
       "    }\n",
       "\n",
       "    .dataframe thead th {\n",
       "        text-align: right;\n",
       "    }\n",
       "</style>\n",
       "<table border=\"1\" class=\"dataframe\">\n",
       "  <thead>\n",
       "    <tr style=\"text-align: right;\">\n",
       "      <th></th>\n",
       "      <th>DATOS PERSONALES</th>\n",
       "    </tr>\n",
       "  </thead>\n",
       "  <tbody>\n",
       "    <tr>\n",
       "      <th>NOMBRE</th>\n",
       "      <td>SAN ROMAN MOSCOSO MARIA GUADALUPE</td>\n",
       "    </tr>\n",
       "    <tr>\n",
       "      <th>NSS</th>\n",
       "      <td>71896250306</td>\n",
       "    </tr>\n",
       "    <tr>\n",
       "      <th>CURP</th>\n",
       "      <td>SAMG620423MCSNSD01</td>\n",
       "    </tr>\n",
       "    <tr>\n",
       "      <th>FECHA DE NACIMIENTO</th>\n",
       "      <td>Lunes, 23 de abril de 1962</td>\n",
       "    </tr>\n",
       "    <tr>\n",
       "      <th>AÑO DE INSCRIPCIÓN IMSS</th>\n",
       "      <td>1989</td>\n",
       "    </tr>\n",
       "    <tr>\n",
       "      <th>REGIMEN AL QUE PERTENECE</th>\n",
       "      <td>Régimen 73</td>\n",
       "    </tr>\n",
       "    <tr>\n",
       "      <th>SEMANAS COTIZADAS</th>\n",
       "      <td>805</td>\n",
       "    </tr>\n",
       "    <tr>\n",
       "      <th>SEMANAS DESCONTADAS</th>\n",
       "      <td>0</td>\n",
       "    </tr>\n",
       "    <tr>\n",
       "      <th>SEMANAS REINTEGRADAS</th>\n",
       "      <td>0</td>\n",
       "    </tr>\n",
       "    <tr>\n",
       "      <th>SEMANAS TOTALES</th>\n",
       "      <td>805</td>\n",
       "    </tr>\n",
       "    <tr>\n",
       "      <th>FECHA DE EMISIÓN DEL REPORTE</th>\n",
       "      <td>Miércoles, 3 de marzo de 2021</td>\n",
       "    </tr>\n",
       "  </tbody>\n",
       "</table>\n",
       "</div>"
      ]
     },
     "execution_count": 8,
     "metadata": {},
     "output_type": "execute_result"
    }
   ],
   "execution_count": 8
  },
  {
   "metadata": {
    "ExecuteTime": {
     "end_time": "2025-08-19T19:18:11.786121Z",
     "start_time": "2025-08-19T19:18:11.769989Z"
    }
   },
   "cell_type": "code",
   "source": [
    "class FechasGenerales:\n",
    "    def __init__(self, texto, FechaEmisionReporte):\n",
    "        self.texto = texto\n",
    "        self.FechaEmisionReporte = FechaEmisionReporte\n",
    "\n",
    "    def tabla_fechas_generales(self):\n",
    "        texto = self.texto\n",
    "        FechaEmisionReporte = self.FechaEmisionReporte\n",
    "        # Define the search string\n",
    "        bajas_string = 'Fecha de baja'\n",
    "        value_added = 12 # Assuming 12 characters for the date\n",
    "        # Find the indices of the search string\n",
    "        bajas = [m.start() for m in re.finditer(bajas_string, texto)]\n",
    "        # Get the index of the first occurrence\n",
    "        ultima_baja = bajas[0]\n",
    "        # Calculate the end index\n",
    "        ultima_final = ultima_baja + len(bajas_string) + value_added\n",
    "        # Extract the desired substring\n",
    "        sigue_cotizando = \"vigente\" in texto.lower()  #Check if sigue_cotizando is contained in the text\n",
    "        # Initialize an array to store dates\n",
    "        fecha_bajas = np.zeros(len(bajas), dtype=object)\n",
    "        fecha_bajas_string = np.zeros(len(bajas), dtype=object)\n",
    "\n",
    "        for idx, baja in enumerate(bajas):\n",
    "            if idx == 0:\n",
    "                if not sigue_cotizando:\n",
    "                    fecha_unstructured = texto[ultima_baja + len(bajas_string):ultima_final].strip()\n",
    "                    fechas_ultima_baja = format_spanish_date(fecha_unstructured, date_type=\"format_date\")\n",
    "                    fecha_bajas[idx] = fechas_ultima_baja\n",
    "                    fecha_bajas_string[idx] = format_spanish_date(fecha_unstructured, date_type=\"format_string\")\n",
    "                else:\n",
    "                    fecha_bajas[idx] = FechaEmisionReporte\n",
    "                    fecha_bajas_string[idx] = format_spanish_date(fecha_bajas[idx], date_type=\"format_string\")\n",
    "                    fechas_ultima_baja = fecha_bajas[idx]\n",
    "\n",
    "                if not isinstance(fechas_ultima_baja, date):\n",
    "                    fechas_ultima_baja = fechas_ultima_baja.date()\n",
    "            else:\n",
    "                start_idx = baja + len(bajas_string)\n",
    "                end_idx = start_idx + value_added  # Assuming 12 characters for the date\n",
    "                fecha = texto[start_idx:end_idx].strip()\n",
    "                fecha_bajas[idx] = format_spanish_date(fecha,  date_type=\"format_date\")\n",
    "                fecha_bajas_string[idx] = format_spanish_date(fecha, date_type=\"format_string\")\n",
    "\n",
    "        altas_string = 'Fecha de alta'\n",
    "        altas = [m.start() for m in re.finditer(altas_string, texto)]\n",
    "\n",
    "        fecha_altas = np.zeros(len(altas), dtype=object)\n",
    "        fecha_altas_string = np.zeros(len(altas), dtype=object)\n",
    "        dias_transcurridos_cotizados = np.zeros(len(altas), dtype=object)\n",
    "        semanas_transcurridas_cotizadas = np.zeros(len(altas), dtype=object)\n",
    "\n",
    "        for idx, alta in enumerate(altas):\n",
    "            start_idx = alta + len(altas_string)\n",
    "            end_idx = start_idx + value_added\n",
    "\n",
    "            fecha = texto[start_idx:end_idx].strip()\n",
    "            fecha_altas[idx] = format_spanish_date(fecha, date_type=\"format_date\")\n",
    "            fecha_altas_string[idx] = format_spanish_date(fecha, date_type=\"format_string\")\n",
    "\n",
    "            dias_transcurridos_cotizados[idx] = (fecha_bajas[idx] - fecha_altas[idx]).days\n",
    "            semanas_transcurridas_cotizadas[idx] = dias_transcurridos_cotizados[idx] // 7\n",
    "\n",
    "            inicio_patron_str = 'Nombre del patrón'\n",
    "            final_patron_str = 'Registro Patronal'\n",
    "            final_patron_str_entidad = 'Entidad federativa'\n",
    "            inicio_patron = [m.start() for m in re.finditer(inicio_patron_str, texto)]\n",
    "            final_patron = [m.start() for m in re.finditer(final_patron_str, texto)]\n",
    "\n",
    "            if len(final_patron) != len(inicio_patron):\n",
    "                missing_registro_patronal = [m.start() for m in re.finditer(final_patron_str_entidad, texto)]\n",
    "                final_patron.append(missing_registro_patronal[-1])\n",
    "\n",
    "            # using list comprehension\n",
    "            patrones = [texto[inicio + len(inicio_patron_str):final_patron[idx] - 1].strip()\n",
    "                        for idx, inicio in enumerate(inicio_patron)]\n",
    "\n",
    "            inicio_ef_str = 'Entidad federativa'\n",
    "            final_ef_str = 'Fecha de alta'\n",
    "            inicio_ef = [m.start() for m in re.finditer(inicio_ef_str, texto)]\n",
    "            final_ef = [m.start() for m in re.finditer(final_ef_str, texto)]\n",
    "\n",
    "            entidad_federativa = []\n",
    "\n",
    "            for idx, inicio in enumerate(inicio_ef):\n",
    "                start_idx = inicio + len(inicio_ef_str)\n",
    "                end_idx = final_ef[idx] - 1\n",
    "                entidad_federativa.append(texto[start_idx:end_idx].strip())\n",
    "\n",
    "            # Alternatively, using list comprehension\n",
    "            entidad_federativa = [texto[inicio + len(inicio_ef_str):final_ef[idx] - 1].strip()\n",
    "                                for idx, inicio in enumerate(inicio_ef)]\n",
    "\n",
    "            FechasGenerales_num = pd.DataFrame({\n",
    "            'Fecha de alta': fecha_altas,\n",
    "            'Fecha de baja': fecha_bajas,\n",
    "            'Dias transcurridos cotizados': dias_transcurridos_cotizados,\n",
    "            'Semanas transcurridas cotizadas': semanas_transcurridas_cotizadas,\n",
    "            'Patrones': patrones,\n",
    "            'Entidad federativa': entidad_federativa\n",
    "        })\n",
    "            FechasGenerales_string = pd.DataFrame({\n",
    "            'Fecha de alta': fecha_altas_string,\n",
    "            'Fecha de baja': fecha_bajas_string,\n",
    "            'Dias transcurridos cotizados': dias_transcurridos_cotizados,\n",
    "            'Semanas transcurridas cotizadas': semanas_transcurridas_cotizadas,\n",
    "            'Patrones': patrones,\n",
    "            'Entidad federativa': entidad_federativa\n",
    "        })\n",
    "        return FechasGenerales_num, FechasGenerales_string, sigue_cotizando, fechas_ultima_baja\n",
    "\n",
    "fechas_generales = FechasGenerales(texto=texto, FechaEmisionReporte=Usuario.fecha_emision_reporte_string)\n",
    "fechasGeneralesNumerico, fechasGeneralesDate, sigueCotizando, fechasUltimaBaja = fechas_generales.tabla_fechas_generales()\n",
    "print(\"Tabla Numérica\")\n",
    "display(fechasGeneralesNumerico)\n",
    "print(\"Tabla Date\")\n",
    "display(fechasGeneralesDate)\n",
    "print(\"Sigue Cotizando\", sigueCotizando)\n",
    "print(fechasUltimaBaja)"
   ],
   "id": "ebedc25adf55054c",
   "outputs": [
    {
     "name": "stdout",
     "output_type": "stream",
     "text": [
      "Tabla Numérica\n"
     ]
    },
    {
     "data": {
      "text/plain": [
       "  Fecha de alta Fecha de baja Dias transcurridos cotizados  \\\n",
       "0    2010-08-01    2020-09-30                         3713   \n",
       "1    1999-10-16    2000-05-15                          212   \n",
       "2    1994-10-01    1996-05-31                          608   \n",
       "3    1991-10-01    1992-09-10                          345   \n",
       "4    1989-09-01    1991-09-23                          752   \n",
       "\n",
       "  Semanas transcurridas cotizadas                       Patrones  \\\n",
       "0                             530   CARLOS DAVID ALFONZO UTRILLA   \n",
       "1                              30   CARLOS DAVID ALFONZO UTRILLA   \n",
       "2                              86  COLEGIO OFELIA NARVAEZ RINCON   \n",
       "3                              49  COLEGIO OFELIA NARVAEZ RINCON   \n",
       "4                             107         CTRO ESTUDIOS LA SALLE   \n",
       "\n",
       "  Entidad federativa  \n",
       "0            CHIAPAS  \n",
       "1            CHIAPAS  \n",
       "2            CHIAPAS  \n",
       "3            CHIAPAS  \n",
       "4            CHIAPAS  "
      ],
      "text/html": [
       "<div>\n",
       "<style scoped>\n",
       "    .dataframe tbody tr th:only-of-type {\n",
       "        vertical-align: middle;\n",
       "    }\n",
       "\n",
       "    .dataframe tbody tr th {\n",
       "        vertical-align: top;\n",
       "    }\n",
       "\n",
       "    .dataframe thead th {\n",
       "        text-align: right;\n",
       "    }\n",
       "</style>\n",
       "<table border=\"1\" class=\"dataframe\">\n",
       "  <thead>\n",
       "    <tr style=\"text-align: right;\">\n",
       "      <th></th>\n",
       "      <th>Fecha de alta</th>\n",
       "      <th>Fecha de baja</th>\n",
       "      <th>Dias transcurridos cotizados</th>\n",
       "      <th>Semanas transcurridas cotizadas</th>\n",
       "      <th>Patrones</th>\n",
       "      <th>Entidad federativa</th>\n",
       "    </tr>\n",
       "  </thead>\n",
       "  <tbody>\n",
       "    <tr>\n",
       "      <th>0</th>\n",
       "      <td>2010-08-01</td>\n",
       "      <td>2020-09-30</td>\n",
       "      <td>3713</td>\n",
       "      <td>530</td>\n",
       "      <td>CARLOS DAVID ALFONZO UTRILLA</td>\n",
       "      <td>CHIAPAS</td>\n",
       "    </tr>\n",
       "    <tr>\n",
       "      <th>1</th>\n",
       "      <td>1999-10-16</td>\n",
       "      <td>2000-05-15</td>\n",
       "      <td>212</td>\n",
       "      <td>30</td>\n",
       "      <td>CARLOS DAVID ALFONZO UTRILLA</td>\n",
       "      <td>CHIAPAS</td>\n",
       "    </tr>\n",
       "    <tr>\n",
       "      <th>2</th>\n",
       "      <td>1994-10-01</td>\n",
       "      <td>1996-05-31</td>\n",
       "      <td>608</td>\n",
       "      <td>86</td>\n",
       "      <td>COLEGIO OFELIA NARVAEZ RINCON</td>\n",
       "      <td>CHIAPAS</td>\n",
       "    </tr>\n",
       "    <tr>\n",
       "      <th>3</th>\n",
       "      <td>1991-10-01</td>\n",
       "      <td>1992-09-10</td>\n",
       "      <td>345</td>\n",
       "      <td>49</td>\n",
       "      <td>COLEGIO OFELIA NARVAEZ RINCON</td>\n",
       "      <td>CHIAPAS</td>\n",
       "    </tr>\n",
       "    <tr>\n",
       "      <th>4</th>\n",
       "      <td>1989-09-01</td>\n",
       "      <td>1991-09-23</td>\n",
       "      <td>752</td>\n",
       "      <td>107</td>\n",
       "      <td>CTRO ESTUDIOS LA SALLE</td>\n",
       "      <td>CHIAPAS</td>\n",
       "    </tr>\n",
       "  </tbody>\n",
       "</table>\n",
       "</div>"
      ]
     },
     "metadata": {},
     "output_type": "display_data"
    },
    {
     "name": "stdout",
     "output_type": "stream",
     "text": [
      "Tabla Date\n"
     ]
    },
    {
     "data": {
      "text/plain": [
       "                      Fecha de alta                        Fecha de baja  \\\n",
       "0      Domingo, 1 de agosto de 2010  Miércoles, 30 de septiembre de 2020   \n",
       "1     Sábado, 16 de octubre de 1999            Lunes, 15 de mayo de 2000   \n",
       "2      Sábado, 1 de octubre de 1994          Viernes, 31 de mayo de 1996   \n",
       "3      Martes, 1 de octubre de 1991     Jueves, 10 de septiembre de 1992   \n",
       "4  Viernes, 1 de septiembre de 1989      Lunes, 23 de septiembre de 1991   \n",
       "\n",
       "  Dias transcurridos cotizados Semanas transcurridas cotizadas  \\\n",
       "0                         3713                             530   \n",
       "1                          212                              30   \n",
       "2                          608                              86   \n",
       "3                          345                              49   \n",
       "4                          752                             107   \n",
       "\n",
       "                        Patrones Entidad federativa  \n",
       "0   CARLOS DAVID ALFONZO UTRILLA            CHIAPAS  \n",
       "1   CARLOS DAVID ALFONZO UTRILLA            CHIAPAS  \n",
       "2  COLEGIO OFELIA NARVAEZ RINCON            CHIAPAS  \n",
       "3  COLEGIO OFELIA NARVAEZ RINCON            CHIAPAS  \n",
       "4         CTRO ESTUDIOS LA SALLE            CHIAPAS  "
      ],
      "text/html": [
       "<div>\n",
       "<style scoped>\n",
       "    .dataframe tbody tr th:only-of-type {\n",
       "        vertical-align: middle;\n",
       "    }\n",
       "\n",
       "    .dataframe tbody tr th {\n",
       "        vertical-align: top;\n",
       "    }\n",
       "\n",
       "    .dataframe thead th {\n",
       "        text-align: right;\n",
       "    }\n",
       "</style>\n",
       "<table border=\"1\" class=\"dataframe\">\n",
       "  <thead>\n",
       "    <tr style=\"text-align: right;\">\n",
       "      <th></th>\n",
       "      <th>Fecha de alta</th>\n",
       "      <th>Fecha de baja</th>\n",
       "      <th>Dias transcurridos cotizados</th>\n",
       "      <th>Semanas transcurridas cotizadas</th>\n",
       "      <th>Patrones</th>\n",
       "      <th>Entidad federativa</th>\n",
       "    </tr>\n",
       "  </thead>\n",
       "  <tbody>\n",
       "    <tr>\n",
       "      <th>0</th>\n",
       "      <td>Domingo, 1 de agosto de 2010</td>\n",
       "      <td>Miércoles, 30 de septiembre de 2020</td>\n",
       "      <td>3713</td>\n",
       "      <td>530</td>\n",
       "      <td>CARLOS DAVID ALFONZO UTRILLA</td>\n",
       "      <td>CHIAPAS</td>\n",
       "    </tr>\n",
       "    <tr>\n",
       "      <th>1</th>\n",
       "      <td>Sábado, 16 de octubre de 1999</td>\n",
       "      <td>Lunes, 15 de mayo de 2000</td>\n",
       "      <td>212</td>\n",
       "      <td>30</td>\n",
       "      <td>CARLOS DAVID ALFONZO UTRILLA</td>\n",
       "      <td>CHIAPAS</td>\n",
       "    </tr>\n",
       "    <tr>\n",
       "      <th>2</th>\n",
       "      <td>Sábado, 1 de octubre de 1994</td>\n",
       "      <td>Viernes, 31 de mayo de 1996</td>\n",
       "      <td>608</td>\n",
       "      <td>86</td>\n",
       "      <td>COLEGIO OFELIA NARVAEZ RINCON</td>\n",
       "      <td>CHIAPAS</td>\n",
       "    </tr>\n",
       "    <tr>\n",
       "      <th>3</th>\n",
       "      <td>Martes, 1 de octubre de 1991</td>\n",
       "      <td>Jueves, 10 de septiembre de 1992</td>\n",
       "      <td>345</td>\n",
       "      <td>49</td>\n",
       "      <td>COLEGIO OFELIA NARVAEZ RINCON</td>\n",
       "      <td>CHIAPAS</td>\n",
       "    </tr>\n",
       "    <tr>\n",
       "      <th>4</th>\n",
       "      <td>Viernes, 1 de septiembre de 1989</td>\n",
       "      <td>Lunes, 23 de septiembre de 1991</td>\n",
       "      <td>752</td>\n",
       "      <td>107</td>\n",
       "      <td>CTRO ESTUDIOS LA SALLE</td>\n",
       "      <td>CHIAPAS</td>\n",
       "    </tr>\n",
       "  </tbody>\n",
       "</table>\n",
       "</div>"
      ]
     },
     "metadata": {},
     "output_type": "display_data"
    },
    {
     "name": "stdout",
     "output_type": "stream",
     "text": [
      "Sigue Cotizando False\n",
      "2020-09-30\n"
     ]
    }
   ],
   "execution_count": 9
  },
  {
   "metadata": {},
   "cell_type": "markdown",
   "source": "# Historial Laboral Desglosado",
   "id": "4eeeba46a6385d70"
  },
  {
   "metadata": {
    "ExecuteTime": {
     "end_time": "2025-08-19T19:18:11.972137Z",
     "start_time": "2025-08-19T19:18:11.950453Z"
    }
   },
   "cell_type": "code",
   "source": [
    "def HistorialLaboralTabla_fcn(texto):\n",
    "    # Define the search string\n",
    "    BloqueInicio = 'Nombre del patrón'\n",
    "    BloqueFinal = '* Valor del último salario base de cotización diario en pesos.'\n",
    "\n",
    "    # Find occurrences of the start and end blocks\n",
    "    Inicio = [m.start() for m in re.finditer(re.escape(BloqueInicio), texto)]\n",
    "    Final = [m.start() for m in re.finditer(re.escape(BloqueFinal), texto)]\n",
    "    HistoriaLaboral = []\n",
    "\n",
    "    # Extract information between blocks\n",
    "    for start, end in zip(Inicio, Final):\n",
    "        substring = texto[start + len(BloqueInicio):end].strip()\n",
    "        output = [line.strip() for line in substring.splitlines() if len(line.strip()) > 1]\n",
    "        HistoriaLaboral.append(output)\n",
    "\n",
    "    # Initialize an empty DataFrame for the final table\n",
    "    target_strings = {'ALTA', 'REINGRESO', 'MODIFICACION', 'BAJA'}\n",
    "    Movimiento = list()\n",
    "    FechaMovimiento = list()\n",
    "    Sueldo = list()\n",
    "    Empleador = list()\n",
    "    EntidadFederativa = list()\n",
    "    for entry in HistoriaLaboral:\n",
    "        for line in entry:\n",
    "            # if any(string in line for string in target_strings):\n",
    "            if any(string in line.split()[0] for string in target_strings):\n",
    "                Empleador.append(entry[0])\n",
    "                EntidadFederativa.append(entry[2].split()[2:])\n",
    "                array = line.split()\n",
    "                if array[0] == 'MODIFICACION':\n",
    "                    Movimiento.append('MODIFICACION DE SALARIO')\n",
    "                else:\n",
    "                    Movimiento.append(array[0])\n",
    "                FechaMovimiento.append(array[-3])\n",
    "                Sueldo.append(array[-1])\n",
    "\n",
    "    # Convert 'Sueldo' elements to float before formatting\n",
    "    Sueldo_str = [convert_double_currency(float(valor)) for valor in Sueldo]\n",
    "    HistoriaLaboralTable_str = pd.DataFrame({\n",
    "        'Movimiento': Movimiento,\n",
    "        'Fecha de Movimiento': FechaMovimiento,\n",
    "        'Sueldo': Sueldo_str,\n",
    "        'Empleador': Empleador,\n",
    "        'Entidad Federativa': EntidadFederativa\n",
    "    })\n",
    "\n",
    "    HistoriaLaboralTable_str['Entidad Federativa'] = HistoriaLaboralTable_str['Entidad Federativa'].apply(lambda x: \" \".join(x))\n",
    "\n",
    "    HistoriaLaboralTable_num = HistoriaLaboralTable_str.copy()\n",
    "\n",
    "    HistoriaLaboralTable_str['Fecha de Movimiento'] = [format_spanish_date(date, date_type=\"format_string\") for date in FechaMovimiento]\n",
    "    HistoriaLaboralTable_num['Sueldo'] = Sueldo\n",
    "    return HistoriaLaboralTable_str, HistoriaLaboralTable_num\n",
    "\n",
    "HistoriaLaboralTable_str, HistorialLaboralTable_num = HistorialLaboralTabla_fcn(texto)\n",
    "\n",
    "display(HistorialLaboralTable_num.head())\n",
    "display(HistoriaLaboralTable_str.head())\n",
    "\n",
    "def HistorialLaboralDesglosada_fcn(HistoriaLaboralTable, sigueCotizando, FechasUltimaBaja):\n",
    "    Bajas = np.where(HistoriaLaboralTable['Movimiento'] == 'BAJA')[0]\n",
    "    FechaFinal = HistoriaLaboralTable['Fecha de Movimiento'].values\n",
    "    # We will apply the convertir_a_fecha function to the list FechaFinal\n",
    "    FechaFinal = [format_spanish_date(fecha, date_type=\"format_date\") for fecha in FechaFinal]\n",
    "\n",
    "    for idx in range(len(HistoriaLaboralTable)):\n",
    "        if idx not in Bajas:\n",
    "            FechaFinal[idx] =  FechaFinal[idx] - timedelta(days=1)\n",
    "\n",
    "    FechaFinal = np.roll(FechaFinal, 1)\n",
    "    if sigueCotizando:\n",
    "        FechaFinal[0] = FechasUltimaBaja\n",
    "#\n",
    "    HistoriaLaboralDesglosada = HistoriaLaboralTable.copy()\n",
    "    HistoriaLaboralDesglosada['Fecha Final'] = FechaFinal\n",
    "    HistoriaLaboralDesglosada.drop(Bajas, inplace=True)\n",
    "    HistoriaLaboralDesglosada = HistoriaLaboralDesglosada.rename(columns={\"Fecha de Movimiento\": \"Fecha Inicial\"})\n",
    "\n",
    "    HistoriaLaboralDesglosada[\"Fecha Inicial\"] = [format_spanish_date(fecha, date_type=\"format_date\") for fecha in HistoriaLaboralDesglosada[\"Fecha Inicial\"]]\n",
    "    HistoriaLaboralDesglosada[\"Fecha Inicial\"] = HistoriaLaboralDesglosada[\"Fecha Inicial\"] + timedelta(days = 1)\n",
    "\n",
    "#     # Move the column \"FechaFinal\" to be after \"FechaInicial\"\n",
    "    cols = list(HistoriaLaboralDesglosada.columns)\n",
    "    cols.insert(cols.index(\"Fecha Inicial\") + 1, cols.pop(cols.index(\"Fecha Final\")))\n",
    "    HistoriaLaboralDesglosada = HistoriaLaboralDesglosada[cols]\n",
    "\n",
    "    HistoriaLaboralDesglosada_str = HistoriaLaboralDesglosada.copy()\n",
    "    HistoriaLaboralDesglosada_str['Fecha Inicial'] = [format_spanish_date(str(date), date_type=\"format_string\") for date in HistoriaLaboralDesglosada['Fecha Inicial']]\n",
    "    HistoriaLaboralDesglosada_str['Fecha Final'] = [format_spanish_date(str(date), date_type=\"format_string\") for date in HistoriaLaboralDesglosada['Fecha Final']]\n",
    "    HistoriaLaboralDesglosada_str['Sueldo'] = [convert_double_currency(float(valor)) for valor in HistoriaLaboralDesglosada['Sueldo']]\n",
    "\n",
    "    return HistoriaLaboralDesglosada, HistoriaLaboralDesglosada_str\n",
    "#\n",
    "HistoriaLaboralTable, HistorialLaboralTable_str = HistorialLaboralDesglosada_fcn(HistorialLaboralTable_num, sigueCotizando, fechasUltimaBaja)\n",
    "\n",
    "display(HistoriaLaboralTable.head())\n",
    "display(HistorialLaboralTable_str.head())"
   ],
   "id": "7eb7dfa5d3724ebf",
   "outputs": [
    {
     "data": {
      "text/plain": [
       "                Movimiento Fecha de Movimiento  Sueldo  \\\n",
       "0                     BAJA          30/09/2020  128.79   \n",
       "1  MODIFICACION DE SALARIO          01/01/2020  128.79   \n",
       "2  MODIFICACION DE SALARIO          01/01/2019  107.32   \n",
       "3  MODIFICACION DE SALARIO          01/12/2017   92.35   \n",
       "4  MODIFICACION DE SALARIO          01/01/2017   83.66   \n",
       "\n",
       "                      Empleador Entidad Federativa  \n",
       "0  CARLOS DAVID ALFONZO UTRILLA            CHIAPAS  \n",
       "1  CARLOS DAVID ALFONZO UTRILLA            CHIAPAS  \n",
       "2  CARLOS DAVID ALFONZO UTRILLA            CHIAPAS  \n",
       "3  CARLOS DAVID ALFONZO UTRILLA            CHIAPAS  \n",
       "4  CARLOS DAVID ALFONZO UTRILLA            CHIAPAS  "
      ],
      "text/html": [
       "<div>\n",
       "<style scoped>\n",
       "    .dataframe tbody tr th:only-of-type {\n",
       "        vertical-align: middle;\n",
       "    }\n",
       "\n",
       "    .dataframe tbody tr th {\n",
       "        vertical-align: top;\n",
       "    }\n",
       "\n",
       "    .dataframe thead th {\n",
       "        text-align: right;\n",
       "    }\n",
       "</style>\n",
       "<table border=\"1\" class=\"dataframe\">\n",
       "  <thead>\n",
       "    <tr style=\"text-align: right;\">\n",
       "      <th></th>\n",
       "      <th>Movimiento</th>\n",
       "      <th>Fecha de Movimiento</th>\n",
       "      <th>Sueldo</th>\n",
       "      <th>Empleador</th>\n",
       "      <th>Entidad Federativa</th>\n",
       "    </tr>\n",
       "  </thead>\n",
       "  <tbody>\n",
       "    <tr>\n",
       "      <th>0</th>\n",
       "      <td>BAJA</td>\n",
       "      <td>30/09/2020</td>\n",
       "      <td>128.79</td>\n",
       "      <td>CARLOS DAVID ALFONZO UTRILLA</td>\n",
       "      <td>CHIAPAS</td>\n",
       "    </tr>\n",
       "    <tr>\n",
       "      <th>1</th>\n",
       "      <td>MODIFICACION DE SALARIO</td>\n",
       "      <td>01/01/2020</td>\n",
       "      <td>128.79</td>\n",
       "      <td>CARLOS DAVID ALFONZO UTRILLA</td>\n",
       "      <td>CHIAPAS</td>\n",
       "    </tr>\n",
       "    <tr>\n",
       "      <th>2</th>\n",
       "      <td>MODIFICACION DE SALARIO</td>\n",
       "      <td>01/01/2019</td>\n",
       "      <td>107.32</td>\n",
       "      <td>CARLOS DAVID ALFONZO UTRILLA</td>\n",
       "      <td>CHIAPAS</td>\n",
       "    </tr>\n",
       "    <tr>\n",
       "      <th>3</th>\n",
       "      <td>MODIFICACION DE SALARIO</td>\n",
       "      <td>01/12/2017</td>\n",
       "      <td>92.35</td>\n",
       "      <td>CARLOS DAVID ALFONZO UTRILLA</td>\n",
       "      <td>CHIAPAS</td>\n",
       "    </tr>\n",
       "    <tr>\n",
       "      <th>4</th>\n",
       "      <td>MODIFICACION DE SALARIO</td>\n",
       "      <td>01/01/2017</td>\n",
       "      <td>83.66</td>\n",
       "      <td>CARLOS DAVID ALFONZO UTRILLA</td>\n",
       "      <td>CHIAPAS</td>\n",
       "    </tr>\n",
       "  </tbody>\n",
       "</table>\n",
       "</div>"
      ]
     },
     "metadata": {},
     "output_type": "display_data"
    },
    {
     "data": {
      "text/plain": [
       "                Movimiento                  Fecha de Movimiento   Sueldo  \\\n",
       "0                     BAJA  Miércoles, 30 de septiembre de 2020  $128.79   \n",
       "1  MODIFICACION DE SALARIO        Miércoles, 1 de enero de 2020  $128.79   \n",
       "2  MODIFICACION DE SALARIO           Martes, 1 de enero de 2019  $107.32   \n",
       "3  MODIFICACION DE SALARIO      Viernes, 1 de diciembre de 2017   $92.35   \n",
       "4  MODIFICACION DE SALARIO          Domingo, 1 de enero de 2017   $83.66   \n",
       "\n",
       "                      Empleador Entidad Federativa  \n",
       "0  CARLOS DAVID ALFONZO UTRILLA            CHIAPAS  \n",
       "1  CARLOS DAVID ALFONZO UTRILLA            CHIAPAS  \n",
       "2  CARLOS DAVID ALFONZO UTRILLA            CHIAPAS  \n",
       "3  CARLOS DAVID ALFONZO UTRILLA            CHIAPAS  \n",
       "4  CARLOS DAVID ALFONZO UTRILLA            CHIAPAS  "
      ],
      "text/html": [
       "<div>\n",
       "<style scoped>\n",
       "    .dataframe tbody tr th:only-of-type {\n",
       "        vertical-align: middle;\n",
       "    }\n",
       "\n",
       "    .dataframe tbody tr th {\n",
       "        vertical-align: top;\n",
       "    }\n",
       "\n",
       "    .dataframe thead th {\n",
       "        text-align: right;\n",
       "    }\n",
       "</style>\n",
       "<table border=\"1\" class=\"dataframe\">\n",
       "  <thead>\n",
       "    <tr style=\"text-align: right;\">\n",
       "      <th></th>\n",
       "      <th>Movimiento</th>\n",
       "      <th>Fecha de Movimiento</th>\n",
       "      <th>Sueldo</th>\n",
       "      <th>Empleador</th>\n",
       "      <th>Entidad Federativa</th>\n",
       "    </tr>\n",
       "  </thead>\n",
       "  <tbody>\n",
       "    <tr>\n",
       "      <th>0</th>\n",
       "      <td>BAJA</td>\n",
       "      <td>Miércoles, 30 de septiembre de 2020</td>\n",
       "      <td>$128.79</td>\n",
       "      <td>CARLOS DAVID ALFONZO UTRILLA</td>\n",
       "      <td>CHIAPAS</td>\n",
       "    </tr>\n",
       "    <tr>\n",
       "      <th>1</th>\n",
       "      <td>MODIFICACION DE SALARIO</td>\n",
       "      <td>Miércoles, 1 de enero de 2020</td>\n",
       "      <td>$128.79</td>\n",
       "      <td>CARLOS DAVID ALFONZO UTRILLA</td>\n",
       "      <td>CHIAPAS</td>\n",
       "    </tr>\n",
       "    <tr>\n",
       "      <th>2</th>\n",
       "      <td>MODIFICACION DE SALARIO</td>\n",
       "      <td>Martes, 1 de enero de 2019</td>\n",
       "      <td>$107.32</td>\n",
       "      <td>CARLOS DAVID ALFONZO UTRILLA</td>\n",
       "      <td>CHIAPAS</td>\n",
       "    </tr>\n",
       "    <tr>\n",
       "      <th>3</th>\n",
       "      <td>MODIFICACION DE SALARIO</td>\n",
       "      <td>Viernes, 1 de diciembre de 2017</td>\n",
       "      <td>$92.35</td>\n",
       "      <td>CARLOS DAVID ALFONZO UTRILLA</td>\n",
       "      <td>CHIAPAS</td>\n",
       "    </tr>\n",
       "    <tr>\n",
       "      <th>4</th>\n",
       "      <td>MODIFICACION DE SALARIO</td>\n",
       "      <td>Domingo, 1 de enero de 2017</td>\n",
       "      <td>$83.66</td>\n",
       "      <td>CARLOS DAVID ALFONZO UTRILLA</td>\n",
       "      <td>CHIAPAS</td>\n",
       "    </tr>\n",
       "  </tbody>\n",
       "</table>\n",
       "</div>"
      ]
     },
     "metadata": {},
     "output_type": "display_data"
    },
    {
     "data": {
      "text/plain": [
       "                Movimiento Fecha Inicial Fecha Final  Sueldo  \\\n",
       "1  MODIFICACION DE SALARIO    2020-01-02  2020-09-30  128.79   \n",
       "2  MODIFICACION DE SALARIO    2019-01-02  2019-12-31  107.32   \n",
       "3  MODIFICACION DE SALARIO    2017-12-02  2018-12-31   92.35   \n",
       "4  MODIFICACION DE SALARIO    2017-01-02  2017-11-30   83.66   \n",
       "5  MODIFICACION DE SALARIO    2016-04-02  2016-12-31    80.0   \n",
       "\n",
       "                      Empleador Entidad Federativa  \n",
       "1  CARLOS DAVID ALFONZO UTRILLA            CHIAPAS  \n",
       "2  CARLOS DAVID ALFONZO UTRILLA            CHIAPAS  \n",
       "3  CARLOS DAVID ALFONZO UTRILLA            CHIAPAS  \n",
       "4  CARLOS DAVID ALFONZO UTRILLA            CHIAPAS  \n",
       "5  CARLOS DAVID ALFONZO UTRILLA            CHIAPAS  "
      ],
      "text/html": [
       "<div>\n",
       "<style scoped>\n",
       "    .dataframe tbody tr th:only-of-type {\n",
       "        vertical-align: middle;\n",
       "    }\n",
       "\n",
       "    .dataframe tbody tr th {\n",
       "        vertical-align: top;\n",
       "    }\n",
       "\n",
       "    .dataframe thead th {\n",
       "        text-align: right;\n",
       "    }\n",
       "</style>\n",
       "<table border=\"1\" class=\"dataframe\">\n",
       "  <thead>\n",
       "    <tr style=\"text-align: right;\">\n",
       "      <th></th>\n",
       "      <th>Movimiento</th>\n",
       "      <th>Fecha Inicial</th>\n",
       "      <th>Fecha Final</th>\n",
       "      <th>Sueldo</th>\n",
       "      <th>Empleador</th>\n",
       "      <th>Entidad Federativa</th>\n",
       "    </tr>\n",
       "  </thead>\n",
       "  <tbody>\n",
       "    <tr>\n",
       "      <th>1</th>\n",
       "      <td>MODIFICACION DE SALARIO</td>\n",
       "      <td>2020-01-02</td>\n",
       "      <td>2020-09-30</td>\n",
       "      <td>128.79</td>\n",
       "      <td>CARLOS DAVID ALFONZO UTRILLA</td>\n",
       "      <td>CHIAPAS</td>\n",
       "    </tr>\n",
       "    <tr>\n",
       "      <th>2</th>\n",
       "      <td>MODIFICACION DE SALARIO</td>\n",
       "      <td>2019-01-02</td>\n",
       "      <td>2019-12-31</td>\n",
       "      <td>107.32</td>\n",
       "      <td>CARLOS DAVID ALFONZO UTRILLA</td>\n",
       "      <td>CHIAPAS</td>\n",
       "    </tr>\n",
       "    <tr>\n",
       "      <th>3</th>\n",
       "      <td>MODIFICACION DE SALARIO</td>\n",
       "      <td>2017-12-02</td>\n",
       "      <td>2018-12-31</td>\n",
       "      <td>92.35</td>\n",
       "      <td>CARLOS DAVID ALFONZO UTRILLA</td>\n",
       "      <td>CHIAPAS</td>\n",
       "    </tr>\n",
       "    <tr>\n",
       "      <th>4</th>\n",
       "      <td>MODIFICACION DE SALARIO</td>\n",
       "      <td>2017-01-02</td>\n",
       "      <td>2017-11-30</td>\n",
       "      <td>83.66</td>\n",
       "      <td>CARLOS DAVID ALFONZO UTRILLA</td>\n",
       "      <td>CHIAPAS</td>\n",
       "    </tr>\n",
       "    <tr>\n",
       "      <th>5</th>\n",
       "      <td>MODIFICACION DE SALARIO</td>\n",
       "      <td>2016-04-02</td>\n",
       "      <td>2016-12-31</td>\n",
       "      <td>80.0</td>\n",
       "      <td>CARLOS DAVID ALFONZO UTRILLA</td>\n",
       "      <td>CHIAPAS</td>\n",
       "    </tr>\n",
       "  </tbody>\n",
       "</table>\n",
       "</div>"
      ]
     },
     "metadata": {},
     "output_type": "display_data"
    },
    {
     "data": {
      "text/plain": [
       "                Movimiento                   Fecha Inicial  \\\n",
       "1  MODIFICACION DE SALARIO      Jueves, 2 de enero de 2020   \n",
       "2  MODIFICACION DE SALARIO   Miércoles, 2 de enero de 2019   \n",
       "3  MODIFICACION DE SALARIO  Sábado, 2 de diciembre de 2017   \n",
       "4  MODIFICACION DE SALARIO       Lunes, 2 de enero de 2017   \n",
       "5  MODIFICACION DE SALARIO      Sábado, 2 de abril de 2016   \n",
       "\n",
       "                           Fecha Final   Sueldo                     Empleador  \\\n",
       "1  Miércoles, 30 de septiembre de 2020  $128.79  CARLOS DAVID ALFONZO UTRILLA   \n",
       "2      Martes, 31 de diciembre de 2019  $107.32  CARLOS DAVID ALFONZO UTRILLA   \n",
       "3       Lunes, 31 de diciembre de 2018   $92.35  CARLOS DAVID ALFONZO UTRILLA   \n",
       "4      Jueves, 30 de noviembre de 2017   $83.66  CARLOS DAVID ALFONZO UTRILLA   \n",
       "5      Sábado, 31 de diciembre de 2016   $80.00  CARLOS DAVID ALFONZO UTRILLA   \n",
       "\n",
       "  Entidad Federativa  \n",
       "1            CHIAPAS  \n",
       "2            CHIAPAS  \n",
       "3            CHIAPAS  \n",
       "4            CHIAPAS  \n",
       "5            CHIAPAS  "
      ],
      "text/html": [
       "<div>\n",
       "<style scoped>\n",
       "    .dataframe tbody tr th:only-of-type {\n",
       "        vertical-align: middle;\n",
       "    }\n",
       "\n",
       "    .dataframe tbody tr th {\n",
       "        vertical-align: top;\n",
       "    }\n",
       "\n",
       "    .dataframe thead th {\n",
       "        text-align: right;\n",
       "    }\n",
       "</style>\n",
       "<table border=\"1\" class=\"dataframe\">\n",
       "  <thead>\n",
       "    <tr style=\"text-align: right;\">\n",
       "      <th></th>\n",
       "      <th>Movimiento</th>\n",
       "      <th>Fecha Inicial</th>\n",
       "      <th>Fecha Final</th>\n",
       "      <th>Sueldo</th>\n",
       "      <th>Empleador</th>\n",
       "      <th>Entidad Federativa</th>\n",
       "    </tr>\n",
       "  </thead>\n",
       "  <tbody>\n",
       "    <tr>\n",
       "      <th>1</th>\n",
       "      <td>MODIFICACION DE SALARIO</td>\n",
       "      <td>Jueves, 2 de enero de 2020</td>\n",
       "      <td>Miércoles, 30 de septiembre de 2020</td>\n",
       "      <td>$128.79</td>\n",
       "      <td>CARLOS DAVID ALFONZO UTRILLA</td>\n",
       "      <td>CHIAPAS</td>\n",
       "    </tr>\n",
       "    <tr>\n",
       "      <th>2</th>\n",
       "      <td>MODIFICACION DE SALARIO</td>\n",
       "      <td>Miércoles, 2 de enero de 2019</td>\n",
       "      <td>Martes, 31 de diciembre de 2019</td>\n",
       "      <td>$107.32</td>\n",
       "      <td>CARLOS DAVID ALFONZO UTRILLA</td>\n",
       "      <td>CHIAPAS</td>\n",
       "    </tr>\n",
       "    <tr>\n",
       "      <th>3</th>\n",
       "      <td>MODIFICACION DE SALARIO</td>\n",
       "      <td>Sábado, 2 de diciembre de 2017</td>\n",
       "      <td>Lunes, 31 de diciembre de 2018</td>\n",
       "      <td>$92.35</td>\n",
       "      <td>CARLOS DAVID ALFONZO UTRILLA</td>\n",
       "      <td>CHIAPAS</td>\n",
       "    </tr>\n",
       "    <tr>\n",
       "      <th>4</th>\n",
       "      <td>MODIFICACION DE SALARIO</td>\n",
       "      <td>Lunes, 2 de enero de 2017</td>\n",
       "      <td>Jueves, 30 de noviembre de 2017</td>\n",
       "      <td>$83.66</td>\n",
       "      <td>CARLOS DAVID ALFONZO UTRILLA</td>\n",
       "      <td>CHIAPAS</td>\n",
       "    </tr>\n",
       "    <tr>\n",
       "      <th>5</th>\n",
       "      <td>MODIFICACION DE SALARIO</td>\n",
       "      <td>Sábado, 2 de abril de 2016</td>\n",
       "      <td>Sábado, 31 de diciembre de 2016</td>\n",
       "      <td>$80.00</td>\n",
       "      <td>CARLOS DAVID ALFONZO UTRILLA</td>\n",
       "      <td>CHIAPAS</td>\n",
       "    </tr>\n",
       "  </tbody>\n",
       "</table>\n",
       "</div>"
      ]
     },
     "metadata": {},
     "output_type": "display_data"
    }
   ],
   "execution_count": 10
  },
  {
   "metadata": {},
   "cell_type": "markdown",
   "source": "# Tabla de Salarios\n",
   "id": "9bdff0e7d4e6c6ae"
  },
  {
   "metadata": {
    "ExecuteTime": {
     "end_time": "2025-08-19T19:18:12.327016Z",
     "start_time": "2025-08-19T19:18:12.312250Z"
    }
   },
   "cell_type": "code",
   "source": [
    "def salario_promedio_250tabla(HistoriaLaboralDesglosada):\n",
    "    salario_promedio_250 = HistoriaLaboralDesglosada[[\"Fecha Inicial\", \"Fecha Final\", \"Sueldo\"]]\n",
    "    salario_promedio_250 = salario_promedio_250.sort_values(by=[\"Fecha Inicial\", \"Fecha Final\"], ascending=[False, False])\n",
    "\n",
    "    salario_promedio_250_str = salario_promedio_250.copy()\n",
    "    salario_promedio_250_str['Fecha Inicial'] = [format_spanish_date(str(date), date_type=\"format_string\") for date in salario_promedio_250['Fecha Inicial']]\n",
    "    salario_promedio_250_str['Fecha Final'] = [format_spanish_date(str(date), date_type=\"format_string\") for date in salario_promedio_250['Fecha Final']]\n",
    "    salario_promedio_250_str['Sueldo'] = [convert_double_currency(float(valor)) for valor in salario_promedio_250['Sueldo']]\n",
    "\n",
    "    return salario_promedio_250, salario_promedio_250_str\n",
    "\n",
    "tabla_salarios_date, tabla_salarios_str = salario_promedio_250tabla(HistoriaLaboralTable)\n",
    "display(tabla_salarios_date.head())\n",
    "display(tabla_salarios_str.head())"
   ],
   "id": "b88858c49d0a5dbc",
   "outputs": [
    {
     "data": {
      "text/plain": [
       "  Fecha Inicial Fecha Final  Sueldo\n",
       "1    2020-01-02  2020-09-30  128.79\n",
       "2    2019-01-02  2019-12-31  107.32\n",
       "3    2017-12-02  2018-12-31   92.35\n",
       "4    2017-01-02  2017-11-30   83.66\n",
       "5    2016-04-02  2016-12-31    80.0"
      ],
      "text/html": [
       "<div>\n",
       "<style scoped>\n",
       "    .dataframe tbody tr th:only-of-type {\n",
       "        vertical-align: middle;\n",
       "    }\n",
       "\n",
       "    .dataframe tbody tr th {\n",
       "        vertical-align: top;\n",
       "    }\n",
       "\n",
       "    .dataframe thead th {\n",
       "        text-align: right;\n",
       "    }\n",
       "</style>\n",
       "<table border=\"1\" class=\"dataframe\">\n",
       "  <thead>\n",
       "    <tr style=\"text-align: right;\">\n",
       "      <th></th>\n",
       "      <th>Fecha Inicial</th>\n",
       "      <th>Fecha Final</th>\n",
       "      <th>Sueldo</th>\n",
       "    </tr>\n",
       "  </thead>\n",
       "  <tbody>\n",
       "    <tr>\n",
       "      <th>1</th>\n",
       "      <td>2020-01-02</td>\n",
       "      <td>2020-09-30</td>\n",
       "      <td>128.79</td>\n",
       "    </tr>\n",
       "    <tr>\n",
       "      <th>2</th>\n",
       "      <td>2019-01-02</td>\n",
       "      <td>2019-12-31</td>\n",
       "      <td>107.32</td>\n",
       "    </tr>\n",
       "    <tr>\n",
       "      <th>3</th>\n",
       "      <td>2017-12-02</td>\n",
       "      <td>2018-12-31</td>\n",
       "      <td>92.35</td>\n",
       "    </tr>\n",
       "    <tr>\n",
       "      <th>4</th>\n",
       "      <td>2017-01-02</td>\n",
       "      <td>2017-11-30</td>\n",
       "      <td>83.66</td>\n",
       "    </tr>\n",
       "    <tr>\n",
       "      <th>5</th>\n",
       "      <td>2016-04-02</td>\n",
       "      <td>2016-12-31</td>\n",
       "      <td>80.0</td>\n",
       "    </tr>\n",
       "  </tbody>\n",
       "</table>\n",
       "</div>"
      ]
     },
     "metadata": {},
     "output_type": "display_data"
    },
    {
     "data": {
      "text/plain": [
       "                    Fecha Inicial                          Fecha Final  \\\n",
       "1      Jueves, 2 de enero de 2020  Miércoles, 30 de septiembre de 2020   \n",
       "2   Miércoles, 2 de enero de 2019      Martes, 31 de diciembre de 2019   \n",
       "3  Sábado, 2 de diciembre de 2017       Lunes, 31 de diciembre de 2018   \n",
       "4       Lunes, 2 de enero de 2017      Jueves, 30 de noviembre de 2017   \n",
       "5      Sábado, 2 de abril de 2016      Sábado, 31 de diciembre de 2016   \n",
       "\n",
       "    Sueldo  \n",
       "1  $128.79  \n",
       "2  $107.32  \n",
       "3   $92.35  \n",
       "4   $83.66  \n",
       "5   $80.00  "
      ],
      "text/html": [
       "<div>\n",
       "<style scoped>\n",
       "    .dataframe tbody tr th:only-of-type {\n",
       "        vertical-align: middle;\n",
       "    }\n",
       "\n",
       "    .dataframe tbody tr th {\n",
       "        vertical-align: top;\n",
       "    }\n",
       "\n",
       "    .dataframe thead th {\n",
       "        text-align: right;\n",
       "    }\n",
       "</style>\n",
       "<table border=\"1\" class=\"dataframe\">\n",
       "  <thead>\n",
       "    <tr style=\"text-align: right;\">\n",
       "      <th></th>\n",
       "      <th>Fecha Inicial</th>\n",
       "      <th>Fecha Final</th>\n",
       "      <th>Sueldo</th>\n",
       "    </tr>\n",
       "  </thead>\n",
       "  <tbody>\n",
       "    <tr>\n",
       "      <th>1</th>\n",
       "      <td>Jueves, 2 de enero de 2020</td>\n",
       "      <td>Miércoles, 30 de septiembre de 2020</td>\n",
       "      <td>$128.79</td>\n",
       "    </tr>\n",
       "    <tr>\n",
       "      <th>2</th>\n",
       "      <td>Miércoles, 2 de enero de 2019</td>\n",
       "      <td>Martes, 31 de diciembre de 2019</td>\n",
       "      <td>$107.32</td>\n",
       "    </tr>\n",
       "    <tr>\n",
       "      <th>3</th>\n",
       "      <td>Sábado, 2 de diciembre de 2017</td>\n",
       "      <td>Lunes, 31 de diciembre de 2018</td>\n",
       "      <td>$92.35</td>\n",
       "    </tr>\n",
       "    <tr>\n",
       "      <th>4</th>\n",
       "      <td>Lunes, 2 de enero de 2017</td>\n",
       "      <td>Jueves, 30 de noviembre de 2017</td>\n",
       "      <td>$83.66</td>\n",
       "    </tr>\n",
       "    <tr>\n",
       "      <th>5</th>\n",
       "      <td>Sábado, 2 de abril de 2016</td>\n",
       "      <td>Sábado, 31 de diciembre de 2016</td>\n",
       "      <td>$80.00</td>\n",
       "    </tr>\n",
       "  </tbody>\n",
       "</table>\n",
       "</div>"
      ]
     },
     "metadata": {},
     "output_type": "display_data"
    }
   ],
   "execution_count": 11
  },
  {
   "metadata": {},
   "cell_type": "markdown",
   "source": "# Salarios Modificados (Modalidad 40)",
   "id": "23d7dbec8b42c178"
  },
  {
   "metadata": {
    "ExecuteTime": {
     "end_time": "2025-08-19T19:18:12.512022Z",
     "start_time": "2025-08-19T19:18:12.501878Z"
    }
   },
   "cell_type": "code",
   "source": [
    "fecha_inicio = pd.to_datetime('2020-10-01').date()\n",
    "fecha_final = pd.to_datetime('2023-10-31').date()\n",
    "salario = 2172.0\n",
    "\n",
    "def tabla_salarios_modificada(tabla_salarios_original,fecha_inicio, fecha_final, salario):\n",
    "    nueva_fila = {'Fecha Inicial': fecha_inicio, 'Fecha Final': fecha_final, 'Sueldo': salario}\n",
    "    nueva_tabla = pd.concat([tabla_salarios_original, pd.DataFrame([nueva_fila])], ignore_index=True)\n",
    "    # We will sort by the column \"Fecha Inicial\"\n",
    "    nueva_tabla = nueva_tabla.sort_values(by=[\"Fecha Inicial\"], ascending=[False])\n",
    "    # We will change the date format for the first column\n",
    "    nueva_tabla['Fecha Inicial'] = pd.to_datetime(nueva_tabla['Fecha Inicial'], format='%d/%m/%Y').dt.date\n",
    "    # we will change the date format for the second column, from day/month/year to year-month-day\n",
    "    nueva_tabla['Fecha Final'] = pd.to_datetime(nueva_tabla['Fecha Final'], format='%d/%b/%Y').dt.date\n",
    "\n",
    "    nueva_tabla_str = nueva_tabla.copy()\n",
    "    nueva_tabla_str['Fecha Inicial'] = [format_spanish_date(str(date), date_type=\"format_string\") for date in nueva_tabla['Fecha Inicial']]\n",
    "    nueva_tabla_str['Fecha Final'] = [format_spanish_date(str(date), date_type=\"format_string\") for date in nueva_tabla['Fecha Final']]\n",
    "    nueva_tabla_str['Sueldo'] = [convert_double_currency(float(valor)) for valor in nueva_tabla['Sueldo']]\n",
    "    return nueva_tabla, nueva_tabla_str\n",
    "\n",
    "nueva_tabla_salarios, nueva_tabla_salarios_str = tabla_salarios_modificada(tabla_salarios_original=tabla_salarios_date,\n",
    "                          fecha_inicio=fecha_inicio,\n",
    "                          fecha_final=fecha_final,\n",
    "                          salario=salario)\n",
    "\n",
    "display(nueva_tabla_salarios_str.head())"
   ],
   "id": "7047b0a7d24dd936",
   "outputs": [
    {
     "data": {
      "text/plain": [
       "                     Fecha Inicial                          Fecha Final  \\\n",
       "16    Jueves, 1 de octubre de 2020        Martes, 31 de octubre de 2023   \n",
       "0       Jueves, 2 de enero de 2020  Miércoles, 30 de septiembre de 2020   \n",
       "1    Miércoles, 2 de enero de 2019      Martes, 31 de diciembre de 2019   \n",
       "2   Sábado, 2 de diciembre de 2017       Lunes, 31 de diciembre de 2018   \n",
       "3        Lunes, 2 de enero de 2017      Jueves, 30 de noviembre de 2017   \n",
       "\n",
       "       Sueldo  \n",
       "16  $2,172.00  \n",
       "0     $128.79  \n",
       "1     $107.32  \n",
       "2      $92.35  \n",
       "3      $83.66  "
      ],
      "text/html": [
       "<div>\n",
       "<style scoped>\n",
       "    .dataframe tbody tr th:only-of-type {\n",
       "        vertical-align: middle;\n",
       "    }\n",
       "\n",
       "    .dataframe tbody tr th {\n",
       "        vertical-align: top;\n",
       "    }\n",
       "\n",
       "    .dataframe thead th {\n",
       "        text-align: right;\n",
       "    }\n",
       "</style>\n",
       "<table border=\"1\" class=\"dataframe\">\n",
       "  <thead>\n",
       "    <tr style=\"text-align: right;\">\n",
       "      <th></th>\n",
       "      <th>Fecha Inicial</th>\n",
       "      <th>Fecha Final</th>\n",
       "      <th>Sueldo</th>\n",
       "    </tr>\n",
       "  </thead>\n",
       "  <tbody>\n",
       "    <tr>\n",
       "      <th>16</th>\n",
       "      <td>Jueves, 1 de octubre de 2020</td>\n",
       "      <td>Martes, 31 de octubre de 2023</td>\n",
       "      <td>$2,172.00</td>\n",
       "    </tr>\n",
       "    <tr>\n",
       "      <th>0</th>\n",
       "      <td>Jueves, 2 de enero de 2020</td>\n",
       "      <td>Miércoles, 30 de septiembre de 2020</td>\n",
       "      <td>$128.79</td>\n",
       "    </tr>\n",
       "    <tr>\n",
       "      <th>1</th>\n",
       "      <td>Miércoles, 2 de enero de 2019</td>\n",
       "      <td>Martes, 31 de diciembre de 2019</td>\n",
       "      <td>$107.32</td>\n",
       "    </tr>\n",
       "    <tr>\n",
       "      <th>2</th>\n",
       "      <td>Sábado, 2 de diciembre de 2017</td>\n",
       "      <td>Lunes, 31 de diciembre de 2018</td>\n",
       "      <td>$92.35</td>\n",
       "    </tr>\n",
       "    <tr>\n",
       "      <th>3</th>\n",
       "      <td>Lunes, 2 de enero de 2017</td>\n",
       "      <td>Jueves, 30 de noviembre de 2017</td>\n",
       "      <td>$83.66</td>\n",
       "    </tr>\n",
       "  </tbody>\n",
       "</table>\n",
       "</div>"
      ]
     },
     "metadata": {},
     "output_type": "display_data"
    }
   ],
   "execution_count": 12
  },
  {
   "metadata": {},
   "cell_type": "markdown",
   "source": [
    "## Tabla de salarios promedios para el cálculo de las últimas 250 semanas\n",
    "\n"
   ],
   "id": "e028423f559d0ec6"
  },
  {
   "metadata": {
    "ExecuteTime": {
     "end_time": "2025-08-19T19:18:12.667567Z",
     "start_time": "2025-08-19T19:18:12.647646Z"
    }
   },
   "cell_type": "code",
   "source": [
    "def salario_promedio_fcn(semanas_contar, semanas_reconocidas, tabla_salarios):\n",
    "    if semanas_contar == 0:\n",
    "        return 0, pd.DataFrame()\n",
    "  # Reset the index of salario_promedio_250 to ensure it starts from 0\n",
    "    tabla_salarios = tabla_salarios.reset_index(drop=True)\n",
    "    # Convert Fecha Inicial and Fecha Final columns to datetime.date\n",
    "    tabla_salarios['Fecha Inicial'] = pd.to_datetime(tabla_salarios['Fecha Inicial']).dt.date\n",
    "    tabla_salarios['Fecha Final'] = pd.to_datetime(tabla_salarios['Fecha Final']).dt.date\n",
    "    # Initialize necessary variables\n",
    "    salario_acumulado_periodo = np.zeros(len(tabla_salarios['Fecha Inicial']))\n",
    "    fecha_superior = tabla_salarios['Fecha Final']\n",
    "    fecha_inferior = tabla_salarios['Fecha Inicial']\n",
    "    salario_diario =  np.array(tabla_salarios['Sueldo']).astype(float)\n",
    "    semanas_periodo = salario_acumulado_periodo.copy()\n",
    "    fecha_corte = [None] * len(fecha_superior)\n",
    "    semanas_acumuladas = salario_acumulado_periodo.copy()\n",
    "    semanas_cuenta = salario_acumulado_periodo.copy()\n",
    "\n",
    "    for idx in range(len(fecha_superior)):\n",
    "        # Calculate weeks in each period\n",
    "        semanas_periodo[idx] = (fecha_superior[idx] - fecha_inferior[idx]).days / 7 + 1 / 7\n",
    "        if idx == 0:\n",
    "            if semanas_periodo[idx] <= semanas_contar:\n",
    "                fecha_corte[idx] = fecha_inferior[idx]\n",
    "            else:\n",
    "                fecha_corte[idx] = fecha_superior[idx] - timedelta(weeks=semanas_contar)\n",
    "\n",
    "            semanas_cuenta[idx] = (fecha_superior[idx] - fecha_inferior[idx]).days / 7 + 1 / 7\n",
    "            semanas_acumuladas[idx] = semanas_periodo[idx]\n",
    "        else:\n",
    "            semanas_acumuladas[idx] = semanas_periodo[idx]\n",
    "\n",
    "            if semanas_acumuladas[idx - 1] < semanas_contar:\n",
    "                if semanas_acumuladas[idx - 1] + semanas_periodo[idx] < semanas_contar:\n",
    "                    if fecha_corte[idx - 1] is None:  # Check if previous fecha_corte is None\n",
    "                        fecha_corte[idx] = fecha_inferior[idx]  # Use fecha_inferior if previous is None\n",
    "                    else:\n",
    "                        fecha_corte[idx] = min(fecha_corte[idx - 1], fecha_inferior[idx])  # Use min if previous is not None\n",
    "\n",
    "                else:\n",
    "                    fecha_corte[idx] = fecha_superior[idx] - timedelta(weeks=(semanas_contar - semanas_acumuladas[idx - 1]))\n",
    "            else:\n",
    "                fecha_corte[idx] = fecha_corte[idx - 1]\n",
    "\n",
    "            if fecha_corte[idx] > fecha_superior[idx]:\n",
    "                semanas_cuenta[idx] = 0\n",
    "            else:\n",
    "                semanas_cuenta[idx] = (fecha_superior[idx] - max(fecha_corte[idx], fecha_inferior[idx])).days / 7 + 2 / 7\n",
    "\n",
    "            if semanas_acumuladas[idx - 1] == semanas_contar:\n",
    "                semanas_acumuladas[idx] = semanas_contar\n",
    "            else:\n",
    "                if semanas_acumuladas[idx - 1] + semanas_cuenta[idx] > semanas_contar:\n",
    "                    semanas_acumuladas[idx] = semanas_contar\n",
    "                else:\n",
    "                    if fecha_corte[idx] != fecha_inferior[idx]:\n",
    "                        semanas_acumuladas[idx] = semanas_acumuladas[idx - 1] + (max(fecha_corte[idx - 1], fecha_superior[idx]) - fecha_corte[idx]).days / 7 + 1 / 7\n",
    "                    else:\n",
    "                        semanas_acumuladas[idx] = semanas_acumuladas[idx - 1] + (min(fecha_corte[idx - 1], fecha_superior[idx]) - fecha_corte[idx]).days / 7 + 1 / 7\n",
    "\n",
    "        salario_acumulado_periodo[idx] = salario_diario[idx] * 7 * semanas_cuenta[idx] if semanas_cuenta[idx] > 0 else 0\n",
    "\n",
    "    tabla_salario_promedio = pd.DataFrame({\n",
    "        'Fecha Inicio': fecha_inferior,\n",
    "        'Fecha Final': fecha_superior,\n",
    "        # Convert to string with currency format\n",
    "        'Salario Diario': salario_diario,\n",
    "        'Semanas totales en el periodo': np.round(semanas_periodo, 1),\n",
    "        'Fecha de Corte': pd.to_datetime(fecha_corte),\n",
    "        'Semanas tomadas en cuenta': np.round(semanas_cuenta, 1),\n",
    "        'Salario Acumulado en el Periodo': salario_acumulado_periodo,\n",
    "        'Semanas Acumuladas Totales': np.round(semanas_acumuladas, 1)\n",
    "    })\n",
    "    tabla_salario_promedio['Fecha de Corte'] = tabla_salario_promedio['Fecha de Corte'].dt.date\n",
    "    salario_acumulado = np.sum(salario_acumulado_periodo)\n",
    "\n",
    "    if semanas_reconocidas < semanas_contar:\n",
    "        salario_promedio_diario = salario_acumulado / (semanas_reconocidas * 7)\n",
    "    else:\n",
    "        salario_promedio_diario = salario_acumulado / (semanas_contar * 7)\n",
    "\n",
    "    tabla_salario_promedio_str = tabla_salario_promedio.copy()\n",
    "    tabla_salario_promedio_str['Salario Diario'] = [convert_double_currency(value) for value in tabla_salario_promedio_str['Salario Diario']]\n",
    "    tabla_salario_promedio_str['Salario Acumulado en el Periodo'] = [convert_double_currency(value) for value in tabla_salario_promedio_str['Salario Acumulado en el Periodo']]\n",
    "    tabla_salario_promedio_str['Fecha Inicio'] = [format_spanish_date(str(date), date_type=\"format_string\") for date in tabla_salario_promedio_str['Fecha Inicio']]\n",
    "    tabla_salario_promedio_str['Fecha Final'] = [format_spanish_date(str(date), date_type=\"format_string\") for date in tabla_salario_promedio_str['Fecha Final']]\n",
    "\n",
    "    return salario_promedio_diario, tabla_salario_promedio, tabla_salario_promedio_str\n",
    "\n",
    "# Example usage\n",
    "SEMANAS_CONTAR = 250\n",
    "SemanasReconocidas = Usuario.semanas_totales\n",
    "SALARIO_PROMEDIO_DIARIO, tabla_salario_promedio_num, tabla_salario_promedio_str = salario_promedio_fcn(semanas_contar=SEMANAS_CONTAR,\n",
    "                                                                                                        semanas_reconocidas=SemanasReconocidas,\n",
    "                                                                                                       tabla_salarios=tabla_salarios_date)\n",
    "\n",
    "display(tabla_salario_promedio_num.head())\n",
    "display(tabla_salario_promedio_str.head())\n",
    "print(f\"Salario Promedio:\\n{round(SALARIO_PROMEDIO_DIARIO, 1)}\")"
   ],
   "id": "ed4c920edbc0512e",
   "outputs": [
    {
     "data": {
      "text/plain": [
       "  Fecha Inicio Fecha Final  Salario Diario  Semanas totales en el periodo  \\\n",
       "0   2020-01-02  2020-09-30          128.79                           39.0   \n",
       "1   2019-01-02  2019-12-31          107.32                           52.0   \n",
       "2   2017-12-02  2018-12-31           92.35                           56.4   \n",
       "3   2017-01-02  2017-11-30           83.66                           47.6   \n",
       "4   2016-04-02  2016-12-31           80.00                           39.1   \n",
       "\n",
       "  Fecha de Corte  Semanas tomadas en cuenta  Salario Acumulado en el Periodo  \\\n",
       "0     2020-01-02                       39.0                         35159.67   \n",
       "1     2019-01-02                       52.1                         39171.80   \n",
       "2     2017-12-02                       56.6                         36570.60   \n",
       "3     2017-01-02                       47.7                         27942.44   \n",
       "4     2016-04-02                       39.3                         22000.00   \n",
       "\n",
       "   Semanas Acumuladas Totales  \n",
       "0                        39.0  \n",
       "1                        91.0  \n",
       "2                       147.4  \n",
       "3                       195.0  \n",
       "4                       234.1  "
      ],
      "text/html": [
       "<div>\n",
       "<style scoped>\n",
       "    .dataframe tbody tr th:only-of-type {\n",
       "        vertical-align: middle;\n",
       "    }\n",
       "\n",
       "    .dataframe tbody tr th {\n",
       "        vertical-align: top;\n",
       "    }\n",
       "\n",
       "    .dataframe thead th {\n",
       "        text-align: right;\n",
       "    }\n",
       "</style>\n",
       "<table border=\"1\" class=\"dataframe\">\n",
       "  <thead>\n",
       "    <tr style=\"text-align: right;\">\n",
       "      <th></th>\n",
       "      <th>Fecha Inicio</th>\n",
       "      <th>Fecha Final</th>\n",
       "      <th>Salario Diario</th>\n",
       "      <th>Semanas totales en el periodo</th>\n",
       "      <th>Fecha de Corte</th>\n",
       "      <th>Semanas tomadas en cuenta</th>\n",
       "      <th>Salario Acumulado en el Periodo</th>\n",
       "      <th>Semanas Acumuladas Totales</th>\n",
       "    </tr>\n",
       "  </thead>\n",
       "  <tbody>\n",
       "    <tr>\n",
       "      <th>0</th>\n",
       "      <td>2020-01-02</td>\n",
       "      <td>2020-09-30</td>\n",
       "      <td>128.79</td>\n",
       "      <td>39.0</td>\n",
       "      <td>2020-01-02</td>\n",
       "      <td>39.0</td>\n",
       "      <td>35159.67</td>\n",
       "      <td>39.0</td>\n",
       "    </tr>\n",
       "    <tr>\n",
       "      <th>1</th>\n",
       "      <td>2019-01-02</td>\n",
       "      <td>2019-12-31</td>\n",
       "      <td>107.32</td>\n",
       "      <td>52.0</td>\n",
       "      <td>2019-01-02</td>\n",
       "      <td>52.1</td>\n",
       "      <td>39171.80</td>\n",
       "      <td>91.0</td>\n",
       "    </tr>\n",
       "    <tr>\n",
       "      <th>2</th>\n",
       "      <td>2017-12-02</td>\n",
       "      <td>2018-12-31</td>\n",
       "      <td>92.35</td>\n",
       "      <td>56.4</td>\n",
       "      <td>2017-12-02</td>\n",
       "      <td>56.6</td>\n",
       "      <td>36570.60</td>\n",
       "      <td>147.4</td>\n",
       "    </tr>\n",
       "    <tr>\n",
       "      <th>3</th>\n",
       "      <td>2017-01-02</td>\n",
       "      <td>2017-11-30</td>\n",
       "      <td>83.66</td>\n",
       "      <td>47.6</td>\n",
       "      <td>2017-01-02</td>\n",
       "      <td>47.7</td>\n",
       "      <td>27942.44</td>\n",
       "      <td>195.0</td>\n",
       "    </tr>\n",
       "    <tr>\n",
       "      <th>4</th>\n",
       "      <td>2016-04-02</td>\n",
       "      <td>2016-12-31</td>\n",
       "      <td>80.00</td>\n",
       "      <td>39.1</td>\n",
       "      <td>2016-04-02</td>\n",
       "      <td>39.3</td>\n",
       "      <td>22000.00</td>\n",
       "      <td>234.1</td>\n",
       "    </tr>\n",
       "  </tbody>\n",
       "</table>\n",
       "</div>"
      ]
     },
     "metadata": {},
     "output_type": "display_data"
    },
    {
     "data": {
      "text/plain": [
       "                     Fecha Inicio                          Fecha Final  \\\n",
       "0      Jueves, 2 de enero de 2020  Miércoles, 30 de septiembre de 2020   \n",
       "1   Miércoles, 2 de enero de 2019      Martes, 31 de diciembre de 2019   \n",
       "2  Sábado, 2 de diciembre de 2017       Lunes, 31 de diciembre de 2018   \n",
       "3       Lunes, 2 de enero de 2017      Jueves, 30 de noviembre de 2017   \n",
       "4      Sábado, 2 de abril de 2016      Sábado, 31 de diciembre de 2016   \n",
       "\n",
       "  Salario Diario  Semanas totales en el periodo Fecha de Corte  \\\n",
       "0        $128.79                           39.0     2020-01-02   \n",
       "1        $107.32                           52.0     2019-01-02   \n",
       "2         $92.35                           56.4     2017-12-02   \n",
       "3         $83.66                           47.6     2017-01-02   \n",
       "4         $80.00                           39.1     2016-04-02   \n",
       "\n",
       "   Semanas tomadas en cuenta Salario Acumulado en el Periodo  \\\n",
       "0                       39.0                      $35,159.67   \n",
       "1                       52.1                      $39,171.80   \n",
       "2                       56.6                      $36,570.60   \n",
       "3                       47.7                      $27,942.44   \n",
       "4                       39.3                      $22,000.00   \n",
       "\n",
       "   Semanas Acumuladas Totales  \n",
       "0                        39.0  \n",
       "1                        91.0  \n",
       "2                       147.4  \n",
       "3                       195.0  \n",
       "4                       234.1  "
      ],
      "text/html": [
       "<div>\n",
       "<style scoped>\n",
       "    .dataframe tbody tr th:only-of-type {\n",
       "        vertical-align: middle;\n",
       "    }\n",
       "\n",
       "    .dataframe tbody tr th {\n",
       "        vertical-align: top;\n",
       "    }\n",
       "\n",
       "    .dataframe thead th {\n",
       "        text-align: right;\n",
       "    }\n",
       "</style>\n",
       "<table border=\"1\" class=\"dataframe\">\n",
       "  <thead>\n",
       "    <tr style=\"text-align: right;\">\n",
       "      <th></th>\n",
       "      <th>Fecha Inicio</th>\n",
       "      <th>Fecha Final</th>\n",
       "      <th>Salario Diario</th>\n",
       "      <th>Semanas totales en el periodo</th>\n",
       "      <th>Fecha de Corte</th>\n",
       "      <th>Semanas tomadas en cuenta</th>\n",
       "      <th>Salario Acumulado en el Periodo</th>\n",
       "      <th>Semanas Acumuladas Totales</th>\n",
       "    </tr>\n",
       "  </thead>\n",
       "  <tbody>\n",
       "    <tr>\n",
       "      <th>0</th>\n",
       "      <td>Jueves, 2 de enero de 2020</td>\n",
       "      <td>Miércoles, 30 de septiembre de 2020</td>\n",
       "      <td>$128.79</td>\n",
       "      <td>39.0</td>\n",
       "      <td>2020-01-02</td>\n",
       "      <td>39.0</td>\n",
       "      <td>$35,159.67</td>\n",
       "      <td>39.0</td>\n",
       "    </tr>\n",
       "    <tr>\n",
       "      <th>1</th>\n",
       "      <td>Miércoles, 2 de enero de 2019</td>\n",
       "      <td>Martes, 31 de diciembre de 2019</td>\n",
       "      <td>$107.32</td>\n",
       "      <td>52.0</td>\n",
       "      <td>2019-01-02</td>\n",
       "      <td>52.1</td>\n",
       "      <td>$39,171.80</td>\n",
       "      <td>91.0</td>\n",
       "    </tr>\n",
       "    <tr>\n",
       "      <th>2</th>\n",
       "      <td>Sábado, 2 de diciembre de 2017</td>\n",
       "      <td>Lunes, 31 de diciembre de 2018</td>\n",
       "      <td>$92.35</td>\n",
       "      <td>56.4</td>\n",
       "      <td>2017-12-02</td>\n",
       "      <td>56.6</td>\n",
       "      <td>$36,570.60</td>\n",
       "      <td>147.4</td>\n",
       "    </tr>\n",
       "    <tr>\n",
       "      <th>3</th>\n",
       "      <td>Lunes, 2 de enero de 2017</td>\n",
       "      <td>Jueves, 30 de noviembre de 2017</td>\n",
       "      <td>$83.66</td>\n",
       "      <td>47.6</td>\n",
       "      <td>2017-01-02</td>\n",
       "      <td>47.7</td>\n",
       "      <td>$27,942.44</td>\n",
       "      <td>195.0</td>\n",
       "    </tr>\n",
       "    <tr>\n",
       "      <th>4</th>\n",
       "      <td>Sábado, 2 de abril de 2016</td>\n",
       "      <td>Sábado, 31 de diciembre de 2016</td>\n",
       "      <td>$80.00</td>\n",
       "      <td>39.1</td>\n",
       "      <td>2016-04-02</td>\n",
       "      <td>39.3</td>\n",
       "      <td>$22,000.00</td>\n",
       "      <td>234.1</td>\n",
       "    </tr>\n",
       "  </tbody>\n",
       "</table>\n",
       "</div>"
      ]
     },
     "metadata": {},
     "output_type": "display_data"
    },
    {
     "name": "stdout",
     "output_type": "stream",
     "text": [
      "Salario Promedio:\n",
      "96.8\n"
     ]
    }
   ],
   "execution_count": 13
  },
  {
   "metadata": {
    "ExecuteTime": {
     "end_time": "2025-08-19T19:18:12.828545Z",
     "start_time": "2025-08-19T19:18:12.813372Z"
    }
   },
   "cell_type": "code",
   "source": [
    "SALARIO_PROMEDIO_DIARIO, tabla_salario_promedio_num, tabla_salario_promedio_str = salario_promedio_fcn(semanas_contar=SEMANAS_CONTAR,\n",
    "                                                                                                        semanas_reconocidas=SemanasReconocidas,\n",
    "                                                                                                       tabla_salarios=nueva_tabla_salarios)\n",
    "\n",
    "display(tabla_salario_promedio_num.head())\n",
    "display(tabla_salario_promedio_str.head())\n",
    "print(f\"Salario Promedio:\\n{round(SALARIO_PROMEDIO_DIARIO, 1)}\")"
   ],
   "id": "f60ff6d7e502af9f",
   "outputs": [
    {
     "data": {
      "text/plain": [
       "  Fecha Inicio Fecha Final  Salario Diario  Semanas totales en el periodo  \\\n",
       "0   2020-10-01  2023-10-31         2172.00                          160.9   \n",
       "1   2020-01-02  2020-09-30          128.79                           39.0   \n",
       "2   2019-01-02  2019-12-31          107.32                           52.0   \n",
       "3   2017-12-02  2018-12-31           92.35                           56.4   \n",
       "4   2017-01-02  2017-11-30           83.66                           47.6   \n",
       "\n",
       "  Fecha de Corte  Semanas tomadas en cuenta  Salario Acumulado en el Periodo  \\\n",
       "0     2020-10-01                      160.9                       2445672.00   \n",
       "1     2020-01-02                       39.1                         35288.46   \n",
       "2     2019-01-14                       50.4                         37883.96   \n",
       "3     2019-01-14                        0.0                             0.00   \n",
       "4     2019-01-14                        0.0                             0.00   \n",
       "\n",
       "   Semanas Acumuladas Totales  \n",
       "0                       160.9  \n",
       "1                       199.9  \n",
       "2                       250.0  \n",
       "3                       250.0  \n",
       "4                       250.0  "
      ],
      "text/html": [
       "<div>\n",
       "<style scoped>\n",
       "    .dataframe tbody tr th:only-of-type {\n",
       "        vertical-align: middle;\n",
       "    }\n",
       "\n",
       "    .dataframe tbody tr th {\n",
       "        vertical-align: top;\n",
       "    }\n",
       "\n",
       "    .dataframe thead th {\n",
       "        text-align: right;\n",
       "    }\n",
       "</style>\n",
       "<table border=\"1\" class=\"dataframe\">\n",
       "  <thead>\n",
       "    <tr style=\"text-align: right;\">\n",
       "      <th></th>\n",
       "      <th>Fecha Inicio</th>\n",
       "      <th>Fecha Final</th>\n",
       "      <th>Salario Diario</th>\n",
       "      <th>Semanas totales en el periodo</th>\n",
       "      <th>Fecha de Corte</th>\n",
       "      <th>Semanas tomadas en cuenta</th>\n",
       "      <th>Salario Acumulado en el Periodo</th>\n",
       "      <th>Semanas Acumuladas Totales</th>\n",
       "    </tr>\n",
       "  </thead>\n",
       "  <tbody>\n",
       "    <tr>\n",
       "      <th>0</th>\n",
       "      <td>2020-10-01</td>\n",
       "      <td>2023-10-31</td>\n",
       "      <td>2172.00</td>\n",
       "      <td>160.9</td>\n",
       "      <td>2020-10-01</td>\n",
       "      <td>160.9</td>\n",
       "      <td>2445672.00</td>\n",
       "      <td>160.9</td>\n",
       "    </tr>\n",
       "    <tr>\n",
       "      <th>1</th>\n",
       "      <td>2020-01-02</td>\n",
       "      <td>2020-09-30</td>\n",
       "      <td>128.79</td>\n",
       "      <td>39.0</td>\n",
       "      <td>2020-01-02</td>\n",
       "      <td>39.1</td>\n",
       "      <td>35288.46</td>\n",
       "      <td>199.9</td>\n",
       "    </tr>\n",
       "    <tr>\n",
       "      <th>2</th>\n",
       "      <td>2019-01-02</td>\n",
       "      <td>2019-12-31</td>\n",
       "      <td>107.32</td>\n",
       "      <td>52.0</td>\n",
       "      <td>2019-01-14</td>\n",
       "      <td>50.4</td>\n",
       "      <td>37883.96</td>\n",
       "      <td>250.0</td>\n",
       "    </tr>\n",
       "    <tr>\n",
       "      <th>3</th>\n",
       "      <td>2017-12-02</td>\n",
       "      <td>2018-12-31</td>\n",
       "      <td>92.35</td>\n",
       "      <td>56.4</td>\n",
       "      <td>2019-01-14</td>\n",
       "      <td>0.0</td>\n",
       "      <td>0.00</td>\n",
       "      <td>250.0</td>\n",
       "    </tr>\n",
       "    <tr>\n",
       "      <th>4</th>\n",
       "      <td>2017-01-02</td>\n",
       "      <td>2017-11-30</td>\n",
       "      <td>83.66</td>\n",
       "      <td>47.6</td>\n",
       "      <td>2019-01-14</td>\n",
       "      <td>0.0</td>\n",
       "      <td>0.00</td>\n",
       "      <td>250.0</td>\n",
       "    </tr>\n",
       "  </tbody>\n",
       "</table>\n",
       "</div>"
      ]
     },
     "metadata": {},
     "output_type": "display_data"
    },
    {
     "data": {
      "text/plain": [
       "                     Fecha Inicio                          Fecha Final  \\\n",
       "0    Jueves, 1 de octubre de 2020        Martes, 31 de octubre de 2023   \n",
       "1      Jueves, 2 de enero de 2020  Miércoles, 30 de septiembre de 2020   \n",
       "2   Miércoles, 2 de enero de 2019      Martes, 31 de diciembre de 2019   \n",
       "3  Sábado, 2 de diciembre de 2017       Lunes, 31 de diciembre de 2018   \n",
       "4       Lunes, 2 de enero de 2017      Jueves, 30 de noviembre de 2017   \n",
       "\n",
       "  Salario Diario  Semanas totales en el periodo Fecha de Corte  \\\n",
       "0      $2,172.00                          160.9     2020-10-01   \n",
       "1        $128.79                           39.0     2020-01-02   \n",
       "2        $107.32                           52.0     2019-01-14   \n",
       "3         $92.35                           56.4     2019-01-14   \n",
       "4         $83.66                           47.6     2019-01-14   \n",
       "\n",
       "   Semanas tomadas en cuenta Salario Acumulado en el Periodo  \\\n",
       "0                      160.9                   $2,445,672.00   \n",
       "1                       39.1                      $35,288.46   \n",
       "2                       50.4                      $37,883.96   \n",
       "3                        0.0                           $0.00   \n",
       "4                        0.0                           $0.00   \n",
       "\n",
       "   Semanas Acumuladas Totales  \n",
       "0                       160.9  \n",
       "1                       199.9  \n",
       "2                       250.0  \n",
       "3                       250.0  \n",
       "4                       250.0  "
      ],
      "text/html": [
       "<div>\n",
       "<style scoped>\n",
       "    .dataframe tbody tr th:only-of-type {\n",
       "        vertical-align: middle;\n",
       "    }\n",
       "\n",
       "    .dataframe tbody tr th {\n",
       "        vertical-align: top;\n",
       "    }\n",
       "\n",
       "    .dataframe thead th {\n",
       "        text-align: right;\n",
       "    }\n",
       "</style>\n",
       "<table border=\"1\" class=\"dataframe\">\n",
       "  <thead>\n",
       "    <tr style=\"text-align: right;\">\n",
       "      <th></th>\n",
       "      <th>Fecha Inicio</th>\n",
       "      <th>Fecha Final</th>\n",
       "      <th>Salario Diario</th>\n",
       "      <th>Semanas totales en el periodo</th>\n",
       "      <th>Fecha de Corte</th>\n",
       "      <th>Semanas tomadas en cuenta</th>\n",
       "      <th>Salario Acumulado en el Periodo</th>\n",
       "      <th>Semanas Acumuladas Totales</th>\n",
       "    </tr>\n",
       "  </thead>\n",
       "  <tbody>\n",
       "    <tr>\n",
       "      <th>0</th>\n",
       "      <td>Jueves, 1 de octubre de 2020</td>\n",
       "      <td>Martes, 31 de octubre de 2023</td>\n",
       "      <td>$2,172.00</td>\n",
       "      <td>160.9</td>\n",
       "      <td>2020-10-01</td>\n",
       "      <td>160.9</td>\n",
       "      <td>$2,445,672.00</td>\n",
       "      <td>160.9</td>\n",
       "    </tr>\n",
       "    <tr>\n",
       "      <th>1</th>\n",
       "      <td>Jueves, 2 de enero de 2020</td>\n",
       "      <td>Miércoles, 30 de septiembre de 2020</td>\n",
       "      <td>$128.79</td>\n",
       "      <td>39.0</td>\n",
       "      <td>2020-01-02</td>\n",
       "      <td>39.1</td>\n",
       "      <td>$35,288.46</td>\n",
       "      <td>199.9</td>\n",
       "    </tr>\n",
       "    <tr>\n",
       "      <th>2</th>\n",
       "      <td>Miércoles, 2 de enero de 2019</td>\n",
       "      <td>Martes, 31 de diciembre de 2019</td>\n",
       "      <td>$107.32</td>\n",
       "      <td>52.0</td>\n",
       "      <td>2019-01-14</td>\n",
       "      <td>50.4</td>\n",
       "      <td>$37,883.96</td>\n",
       "      <td>250.0</td>\n",
       "    </tr>\n",
       "    <tr>\n",
       "      <th>3</th>\n",
       "      <td>Sábado, 2 de diciembre de 2017</td>\n",
       "      <td>Lunes, 31 de diciembre de 2018</td>\n",
       "      <td>$92.35</td>\n",
       "      <td>56.4</td>\n",
       "      <td>2019-01-14</td>\n",
       "      <td>0.0</td>\n",
       "      <td>$0.00</td>\n",
       "      <td>250.0</td>\n",
       "    </tr>\n",
       "    <tr>\n",
       "      <th>4</th>\n",
       "      <td>Lunes, 2 de enero de 2017</td>\n",
       "      <td>Jueves, 30 de noviembre de 2017</td>\n",
       "      <td>$83.66</td>\n",
       "      <td>47.6</td>\n",
       "      <td>2019-01-14</td>\n",
       "      <td>0.0</td>\n",
       "      <td>$0.00</td>\n",
       "      <td>250.0</td>\n",
       "    </tr>\n",
       "  </tbody>\n",
       "</table>\n",
       "</div>"
      ]
     },
     "metadata": {},
     "output_type": "display_data"
    },
    {
     "name": "stdout",
     "output_type": "stream",
     "text": [
      "Salario Promedio:\n",
      "1439.3\n"
     ]
    }
   ],
   "execution_count": 14
  },
  {
   "metadata": {},
   "cell_type": "markdown",
   "source": "## Cálculo de Obtención de Pensión con entrada Manual",
   "id": "c05a2d207d44fa39"
  },
  {
   "metadata": {
    "ExecuteTime": {
     "end_time": "2025-08-19T19:18:13.010848Z",
     "start_time": "2025-08-19T19:18:12.986745Z"
    }
   },
   "cell_type": "code",
   "source": [
    "edad_pension = 62 #@param {type:\"integer\"}\n",
    "year = 2023 #@param {type:\"integer\"}\n",
    "semanas_reconocidas = 966 #@param {type:\"integer\"}\n",
    "salario_promedio = 1439.16 #@param {type:\"number\"}\n",
    "porcentaje_asignaciones = 0.15 #@param {type:\"number\"}\n",
    "\n",
    "class PensionManual:\n",
    "    def __init__(self, edad_pension, year, semanas_reconocidas, salario_promedio, porcentaje_asignaciones):\n",
    "        self.edad_pension = edad_pension\n",
    "        self.year = year\n",
    "        self.semanas_reconocidas = semanas_reconocidas\n",
    "        self.salario_promedio = salario_promedio\n",
    "        self.porcentaje_asignaciones = porcentaje_asignaciones\n",
    "        self.porcentaje_asignaciones_string = f\"{round(porcentaje_asignaciones * 100, 1)}%\"\n",
    "        self.tabla_salarios_minimos = pd.read_csv('TABLAS/TABLA_SALARIOSMINIMOS.txt', sep='\\t')\n",
    "        self.tabla_porcentaje_edad = pd.read_csv('TABLAS/TABLA_PORCENTAJE_EDAD.txt', sep='\\t')\n",
    "        self.tabla_uma = pd.read_csv('TABLAS/TABLA_UMA.txt', sep='\\t')\n",
    "        self.tabla_relacion_umas = pd.read_csv('TABLAS/TABLA_RELACION_UMAS_SALARIO_MINIMO.txt', sep='\\t')\n",
    "\n",
    "    def salario_minimo_garantizado_fcn(self):\n",
    "            tabla = self.tabla_salarios_minimos\n",
    "            out = tabla[tabla.iloc[:, 0] == year]\n",
    "            salario_minimo_ano_actual = out.iloc[0, 1]#.strip(\"$\")\n",
    "            salario_minimo_mensual = out.iloc[0, 4]\n",
    "            pension_minima_garantizada = out.iloc[0, -1]\n",
    "            salario_maximo_asignado_diario = out.iloc[0, 6]\n",
    "\n",
    "            print(f\"Los siguientes datos son para el año: {self.year}\")\n",
    "\n",
    "            # We will also create a pandas dataframe\n",
    "            df = pd.DataFrame({\n",
    "                # 'Año': year,\n",
    "                'Salario Minimo Diario': salario_minimo_ano_actual,\n",
    "                'Salario Minimo Mensual': salario_minimo_mensual,\n",
    "                'Pension Mínima Garantizada': pension_minima_garantizada,\n",
    "                'Salario Máximo Asignado Diario': salario_maximo_asignado_diario\n",
    "            }, index=[self.year])\n",
    "            display(df)\n",
    "\n",
    "            self.salario_minimo_ano_actual = salario_minimo_ano_actual\n",
    "            self.salario_minimo_mensual = salario_minimo_mensual\n",
    "            self.pension_minima_garantizada = pension_minima_garantizada\n",
    "            self.salario_maximo_asignado_diario = salario_maximo_asignado_diario\n",
    "\n",
    "            return salario_minimo_ano_actual, salario_minimo_mensual, pension_minima_garantizada, salario_maximo_asignado_diario, df\n",
    "\n",
    "    def porcentaje_vejez_fcn(self):\n",
    "        tabla = self.tabla_porcentaje_edad\n",
    "        idx = tabla[tabla['EDAD'] == min(self.edad_pension, 65)]['% PENSIÓN'] # Finds the position of the table with the target age\n",
    "        perc_string = idx.iloc[0] # Obtain the percentage by multiplying by 100%\n",
    "        porcentaje_vejez =float( perc_string.strip('%')) / 1e2\n",
    "        self.porcentaje_vejez = porcentaje_vejez\n",
    "        self.porcentaje_vejez_string = perc_string\n",
    "\n",
    "    def valor_uma_actual_year_fcn(self):\n",
    "        tabla = self.tabla_uma\n",
    "        idx = tabla[tabla['AÑO'] == self.year]['VALOR $'] # Finds the position of the table with the target year\n",
    "        valor_uma_string = idx.iloc[0]\n",
    "        valor_uma_numerico =float( valor_uma_string.strip('$'))\n",
    "        self.valor_uma_numerico = valor_uma_numerico\n",
    "        self.valor_uma_string = valor_uma_string\n",
    "\n",
    "    def relacion_uma_salario_fcn(self):\n",
    "        relacion_salario_uma = round(self.salario_promedio / self.valor_uma_numerico, 2)\n",
    "        self.relacion_uma_salario = relacion_salario_uma\n",
    "\n",
    "    def porcentaje_cuantia_fcn(self):\n",
    "        tabla = self.tabla_relacion_umas\n",
    "        #subs substracts the variable from all values and then we take only those values inferior, finally we take the pos. of the largest value\n",
    "        closest_idx = tabla[tabla[\"Inferior\"].sub(self.relacion_uma_salario) < 0]['Inferior'].idxmax()\n",
    "        out_string = tabla.iloc[closest_idx, 2] # Pos. 2 relates to Porcentaje cuantía básica [%]\n",
    "        porcentaje_cuantia = float(out_string.strip(('%')))/1e2\n",
    "        self.porcentaje_cuantia = porcentaje_cuantia\n",
    "        # self.porcentaje_cuantia_string = out_string\n",
    "\n",
    "    def semanas_equivalentes_year_fcn(self):\n",
    "        semanas_despues500 = semanas_reconocidas - 500\n",
    "        upper_bound = 0.5\n",
    "        lower_bound = 0.25\n",
    "        if lower_bound < abs(semanas_despues500/52 - np.fix(semanas_despues500/52)) <= upper_bound:\n",
    "            SEMANAS_EQUIVALENTES = np.fix(semanas_despues500 / 52) + 0.5\n",
    "        else:\n",
    "            SEMANAS_EQUIVALENTES = np.round(semanas_despues500/52, decimals=0)\n",
    "        self.semanas_equivalentes = SEMANAS_EQUIVALENTES\n",
    "\n",
    "    def salario_incremento_anual_perc_fcn(self):\n",
    "        tabla = self.tabla_relacion_umas\n",
    "        closest_idx = (tabla['Porcentaje cuantía básica \\r\\n[%]'].str.replace('%', '', regex=True)).astype(float)\n",
    "        closest_idx = closest_idx.sub(self.porcentaje_cuantia*1e2) <= 0\n",
    "        closest_idx = tabla[closest_idx]['Salario incremento anual [%]'].idxmax()\n",
    "        salario_incremento_anual_perc = tabla.loc[closest_idx, 'Salario incremento anual [%]']\n",
    "        salario_incremento_anual_perc = float(salario_incremento_anual_perc.strip('%')) / 1e2\n",
    "        self.salario_incremento_anual_perc = salario_incremento_anual_perc\n",
    "\n",
    "    def incremento_perc_fcn(self):\n",
    "        incremento_perc = round(self.salario_incremento_anual_perc * self.semanas_equivalentes, 4)\n",
    "        self.incremento_perc = incremento_perc\n",
    "        self.incremento_perc_string = f'{incremento_perc*1e2:.2f}%'\n",
    "        return incremento_perc\n",
    "\n",
    "    def incremento_dinero_fcn(self):\n",
    "        incremento_dinero = round(self.incremento_perc * self.salario_promedio * 1.11 * 365, 2)\n",
    "        self.incremento_dinero = incremento_dinero\n",
    "\n",
    "    def cuantia_basica_anual_fcn(self):\n",
    "        cuantia_basica_anual = round(self.porcentaje_cuantia * self.salario_promedio * 365 * 1.11, 2)\n",
    "        self.cuantia_basica_anual = cuantia_basica_anual\n",
    "\n",
    "    def cuantia_vejez_fcn(self):\n",
    "        cuantia_vejez = self.cuantia_basica_anual + self.incremento_dinero\n",
    "        self.cuantia_vejez = cuantia_vejez\n",
    "\n",
    "    def pension_cesantia_edad_avanzada_fcn(self):\n",
    "        pension_cesantia_edad_avanzada = round(self.cuantia_vejez * self.porcentaje_vejez, 2)\n",
    "        self.pension_cesantia_edad_avanzada = pension_cesantia_edad_avanzada\n",
    "\n",
    "    def importe_asignaciones_familiares_fcn(self):\n",
    "        importe_asignaciones_familiares = round(self.porcentaje_asignaciones * self.pension_cesantia_edad_avanzada, 2)\n",
    "        self.importe_asignaciones_familiares = importe_asignaciones_familiares\n",
    "\n",
    "    def importe_anual_cesantia_fcn(self):\n",
    "        importe_anual_cesantia = round(self.importe_asignaciones_familiares + self.pension_cesantia_edad_avanzada, 2)\n",
    "        self.importe_anual_cesantia = importe_anual_cesantia\n",
    "\n",
    "    def importe_mensual_calculado_fcn(self):\n",
    "        importe_mensual_calculado = round(self.importe_anual_cesantia / 12, 1)\n",
    "        self.importe_mensual_calculado = importe_mensual_calculado\n",
    "\n",
    "    def pension_minima_garantizada_fcn(self):\n",
    "        pension_minima_garantizada = self.pension_minima_garantizada.replace('$', '').replace(',', '')\n",
    "        pension_minima_garantizada = float(pension_minima_garantizada)\n",
    "        self.pension_minima_garantizada = pension_minima_garantizada\n",
    "\n",
    "    def pension_final_fcn(self):\n",
    "        pension_final = round(max(self.importe_mensual_calculado, self.pension_minima_garantizada), 2)\n",
    "        self.pension_final = pension_final\n",
    "\n",
    "    def calculo_pension(self):\n",
    "        self.salario_minimo_garantizado_fcn()\n",
    "        self.porcentaje_vejez_fcn()\n",
    "        self.valor_uma_actual_year_fcn()\n",
    "        self.relacion_uma_salario_fcn()\n",
    "        self.porcentaje_cuantia_fcn()\n",
    "        self.semanas_equivalentes_year_fcn()\n",
    "        self.salario_incremento_anual_perc_fcn()\n",
    "        self.incremento_perc_fcn()\n",
    "        self.incremento_dinero_fcn()\n",
    "        self.cuantia_basica_anual_fcn()\n",
    "        self.cuantia_vejez_fcn()\n",
    "        self.pension_cesantia_edad_avanzada_fcn()\n",
    "        self.importe_asignaciones_familiares_fcn()\n",
    "        self.importe_anual_cesantia_fcn()\n",
    "        self.importe_mensual_calculado_fcn()\n",
    "        self.pension_minima_garantizada_fcn()\n",
    "        self.pension_final_fcn()\n",
    "\n",
    "        pension_df = pd.DataFrame({'Pensión Final': [convert_double_currency(self.pension_final)],\n",
    "                                   'Semanas Reconocidas': [self.semanas_reconocidas],\n",
    "                                   'Salario Promedio': [convert_double_currency(self.salario_promedio)]\n",
    "                                   })\n",
    "\n",
    "        detalles_df = pd.DataFrame({\n",
    "                                   'Porcentaje Asignaciones Familiares': [self.porcentaje_asignaciones_string],\n",
    "                                   'Porcentaje Vejez': [self.porcentaje_vejez_string],\n",
    "                                   'Valor UMA Actual Year': [self.valor_uma_string],\n",
    "                                   'Incremento %': [self.incremento_perc_string],\n",
    "                                   'Incremento Dinero': [convert_double_currency(self.incremento_dinero)],\n",
    "                                   'Cuantia Basica Anual': [convert_double_currency(self.cuantia_basica_anual)],\n",
    "                                   'Cuantia Vejez': [self.cuantia_vejez],\n",
    "                                   'Pension Cesantia Edad Avanzada': [convert_double_currency(self.pension_cesantia_edad_avanzada)],\n",
    "                                   'Importe Asignaciones Familiares': [convert_double_currency(self.importe_asignaciones_familiares)],\n",
    "                                   'Importe Anual Cesantia': [convert_double_currency(self.importe_anual_cesantia)],\n",
    "                                   'Importe Mensual Calculado': [convert_double_currency(self.importe_mensual_calculado)],\n",
    "                                   'Pension Minima Garantizada': [convert_double_currency(self.pension_minima_garantizada)],\n",
    "                                   'Pension Final': [convert_double_currency(self.pension_final)]\n",
    "                                   })\n",
    "\n",
    "        detalles_df = round(detalles_df.T, 2)\n",
    "        # We will rename the column\n",
    "        detalles_df.columns = ['Valores']\n",
    "\n",
    "        return pension_df, detalles_df\n",
    "\n",
    "# Example Usage\n",
    "pension_manual = PensionManual(edad_pension=edad_pension, year=year, semanas_reconocidas=semanas_reconocidas, salario_promedio=salario_promedio, porcentaje_asignaciones=porcentaje_asignaciones)\n",
    "\n",
    "\n",
    "pension_df, detalles_df = pension_manual.calculo_pension()\n",
    "display(pension_df)\n",
    "display(detalles_df)"
   ],
   "id": "32931398450b42b9",
   "outputs": [
    {
     "name": "stdout",
     "output_type": "stream",
     "text": [
      "Los siguientes datos son para el año: 2023\n"
     ]
    },
    {
     "data": {
      "text/plain": [
       "     Salario Minimo Diario Salario Minimo Mensual Pension Mínima Garantizada  \\\n",
       "2023               $207.44             $6,309.63                  $7,003.69    \n",
       "\n",
       "     Salario Máximo Asignado Diario  \n",
       "2023                     $2,593.50   "
      ],
      "text/html": [
       "<div>\n",
       "<style scoped>\n",
       "    .dataframe tbody tr th:only-of-type {\n",
       "        vertical-align: middle;\n",
       "    }\n",
       "\n",
       "    .dataframe tbody tr th {\n",
       "        vertical-align: top;\n",
       "    }\n",
       "\n",
       "    .dataframe thead th {\n",
       "        text-align: right;\n",
       "    }\n",
       "</style>\n",
       "<table border=\"1\" class=\"dataframe\">\n",
       "  <thead>\n",
       "    <tr style=\"text-align: right;\">\n",
       "      <th></th>\n",
       "      <th>Salario Minimo Diario</th>\n",
       "      <th>Salario Minimo Mensual</th>\n",
       "      <th>Pension Mínima Garantizada</th>\n",
       "      <th>Salario Máximo Asignado Diario</th>\n",
       "    </tr>\n",
       "  </thead>\n",
       "  <tbody>\n",
       "    <tr>\n",
       "      <th>2023</th>\n",
       "      <td>$207.44</td>\n",
       "      <td>$6,309.63</td>\n",
       "      <td>$7,003.69</td>\n",
       "      <td>$2,593.50</td>\n",
       "    </tr>\n",
       "  </tbody>\n",
       "</table>\n",
       "</div>"
      ]
     },
     "metadata": {},
     "output_type": "display_data"
    },
    {
     "data": {
      "text/plain": [
       "  Pensión Final  Semanas Reconocidas Salario Promedio\n",
       "0    $16,647.50                  966        $1,439.16"
      ],
      "text/html": [
       "<div>\n",
       "<style scoped>\n",
       "    .dataframe tbody tr th:only-of-type {\n",
       "        vertical-align: middle;\n",
       "    }\n",
       "\n",
       "    .dataframe tbody tr th {\n",
       "        vertical-align: top;\n",
       "    }\n",
       "\n",
       "    .dataframe thead th {\n",
       "        text-align: right;\n",
       "    }\n",
       "</style>\n",
       "<table border=\"1\" class=\"dataframe\">\n",
       "  <thead>\n",
       "    <tr style=\"text-align: right;\">\n",
       "      <th></th>\n",
       "      <th>Pensión Final</th>\n",
       "      <th>Semanas Reconocidas</th>\n",
       "      <th>Salario Promedio</th>\n",
       "    </tr>\n",
       "  </thead>\n",
       "  <tbody>\n",
       "    <tr>\n",
       "      <th>0</th>\n",
       "      <td>$16,647.50</td>\n",
       "      <td>966</td>\n",
       "      <td>$1,439.16</td>\n",
       "    </tr>\n",
       "  </tbody>\n",
       "</table>\n",
       "</div>"
      ]
     },
     "metadata": {},
     "output_type": "display_data"
    },
    {
     "data": {
      "text/plain": [
       "                                        Valores\n",
       "Porcentaje Asignaciones Familiares        15.0%\n",
       "Porcentaje Vejez                            85%\n",
       "Valor UMA Actual Year                   $103.74\n",
       "Incremento %                             22.05%\n",
       "Incremento Dinero                   $128,568.19\n",
       "Cuantia Basica Anual                 $75,799.84\n",
       "Cuantia Vejez                         204368.03\n",
       "Pension Cesantia Edad Avanzada      $173,712.83\n",
       "Importe Asignaciones Familiares      $26,056.92\n",
       "Importe Anual Cesantia              $199,769.75\n",
       "Importe Mensual Calculado            $16,647.50\n",
       "Pension Minima Garantizada            $7,003.69\n",
       "Pension Final                        $16,647.50"
      ],
      "text/html": [
       "<div>\n",
       "<style scoped>\n",
       "    .dataframe tbody tr th:only-of-type {\n",
       "        vertical-align: middle;\n",
       "    }\n",
       "\n",
       "    .dataframe tbody tr th {\n",
       "        vertical-align: top;\n",
       "    }\n",
       "\n",
       "    .dataframe thead th {\n",
       "        text-align: right;\n",
       "    }\n",
       "</style>\n",
       "<table border=\"1\" class=\"dataframe\">\n",
       "  <thead>\n",
       "    <tr style=\"text-align: right;\">\n",
       "      <th></th>\n",
       "      <th>Valores</th>\n",
       "    </tr>\n",
       "  </thead>\n",
       "  <tbody>\n",
       "    <tr>\n",
       "      <th>Porcentaje Asignaciones Familiares</th>\n",
       "      <td>15.0%</td>\n",
       "    </tr>\n",
       "    <tr>\n",
       "      <th>Porcentaje Vejez</th>\n",
       "      <td>85%</td>\n",
       "    </tr>\n",
       "    <tr>\n",
       "      <th>Valor UMA Actual Year</th>\n",
       "      <td>$103.74</td>\n",
       "    </tr>\n",
       "    <tr>\n",
       "      <th>Incremento %</th>\n",
       "      <td>22.05%</td>\n",
       "    </tr>\n",
       "    <tr>\n",
       "      <th>Incremento Dinero</th>\n",
       "      <td>$128,568.19</td>\n",
       "    </tr>\n",
       "    <tr>\n",
       "      <th>Cuantia Basica Anual</th>\n",
       "      <td>$75,799.84</td>\n",
       "    </tr>\n",
       "    <tr>\n",
       "      <th>Cuantia Vejez</th>\n",
       "      <td>204368.03</td>\n",
       "    </tr>\n",
       "    <tr>\n",
       "      <th>Pension Cesantia Edad Avanzada</th>\n",
       "      <td>$173,712.83</td>\n",
       "    </tr>\n",
       "    <tr>\n",
       "      <th>Importe Asignaciones Familiares</th>\n",
       "      <td>$26,056.92</td>\n",
       "    </tr>\n",
       "    <tr>\n",
       "      <th>Importe Anual Cesantia</th>\n",
       "      <td>$199,769.75</td>\n",
       "    </tr>\n",
       "    <tr>\n",
       "      <th>Importe Mensual Calculado</th>\n",
       "      <td>$16,647.50</td>\n",
       "    </tr>\n",
       "    <tr>\n",
       "      <th>Pension Minima Garantizada</th>\n",
       "      <td>$7,003.69</td>\n",
       "    </tr>\n",
       "    <tr>\n",
       "      <th>Pension Final</th>\n",
       "      <td>$16,647.50</td>\n",
       "    </tr>\n",
       "  </tbody>\n",
       "</table>\n",
       "</div>"
      ]
     },
     "metadata": {},
     "output_type": "display_data"
    }
   ],
   "execution_count": 15
  },
  {
   "metadata": {},
   "cell_type": "markdown",
   "source": "# Fechas de Pago Modalidad 40",
   "id": "2ded643b8f0da283"
  },
  {
   "metadata": {
    "ExecuteTime": {
     "end_time": "2025-08-19T19:18:13.195237Z",
     "start_time": "2025-08-19T19:18:13.185571Z"
    }
   },
   "cell_type": "code",
   "source": [
    "def pagos40(salario, start_date, durata):\n",
    "    tabla_uma = pd.read_csv('TABLAS/TABLA_UMA.txt', sep='\\t')\n",
    "    TABLA_AUMENTO_PAGOMOD40 = pd.read_csv('TABLAS/TABLA_AUMENTOPAGO40.txt', sep='\\t')\n",
    "    TABLA_SALARIOSMINIMOS = pd.read_csv('TABLAS/TABLA_SALARIOSMINIMOS.txt', sep='\\t')\n",
    "    CUOTA_OBRERA = 6.925 / 1e2;\n",
    "\n",
    "    salario_array = np.full(durata + 1, salario)  # Creates an array with the same value\n",
    "    second_date = start_date + relativedelta(months=1)\n",
    "    second_date = second_date.replace(day=1)\n",
    "\n",
    "    monthly_series = pd.date_range(start=second_date, periods=durata, freq='MS')  # MS: Month Start\n",
    "    time_series_df = pd.concat([pd.Series(start_date), pd.Series(monthly_series)])\n",
    "    time_series_df = pd.to_datetime(time_series_df)\n",
    "\n",
    "    salarios_minimos_array = list()\n",
    "    salarios_maximos_array = list()\n",
    "    salario_uma40_array = list()\n",
    "    DiasCubiertosMensuales_array = list()\n",
    "    PORCENTAJE_PAGO_array = list()\n",
    "\n",
    "    def money_to_float(input_str: str, *args):\n",
    "        for chars in args:\n",
    "            input_str = input_str.replace(chars, '')\n",
    "        return float(input_str.strip())\n",
    "\n",
    "    # Wtih applymap we apply our custom function to each element specified in the iloc\n",
    "    # indexation, we remove the '%' with the replace function and divide by 1e2\n",
    "    TABLA_AUMENTO_PAGOMOD40.iloc[:, 1:] = TABLA_AUMENTO_PAGOMOD40.iloc[:, 1:].map(\n",
    "        lambda x: money_to_float(x, '%') / 1e2)\n",
    "    TABLA_AUMENTO_PAGOMOD40 = TABLA_AUMENTO_PAGOMOD40.set_index('AÑO')\n",
    "    salarios_minimos = TABLA_SALARIOSMINIMOS.loc[:, 'SM DIARIO ($)'].map(lambda x: money_to_float(x, '$'))\n",
    "    salarios_maximos = TABLA_SALARIOSMINIMOS.iloc[:, 6].map(lambda x: money_to_float(x, '$', ','))\n",
    "\n",
    "    for i in range(durata + 1):\n",
    "        if time_series_df.iloc[i].month == 1:\n",
    "            year_considered = time_series_df.iloc[i].year - 1\n",
    "        else:\n",
    "            year_considered = time_series_df.iloc[i].year\n",
    "        # Find the index of rows where the 'AÑO' column equals 'year_considered'\n",
    "        row = tabla_uma[tabla_uma['AÑO'] == year_considered].index\n",
    "        row = row.tolist()[0]\n",
    "        perc_row = tabla_uma.index[tabla_uma['AÑO'] == time_series_df.iloc[i].year].tolist()[0]\n",
    "        salarios_minimos_array.append(salarios_minimos[tabla_uma['AÑO'] == time_series_df.iloc[i].year].tolist()[0])\n",
    "        salarios_maximos_array.append(salarios_maximos[tabla_uma['AÑO'] == time_series_df.iloc[i].year].tolist()[0])\n",
    "        salario_array[i] = min(salarios_maximos_array[i], max(salarios_minimos_array[i], salario_array[i]))\n",
    "\n",
    "        uma_row = tabla_uma.iloc[perc_row, 1]\n",
    "        uma_row = uma_row.replace('$', '')\n",
    "        uma_row = float(uma_row)\n",
    "        salario_uma40_array.append(round(salario_array[i] / uma_row, 1))\n",
    "\n",
    "        #Find the last day of the current month\n",
    "        lastDayOfMonth = time_series_df.iloc[i].replace(day=1) + relativedelta(\n",
    "            day=31)  # Even if the month does not have 31 days, the relative delta manages\n",
    "        # Calculate the number of remaining days\n",
    "        DiasCubiertosMensuales_array.append((lastDayOfMonth - time_series_df.iloc[i]).days + 1)\n",
    "\n",
    "        if salario_uma40_array[i] >= 4.01:\n",
    "            CUOTA_PATRONAL = TABLA_AUMENTO_PAGOMOD40.iloc[perc_row, -2]\n",
    "        elif salario_uma40_array[i] >= 3.51:\n",
    "            CUOTA_PATRONAL = TABLA_AUMENTO_PAGOMOD40.iloc[perc_row, -3]\n",
    "        elif salario_uma40_array[i] >= 3:\n",
    "            CUOTA_PATRONAL = TABLA_AUMENTO_PAGOMOD40.iloc[perc_row, -4]\n",
    "        elif salario_uma40_array[i] >= 2.51:\n",
    "            CUOTA_PATRONAL = TABLA_AUMENTO_PAGOMOD40.iloc[perc_row, -5]\n",
    "        elif salario_uma40_array[i] >= 2:\n",
    "            CUOTA_PATRONAL = TABLA_AUMENTO_PAGOMOD40.iloc[perc_row, -6]\n",
    "        elif salario_uma40_array[i] >= 1.51:\n",
    "            CUOTA_PATRONAL = TABLA_AUMENTO_PAGOMOD40.iloc[perc_row, -7]\n",
    "        elif salario_uma40_array[i] >= 1:\n",
    "            CUOTA_PATRONAL = TABLA_AUMENTO_PAGOMOD40.iloc[perc_row, -8]\n",
    "        else:\n",
    "            CUOTA_PATRONAL = TABLA_AUMENTO_PAGOMOD40.iloc[perc_row, -9]\n",
    "        PORCENTAJE_PAGO_array.append(CUOTA_PATRONAL + CUOTA_OBRERA)\n",
    "\n",
    "    PORCENTAJE_PAGO_array_string = map(lambda x: round(x * 1e2, 2) / 1e2, PORCENTAJE_PAGO_array)\n",
    "    # Wtih map we apply our custom function to each element specified in the iloc\n",
    "    # indexation, we remove the '%' with the replace function and divide by 1e2\n",
    "    time_series_df = time_series_df.map(lambda x: x.strftime('%Y-%m-%d'))\n",
    "    salario_asignado_mensual = salario_array * DiasCubiertosMensuales_array\n",
    "    mes_de_pago = time_series_df.map(lambda x: pd.to_datetime(x).month)\n",
    "    mes_de_pago.replace(\n",
    "        {1: 'Enero', 2: 'Febrero', 3: 'Marzo', 4: 'Abril', 5: 'Mayo', 6: 'Junio', 7: 'Julio', 8: 'Agosto',\n",
    "         9: 'Septiembre', 10: 'Octubre', 11: 'Noviembre', 12: 'Diciembre'}, inplace=True)\n",
    "\n",
    "    # # Pago Mensual\n",
    "    PAGO_MENSUAL_array = (salario_asignado_mensual * PORCENTAJE_PAGO_array).round(2)\n",
    "    pago_acumulado = np.cumsum(PAGO_MENSUAL_array)\n",
    "    tabla_pago40 = pd.DataFrame({'Número de Pago': np.arange(1, durata + 2),\n",
    "                                 'Fechas de Pago': time_series_df,\n",
    "                                 'Día de Inicio de Cobertura': time_series_df.map(lambda x: pd.to_datetime(x).day),\n",
    "                                 'Mes de Pago': mes_de_pago,\n",
    "                                 'Año de Pago': time_series_df.map(lambda x: pd.to_datetime(x).year),\n",
    "                                 'Salario Diario Asignado': salario_array,\n",
    "                                 'Relación Salario/UMA': salario_uma40_array,\n",
    "                                 'Días cubiertos': DiasCubiertosMensuales_array,\n",
    "                                 'Salario Asignado Mensual': salario_asignado_mensual,\n",
    "                                 '% de pago respecto del salario asignado': PORCENTAJE_PAGO_array_string,\n",
    "                                 'Pago Mensual': PAGO_MENSUAL_array,\n",
    "                                 'Pago Acumulado': pago_acumulado,\n",
    "                                 'Salario Mínimo del año en curso': salarios_minimos_array,\n",
    "                                 'Salario Máximo del año en curso': salarios_maximos_array})\n",
    "\n",
    "    tabla_pago40.set_index(np.arange(1, durata + 2), inplace=True)\n",
    "    tabla_pago40_string = tabla_pago40.copy()\n",
    "    tabla_pago40_string[['Salario Diario Asignado', 'Salario Asignado Mensual', 'Pago Mensual', 'Pago Acumulado',\n",
    "                         'Salario Mínimo del año en curso', 'Salario Máximo del año en curso']] = tabla_pago40[\n",
    "        ['Salario Diario Asignado', 'Salario Asignado Mensual', 'Pago Mensual', 'Pago Acumulado',\n",
    "         'Salario Mínimo del año en curso', 'Salario Máximo del año en curso']].map(\"${:,.2f}\".format)\n",
    "    tabla_pago40_string['% de pago respecto del salario asignado'] = (\n",
    "    tabla_pago40['% de pago respecto del salario asignado']).map(\"{:.2%}\".format)\n",
    "    tabla_pago40_string['Fechas de Pago'] = [format_spanish_date(date, date_type=\"format_string\") for date in tabla_pago40['Fechas de Pago']]\n",
    "\n",
    "    return tabla_pago40, tabla_pago40_string"
   ],
   "id": "399cd52cccb1839f",
   "outputs": [],
   "execution_count": 16
  },
  {
   "metadata": {
    "ExecuteTime": {
     "end_time": "2025-08-19T19:18:13.350029Z",
     "start_time": "2025-08-19T19:18:13.298921Z"
    }
   },
   "cell_type": "code",
   "source": [
    "salario = 2593.5 #@param {type:\"number\"}\n",
    "start_date = \"2023-02-03\" #@param {type:\"date\"}\n",
    "start_date = datetime.strptime(start_date, \"%Y-%m-%d\").date()\n",
    "durata = 24 #@param {type:\"integer\"}\n",
    "\n",
    "pagos_num, pagos_str = pagos40(salario, start_date, durata)\n",
    "print(\"Numerical\")\n",
    "display(pagos_num.head(10))\n",
    "print(\"Strings\")\n",
    "pagos_str.head(10)"
   ],
   "id": "a35b1874277fd2f4",
   "outputs": [
    {
     "name": "stdout",
     "output_type": "stream",
     "text": [
      "Numerical\n"
     ]
    },
    {
     "data": {
      "text/plain": [
       "    Número de Pago Fechas de Pago  Día de Inicio de Cobertura Mes de Pago  \\\n",
       "1                1     2023-02-03                           3     Febrero   \n",
       "2                2     2023-03-01                           1       Marzo   \n",
       "3                3     2023-04-01                           1       Abril   \n",
       "4                4     2023-05-01                           1        Mayo   \n",
       "5                5     2023-06-01                           1       Junio   \n",
       "6                6     2023-07-01                           1       Julio   \n",
       "7                7     2023-08-01                           1      Agosto   \n",
       "8                8     2023-09-01                           1  Septiembre   \n",
       "9                9     2023-10-01                           1     Octubre   \n",
       "10              10     2023-11-01                           1   Noviembre   \n",
       "\n",
       "    Año de Pago  Salario Diario Asignado  Relación Salario/UMA  \\\n",
       "1          2023                   2593.5                  25.0   \n",
       "2          2023                   2593.5                  25.0   \n",
       "3          2023                   2593.5                  25.0   \n",
       "4          2023                   2593.5                  25.0   \n",
       "5          2023                   2593.5                  25.0   \n",
       "6          2023                   2593.5                  25.0   \n",
       "7          2023                   2593.5                  25.0   \n",
       "8          2023                   2593.5                  25.0   \n",
       "9          2023                   2593.5                  25.0   \n",
       "10         2023                   2593.5                  25.0   \n",
       "\n",
       "    Días cubiertos  Salario Asignado Mensual  \\\n",
       "1               26                   67431.0   \n",
       "2               31                   80398.5   \n",
       "3               30                   77805.0   \n",
       "4               31                   80398.5   \n",
       "5               30                   77805.0   \n",
       "6               31                   80398.5   \n",
       "7               31                   80398.5   \n",
       "8               30                   77805.0   \n",
       "9               31                   80398.5   \n",
       "10              30                   77805.0   \n",
       "\n",
       "    % de pago respecto del salario asignado  Pago Mensual  Pago Acumulado  \\\n",
       "1                                    0.1117       7529.35         7529.35   \n",
       "2                                    0.1117       8977.30        16506.65   \n",
       "3                                    0.1117       8687.71        25194.36   \n",
       "4                                    0.1117       8977.30        34171.66   \n",
       "5                                    0.1117       8687.71        42859.37   \n",
       "6                                    0.1117       8977.30        51836.67   \n",
       "7                                    0.1117       8977.30        60813.97   \n",
       "8                                    0.1117       8687.71        69501.68   \n",
       "9                                    0.1117       8977.30        78478.98   \n",
       "10                                   0.1117       8687.71        87166.69   \n",
       "\n",
       "    Salario Mínimo del año en curso  Salario Máximo del año en curso  \n",
       "1                            207.44                           2593.5  \n",
       "2                            207.44                           2593.5  \n",
       "3                            207.44                           2593.5  \n",
       "4                            207.44                           2593.5  \n",
       "5                            207.44                           2593.5  \n",
       "6                            207.44                           2593.5  \n",
       "7                            207.44                           2593.5  \n",
       "8                            207.44                           2593.5  \n",
       "9                            207.44                           2593.5  \n",
       "10                           207.44                           2593.5  "
      ],
      "text/html": [
       "<div>\n",
       "<style scoped>\n",
       "    .dataframe tbody tr th:only-of-type {\n",
       "        vertical-align: middle;\n",
       "    }\n",
       "\n",
       "    .dataframe tbody tr th {\n",
       "        vertical-align: top;\n",
       "    }\n",
       "\n",
       "    .dataframe thead th {\n",
       "        text-align: right;\n",
       "    }\n",
       "</style>\n",
       "<table border=\"1\" class=\"dataframe\">\n",
       "  <thead>\n",
       "    <tr style=\"text-align: right;\">\n",
       "      <th></th>\n",
       "      <th>Número de Pago</th>\n",
       "      <th>Fechas de Pago</th>\n",
       "      <th>Día de Inicio de Cobertura</th>\n",
       "      <th>Mes de Pago</th>\n",
       "      <th>Año de Pago</th>\n",
       "      <th>Salario Diario Asignado</th>\n",
       "      <th>Relación Salario/UMA</th>\n",
       "      <th>Días cubiertos</th>\n",
       "      <th>Salario Asignado Mensual</th>\n",
       "      <th>% de pago respecto del salario asignado</th>\n",
       "      <th>Pago Mensual</th>\n",
       "      <th>Pago Acumulado</th>\n",
       "      <th>Salario Mínimo del año en curso</th>\n",
       "      <th>Salario Máximo del año en curso</th>\n",
       "    </tr>\n",
       "  </thead>\n",
       "  <tbody>\n",
       "    <tr>\n",
       "      <th>1</th>\n",
       "      <td>1</td>\n",
       "      <td>2023-02-03</td>\n",
       "      <td>3</td>\n",
       "      <td>Febrero</td>\n",
       "      <td>2023</td>\n",
       "      <td>2593.5</td>\n",
       "      <td>25.0</td>\n",
       "      <td>26</td>\n",
       "      <td>67431.0</td>\n",
       "      <td>0.1117</td>\n",
       "      <td>7529.35</td>\n",
       "      <td>7529.35</td>\n",
       "      <td>207.44</td>\n",
       "      <td>2593.5</td>\n",
       "    </tr>\n",
       "    <tr>\n",
       "      <th>2</th>\n",
       "      <td>2</td>\n",
       "      <td>2023-03-01</td>\n",
       "      <td>1</td>\n",
       "      <td>Marzo</td>\n",
       "      <td>2023</td>\n",
       "      <td>2593.5</td>\n",
       "      <td>25.0</td>\n",
       "      <td>31</td>\n",
       "      <td>80398.5</td>\n",
       "      <td>0.1117</td>\n",
       "      <td>8977.30</td>\n",
       "      <td>16506.65</td>\n",
       "      <td>207.44</td>\n",
       "      <td>2593.5</td>\n",
       "    </tr>\n",
       "    <tr>\n",
       "      <th>3</th>\n",
       "      <td>3</td>\n",
       "      <td>2023-04-01</td>\n",
       "      <td>1</td>\n",
       "      <td>Abril</td>\n",
       "      <td>2023</td>\n",
       "      <td>2593.5</td>\n",
       "      <td>25.0</td>\n",
       "      <td>30</td>\n",
       "      <td>77805.0</td>\n",
       "      <td>0.1117</td>\n",
       "      <td>8687.71</td>\n",
       "      <td>25194.36</td>\n",
       "      <td>207.44</td>\n",
       "      <td>2593.5</td>\n",
       "    </tr>\n",
       "    <tr>\n",
       "      <th>4</th>\n",
       "      <td>4</td>\n",
       "      <td>2023-05-01</td>\n",
       "      <td>1</td>\n",
       "      <td>Mayo</td>\n",
       "      <td>2023</td>\n",
       "      <td>2593.5</td>\n",
       "      <td>25.0</td>\n",
       "      <td>31</td>\n",
       "      <td>80398.5</td>\n",
       "      <td>0.1117</td>\n",
       "      <td>8977.30</td>\n",
       "      <td>34171.66</td>\n",
       "      <td>207.44</td>\n",
       "      <td>2593.5</td>\n",
       "    </tr>\n",
       "    <tr>\n",
       "      <th>5</th>\n",
       "      <td>5</td>\n",
       "      <td>2023-06-01</td>\n",
       "      <td>1</td>\n",
       "      <td>Junio</td>\n",
       "      <td>2023</td>\n",
       "      <td>2593.5</td>\n",
       "      <td>25.0</td>\n",
       "      <td>30</td>\n",
       "      <td>77805.0</td>\n",
       "      <td>0.1117</td>\n",
       "      <td>8687.71</td>\n",
       "      <td>42859.37</td>\n",
       "      <td>207.44</td>\n",
       "      <td>2593.5</td>\n",
       "    </tr>\n",
       "    <tr>\n",
       "      <th>6</th>\n",
       "      <td>6</td>\n",
       "      <td>2023-07-01</td>\n",
       "      <td>1</td>\n",
       "      <td>Julio</td>\n",
       "      <td>2023</td>\n",
       "      <td>2593.5</td>\n",
       "      <td>25.0</td>\n",
       "      <td>31</td>\n",
       "      <td>80398.5</td>\n",
       "      <td>0.1117</td>\n",
       "      <td>8977.30</td>\n",
       "      <td>51836.67</td>\n",
       "      <td>207.44</td>\n",
       "      <td>2593.5</td>\n",
       "    </tr>\n",
       "    <tr>\n",
       "      <th>7</th>\n",
       "      <td>7</td>\n",
       "      <td>2023-08-01</td>\n",
       "      <td>1</td>\n",
       "      <td>Agosto</td>\n",
       "      <td>2023</td>\n",
       "      <td>2593.5</td>\n",
       "      <td>25.0</td>\n",
       "      <td>31</td>\n",
       "      <td>80398.5</td>\n",
       "      <td>0.1117</td>\n",
       "      <td>8977.30</td>\n",
       "      <td>60813.97</td>\n",
       "      <td>207.44</td>\n",
       "      <td>2593.5</td>\n",
       "    </tr>\n",
       "    <tr>\n",
       "      <th>8</th>\n",
       "      <td>8</td>\n",
       "      <td>2023-09-01</td>\n",
       "      <td>1</td>\n",
       "      <td>Septiembre</td>\n",
       "      <td>2023</td>\n",
       "      <td>2593.5</td>\n",
       "      <td>25.0</td>\n",
       "      <td>30</td>\n",
       "      <td>77805.0</td>\n",
       "      <td>0.1117</td>\n",
       "      <td>8687.71</td>\n",
       "      <td>69501.68</td>\n",
       "      <td>207.44</td>\n",
       "      <td>2593.5</td>\n",
       "    </tr>\n",
       "    <tr>\n",
       "      <th>9</th>\n",
       "      <td>9</td>\n",
       "      <td>2023-10-01</td>\n",
       "      <td>1</td>\n",
       "      <td>Octubre</td>\n",
       "      <td>2023</td>\n",
       "      <td>2593.5</td>\n",
       "      <td>25.0</td>\n",
       "      <td>31</td>\n",
       "      <td>80398.5</td>\n",
       "      <td>0.1117</td>\n",
       "      <td>8977.30</td>\n",
       "      <td>78478.98</td>\n",
       "      <td>207.44</td>\n",
       "      <td>2593.5</td>\n",
       "    </tr>\n",
       "    <tr>\n",
       "      <th>10</th>\n",
       "      <td>10</td>\n",
       "      <td>2023-11-01</td>\n",
       "      <td>1</td>\n",
       "      <td>Noviembre</td>\n",
       "      <td>2023</td>\n",
       "      <td>2593.5</td>\n",
       "      <td>25.0</td>\n",
       "      <td>30</td>\n",
       "      <td>77805.0</td>\n",
       "      <td>0.1117</td>\n",
       "      <td>8687.71</td>\n",
       "      <td>87166.69</td>\n",
       "      <td>207.44</td>\n",
       "      <td>2593.5</td>\n",
       "    </tr>\n",
       "  </tbody>\n",
       "</table>\n",
       "</div>"
      ]
     },
     "metadata": {},
     "output_type": "display_data"
    },
    {
     "name": "stdout",
     "output_type": "stream",
     "text": [
      "Strings\n"
     ]
    },
    {
     "data": {
      "text/plain": [
       "    Número de Pago                     Fechas de Pago  \\\n",
       "1                1      Viernes, 3 de febrero de 2023   \n",
       "2                2      Miércoles, 1 de marzo de 2023   \n",
       "3                3         Sábado, 1 de abril de 2023   \n",
       "4                4           Lunes, 1 de mayo de 2023   \n",
       "5                5         Jueves, 1 de junio de 2023   \n",
       "6                6         Sábado, 1 de julio de 2023   \n",
       "7                7        Martes, 1 de agosto de 2023   \n",
       "8                8   Viernes, 1 de septiembre de 2023   \n",
       "9                9      Domingo, 1 de octubre de 2023   \n",
       "10              10  Miércoles, 1 de noviembre de 2023   \n",
       "\n",
       "    Día de Inicio de Cobertura Mes de Pago  Año de Pago  \\\n",
       "1                            3     Febrero         2023   \n",
       "2                            1       Marzo         2023   \n",
       "3                            1       Abril         2023   \n",
       "4                            1        Mayo         2023   \n",
       "5                            1       Junio         2023   \n",
       "6                            1       Julio         2023   \n",
       "7                            1      Agosto         2023   \n",
       "8                            1  Septiembre         2023   \n",
       "9                            1     Octubre         2023   \n",
       "10                           1   Noviembre         2023   \n",
       "\n",
       "   Salario Diario Asignado  Relación Salario/UMA  Días cubiertos  \\\n",
       "1                $2,593.50                  25.0              26   \n",
       "2                $2,593.50                  25.0              31   \n",
       "3                $2,593.50                  25.0              30   \n",
       "4                $2,593.50                  25.0              31   \n",
       "5                $2,593.50                  25.0              30   \n",
       "6                $2,593.50                  25.0              31   \n",
       "7                $2,593.50                  25.0              31   \n",
       "8                $2,593.50                  25.0              30   \n",
       "9                $2,593.50                  25.0              31   \n",
       "10               $2,593.50                  25.0              30   \n",
       "\n",
       "   Salario Asignado Mensual % de pago respecto del salario asignado  \\\n",
       "1                $67,431.00                                  11.17%   \n",
       "2                $80,398.50                                  11.17%   \n",
       "3                $77,805.00                                  11.17%   \n",
       "4                $80,398.50                                  11.17%   \n",
       "5                $77,805.00                                  11.17%   \n",
       "6                $80,398.50                                  11.17%   \n",
       "7                $80,398.50                                  11.17%   \n",
       "8                $77,805.00                                  11.17%   \n",
       "9                $80,398.50                                  11.17%   \n",
       "10               $77,805.00                                  11.17%   \n",
       "\n",
       "   Pago Mensual Pago Acumulado Salario Mínimo del año en curso  \\\n",
       "1     $7,529.35      $7,529.35                         $207.44   \n",
       "2     $8,977.30     $16,506.65                         $207.44   \n",
       "3     $8,687.71     $25,194.36                         $207.44   \n",
       "4     $8,977.30     $34,171.66                         $207.44   \n",
       "5     $8,687.71     $42,859.37                         $207.44   \n",
       "6     $8,977.30     $51,836.67                         $207.44   \n",
       "7     $8,977.30     $60,813.97                         $207.44   \n",
       "8     $8,687.71     $69,501.68                         $207.44   \n",
       "9     $8,977.30     $78,478.98                         $207.44   \n",
       "10    $8,687.71     $87,166.69                         $207.44   \n",
       "\n",
       "   Salario Máximo del año en curso  \n",
       "1                        $2,593.50  \n",
       "2                        $2,593.50  \n",
       "3                        $2,593.50  \n",
       "4                        $2,593.50  \n",
       "5                        $2,593.50  \n",
       "6                        $2,593.50  \n",
       "7                        $2,593.50  \n",
       "8                        $2,593.50  \n",
       "9                        $2,593.50  \n",
       "10                       $2,593.50  "
      ],
      "text/html": [
       "<div>\n",
       "<style scoped>\n",
       "    .dataframe tbody tr th:only-of-type {\n",
       "        vertical-align: middle;\n",
       "    }\n",
       "\n",
       "    .dataframe tbody tr th {\n",
       "        vertical-align: top;\n",
       "    }\n",
       "\n",
       "    .dataframe thead th {\n",
       "        text-align: right;\n",
       "    }\n",
       "</style>\n",
       "<table border=\"1\" class=\"dataframe\">\n",
       "  <thead>\n",
       "    <tr style=\"text-align: right;\">\n",
       "      <th></th>\n",
       "      <th>Número de Pago</th>\n",
       "      <th>Fechas de Pago</th>\n",
       "      <th>Día de Inicio de Cobertura</th>\n",
       "      <th>Mes de Pago</th>\n",
       "      <th>Año de Pago</th>\n",
       "      <th>Salario Diario Asignado</th>\n",
       "      <th>Relación Salario/UMA</th>\n",
       "      <th>Días cubiertos</th>\n",
       "      <th>Salario Asignado Mensual</th>\n",
       "      <th>% de pago respecto del salario asignado</th>\n",
       "      <th>Pago Mensual</th>\n",
       "      <th>Pago Acumulado</th>\n",
       "      <th>Salario Mínimo del año en curso</th>\n",
       "      <th>Salario Máximo del año en curso</th>\n",
       "    </tr>\n",
       "  </thead>\n",
       "  <tbody>\n",
       "    <tr>\n",
       "      <th>1</th>\n",
       "      <td>1</td>\n",
       "      <td>Viernes, 3 de febrero de 2023</td>\n",
       "      <td>3</td>\n",
       "      <td>Febrero</td>\n",
       "      <td>2023</td>\n",
       "      <td>$2,593.50</td>\n",
       "      <td>25.0</td>\n",
       "      <td>26</td>\n",
       "      <td>$67,431.00</td>\n",
       "      <td>11.17%</td>\n",
       "      <td>$7,529.35</td>\n",
       "      <td>$7,529.35</td>\n",
       "      <td>$207.44</td>\n",
       "      <td>$2,593.50</td>\n",
       "    </tr>\n",
       "    <tr>\n",
       "      <th>2</th>\n",
       "      <td>2</td>\n",
       "      <td>Miércoles, 1 de marzo de 2023</td>\n",
       "      <td>1</td>\n",
       "      <td>Marzo</td>\n",
       "      <td>2023</td>\n",
       "      <td>$2,593.50</td>\n",
       "      <td>25.0</td>\n",
       "      <td>31</td>\n",
       "      <td>$80,398.50</td>\n",
       "      <td>11.17%</td>\n",
       "      <td>$8,977.30</td>\n",
       "      <td>$16,506.65</td>\n",
       "      <td>$207.44</td>\n",
       "      <td>$2,593.50</td>\n",
       "    </tr>\n",
       "    <tr>\n",
       "      <th>3</th>\n",
       "      <td>3</td>\n",
       "      <td>Sábado, 1 de abril de 2023</td>\n",
       "      <td>1</td>\n",
       "      <td>Abril</td>\n",
       "      <td>2023</td>\n",
       "      <td>$2,593.50</td>\n",
       "      <td>25.0</td>\n",
       "      <td>30</td>\n",
       "      <td>$77,805.00</td>\n",
       "      <td>11.17%</td>\n",
       "      <td>$8,687.71</td>\n",
       "      <td>$25,194.36</td>\n",
       "      <td>$207.44</td>\n",
       "      <td>$2,593.50</td>\n",
       "    </tr>\n",
       "    <tr>\n",
       "      <th>4</th>\n",
       "      <td>4</td>\n",
       "      <td>Lunes, 1 de mayo de 2023</td>\n",
       "      <td>1</td>\n",
       "      <td>Mayo</td>\n",
       "      <td>2023</td>\n",
       "      <td>$2,593.50</td>\n",
       "      <td>25.0</td>\n",
       "      <td>31</td>\n",
       "      <td>$80,398.50</td>\n",
       "      <td>11.17%</td>\n",
       "      <td>$8,977.30</td>\n",
       "      <td>$34,171.66</td>\n",
       "      <td>$207.44</td>\n",
       "      <td>$2,593.50</td>\n",
       "    </tr>\n",
       "    <tr>\n",
       "      <th>5</th>\n",
       "      <td>5</td>\n",
       "      <td>Jueves, 1 de junio de 2023</td>\n",
       "      <td>1</td>\n",
       "      <td>Junio</td>\n",
       "      <td>2023</td>\n",
       "      <td>$2,593.50</td>\n",
       "      <td>25.0</td>\n",
       "      <td>30</td>\n",
       "      <td>$77,805.00</td>\n",
       "      <td>11.17%</td>\n",
       "      <td>$8,687.71</td>\n",
       "      <td>$42,859.37</td>\n",
       "      <td>$207.44</td>\n",
       "      <td>$2,593.50</td>\n",
       "    </tr>\n",
       "    <tr>\n",
       "      <th>6</th>\n",
       "      <td>6</td>\n",
       "      <td>Sábado, 1 de julio de 2023</td>\n",
       "      <td>1</td>\n",
       "      <td>Julio</td>\n",
       "      <td>2023</td>\n",
       "      <td>$2,593.50</td>\n",
       "      <td>25.0</td>\n",
       "      <td>31</td>\n",
       "      <td>$80,398.50</td>\n",
       "      <td>11.17%</td>\n",
       "      <td>$8,977.30</td>\n",
       "      <td>$51,836.67</td>\n",
       "      <td>$207.44</td>\n",
       "      <td>$2,593.50</td>\n",
       "    </tr>\n",
       "    <tr>\n",
       "      <th>7</th>\n",
       "      <td>7</td>\n",
       "      <td>Martes, 1 de agosto de 2023</td>\n",
       "      <td>1</td>\n",
       "      <td>Agosto</td>\n",
       "      <td>2023</td>\n",
       "      <td>$2,593.50</td>\n",
       "      <td>25.0</td>\n",
       "      <td>31</td>\n",
       "      <td>$80,398.50</td>\n",
       "      <td>11.17%</td>\n",
       "      <td>$8,977.30</td>\n",
       "      <td>$60,813.97</td>\n",
       "      <td>$207.44</td>\n",
       "      <td>$2,593.50</td>\n",
       "    </tr>\n",
       "    <tr>\n",
       "      <th>8</th>\n",
       "      <td>8</td>\n",
       "      <td>Viernes, 1 de septiembre de 2023</td>\n",
       "      <td>1</td>\n",
       "      <td>Septiembre</td>\n",
       "      <td>2023</td>\n",
       "      <td>$2,593.50</td>\n",
       "      <td>25.0</td>\n",
       "      <td>30</td>\n",
       "      <td>$77,805.00</td>\n",
       "      <td>11.17%</td>\n",
       "      <td>$8,687.71</td>\n",
       "      <td>$69,501.68</td>\n",
       "      <td>$207.44</td>\n",
       "      <td>$2,593.50</td>\n",
       "    </tr>\n",
       "    <tr>\n",
       "      <th>9</th>\n",
       "      <td>9</td>\n",
       "      <td>Domingo, 1 de octubre de 2023</td>\n",
       "      <td>1</td>\n",
       "      <td>Octubre</td>\n",
       "      <td>2023</td>\n",
       "      <td>$2,593.50</td>\n",
       "      <td>25.0</td>\n",
       "      <td>31</td>\n",
       "      <td>$80,398.50</td>\n",
       "      <td>11.17%</td>\n",
       "      <td>$8,977.30</td>\n",
       "      <td>$78,478.98</td>\n",
       "      <td>$207.44</td>\n",
       "      <td>$2,593.50</td>\n",
       "    </tr>\n",
       "    <tr>\n",
       "      <th>10</th>\n",
       "      <td>10</td>\n",
       "      <td>Miércoles, 1 de noviembre de 2023</td>\n",
       "      <td>1</td>\n",
       "      <td>Noviembre</td>\n",
       "      <td>2023</td>\n",
       "      <td>$2,593.50</td>\n",
       "      <td>25.0</td>\n",
       "      <td>30</td>\n",
       "      <td>$77,805.00</td>\n",
       "      <td>11.17%</td>\n",
       "      <td>$8,687.71</td>\n",
       "      <td>$87,166.69</td>\n",
       "      <td>$207.44</td>\n",
       "      <td>$2,593.50</td>\n",
       "    </tr>\n",
       "  </tbody>\n",
       "</table>\n",
       "</div>"
      ]
     },
     "execution_count": 17,
     "metadata": {},
     "output_type": "execute_result"
    }
   ],
   "execution_count": 17
  },
  {
   "metadata": {},
   "cell_type": "markdown",
   "source": [
    "# Tabla Pivot de Pagos Mod. 40\n",
    "### Parámetros de entrada\n",
    "\n",
    "1. Tabla de Pagos numérica"
   ],
   "id": "d9a9ef3b6f7acb23"
  },
  {
   "metadata": {
    "ExecuteTime": {
     "end_time": "2025-08-19T19:18:13.472812Z",
     "start_time": "2025-08-19T19:18:13.454735Z"
    }
   },
   "cell_type": "code",
   "source": [
    "def pivot_pagos40(df):\n",
    "    pivot_table = pd.pivot_table(data=df,\n",
    "                index = 'Mes de Pago',\n",
    "                values = 'Pago Mensual',\n",
    "                columns = 'Año de Pago',\n",
    "                aggfunc = 'sum',\n",
    "                fill_value=0,\n",
    "                margins=True,\n",
    "                margins_name='Total')\n",
    "    # Rename margin row and column\n",
    "    pivot_table.rename(index={pivot_table.index[-1]: 'Total por mes'},\n",
    "                    columns={pivot_table.columns[-1]: 'Total por año'},\n",
    "                    inplace=True)\n",
    "\n",
    "    # Define the desired order\n",
    "    order = ['Enero', 'Febrero', 'Marzo', 'Abril', 'Mayo', 'Junio', 'Julio', 'Agosto', 'Septiembre', 'Octubre', 'Noviembre', 'Diciembre', 'Total por mes']\n",
    "\n",
    "    # Reindex the pivot table\n",
    "    ordered_pivot_table = pivot_table.reindex(index=order)\n",
    "\n",
    "    # Convert float values to currency strings\n",
    "    ordered_pivot_table_string = ordered_pivot_table.map(\"${:,.2f}\".format)\n",
    "\n",
    "    total_payment = ordered_pivot_table['Total por año'].iloc[-1]\n",
    "    total_payment = convert_double_currency(total_payment)\n",
    "    return ordered_pivot_table, ordered_pivot_table_string, total_payment\n",
    "\n",
    "risultati = pivot_pagos40(pagos_num)\n",
    "pivot_table = risultati[0]\n",
    "pivot_table_string = risultati[1]\n",
    "display(pivot_table_string)\n",
    "total_payment = risultati[2]\n",
    "print(f\"Total Payment: {total_payment}\")"
   ],
   "id": "daff6e5c624dbcc6",
   "outputs": [
    {
     "data": {
      "text/plain": [
       "Año de Pago          2023         2024        2025 Total por año\n",
       "Mes de Pago                                                     \n",
       "Enero               $0.00    $9,853.64  $10,730.79    $20,584.43\n",
       "Febrero         $7,529.35    $9,217.92   $9,692.32    $26,439.59\n",
       "Marzo           $8,977.30    $9,853.64       $0.00    $18,830.94\n",
       "Abril           $8,687.71    $9,535.78       $0.00    $18,223.49\n",
       "Mayo            $8,977.30    $9,853.64       $0.00    $18,830.94\n",
       "Junio           $8,687.71    $9,535.78       $0.00    $18,223.49\n",
       "Julio           $8,977.30    $9,853.64       $0.00    $18,830.94\n",
       "Agosto          $8,977.30    $9,853.64       $0.00    $18,830.94\n",
       "Septiembre      $8,687.71    $9,535.78       $0.00    $18,223.49\n",
       "Octubre         $8,977.30    $9,853.64       $0.00    $18,830.94\n",
       "Noviembre       $8,687.71    $9,535.78       $0.00    $18,223.49\n",
       "Diciembre       $8,977.30    $9,853.64       $0.00    $18,830.94\n",
       "Total por mes  $96,143.99  $116,336.52  $20,423.11   $232,903.62"
      ],
      "text/html": [
       "<div>\n",
       "<style scoped>\n",
       "    .dataframe tbody tr th:only-of-type {\n",
       "        vertical-align: middle;\n",
       "    }\n",
       "\n",
       "    .dataframe tbody tr th {\n",
       "        vertical-align: top;\n",
       "    }\n",
       "\n",
       "    .dataframe thead th {\n",
       "        text-align: right;\n",
       "    }\n",
       "</style>\n",
       "<table border=\"1\" class=\"dataframe\">\n",
       "  <thead>\n",
       "    <tr style=\"text-align: right;\">\n",
       "      <th>Año de Pago</th>\n",
       "      <th>2023</th>\n",
       "      <th>2024</th>\n",
       "      <th>2025</th>\n",
       "      <th>Total por año</th>\n",
       "    </tr>\n",
       "    <tr>\n",
       "      <th>Mes de Pago</th>\n",
       "      <th></th>\n",
       "      <th></th>\n",
       "      <th></th>\n",
       "      <th></th>\n",
       "    </tr>\n",
       "  </thead>\n",
       "  <tbody>\n",
       "    <tr>\n",
       "      <th>Enero</th>\n",
       "      <td>$0.00</td>\n",
       "      <td>$9,853.64</td>\n",
       "      <td>$10,730.79</td>\n",
       "      <td>$20,584.43</td>\n",
       "    </tr>\n",
       "    <tr>\n",
       "      <th>Febrero</th>\n",
       "      <td>$7,529.35</td>\n",
       "      <td>$9,217.92</td>\n",
       "      <td>$9,692.32</td>\n",
       "      <td>$26,439.59</td>\n",
       "    </tr>\n",
       "    <tr>\n",
       "      <th>Marzo</th>\n",
       "      <td>$8,977.30</td>\n",
       "      <td>$9,853.64</td>\n",
       "      <td>$0.00</td>\n",
       "      <td>$18,830.94</td>\n",
       "    </tr>\n",
       "    <tr>\n",
       "      <th>Abril</th>\n",
       "      <td>$8,687.71</td>\n",
       "      <td>$9,535.78</td>\n",
       "      <td>$0.00</td>\n",
       "      <td>$18,223.49</td>\n",
       "    </tr>\n",
       "    <tr>\n",
       "      <th>Mayo</th>\n",
       "      <td>$8,977.30</td>\n",
       "      <td>$9,853.64</td>\n",
       "      <td>$0.00</td>\n",
       "      <td>$18,830.94</td>\n",
       "    </tr>\n",
       "    <tr>\n",
       "      <th>Junio</th>\n",
       "      <td>$8,687.71</td>\n",
       "      <td>$9,535.78</td>\n",
       "      <td>$0.00</td>\n",
       "      <td>$18,223.49</td>\n",
       "    </tr>\n",
       "    <tr>\n",
       "      <th>Julio</th>\n",
       "      <td>$8,977.30</td>\n",
       "      <td>$9,853.64</td>\n",
       "      <td>$0.00</td>\n",
       "      <td>$18,830.94</td>\n",
       "    </tr>\n",
       "    <tr>\n",
       "      <th>Agosto</th>\n",
       "      <td>$8,977.30</td>\n",
       "      <td>$9,853.64</td>\n",
       "      <td>$0.00</td>\n",
       "      <td>$18,830.94</td>\n",
       "    </tr>\n",
       "    <tr>\n",
       "      <th>Septiembre</th>\n",
       "      <td>$8,687.71</td>\n",
       "      <td>$9,535.78</td>\n",
       "      <td>$0.00</td>\n",
       "      <td>$18,223.49</td>\n",
       "    </tr>\n",
       "    <tr>\n",
       "      <th>Octubre</th>\n",
       "      <td>$8,977.30</td>\n",
       "      <td>$9,853.64</td>\n",
       "      <td>$0.00</td>\n",
       "      <td>$18,830.94</td>\n",
       "    </tr>\n",
       "    <tr>\n",
       "      <th>Noviembre</th>\n",
       "      <td>$8,687.71</td>\n",
       "      <td>$9,535.78</td>\n",
       "      <td>$0.00</td>\n",
       "      <td>$18,223.49</td>\n",
       "    </tr>\n",
       "    <tr>\n",
       "      <th>Diciembre</th>\n",
       "      <td>$8,977.30</td>\n",
       "      <td>$9,853.64</td>\n",
       "      <td>$0.00</td>\n",
       "      <td>$18,830.94</td>\n",
       "    </tr>\n",
       "    <tr>\n",
       "      <th>Total por mes</th>\n",
       "      <td>$96,143.99</td>\n",
       "      <td>$116,336.52</td>\n",
       "      <td>$20,423.11</td>\n",
       "      <td>$232,903.62</td>\n",
       "    </tr>\n",
       "  </tbody>\n",
       "</table>\n",
       "</div>"
      ]
     },
     "metadata": {},
     "output_type": "display_data"
    },
    {
     "name": "stdout",
     "output_type": "stream",
     "text": [
      "Total Payment: $232,903.62\n"
     ]
    }
   ],
   "execution_count": 18
  },
  {
   "metadata": {},
   "cell_type": "markdown",
   "source": [
    "## Crecimiento anual:\n",
    "\n",
    "### Parámetros de entrada\n",
    "\n",
    "1. Año de inicio\n",
    "2. Valor de pensión\n",
    "3. Año Final\n",
    "\n",
    "\n"
   ],
   "id": "5e3cee6b3edc5269"
  },
  {
   "metadata": {
    "ExecuteTime": {
     "end_time": "2025-08-19T19:18:13.612134Z",
     "start_time": "2025-08-19T19:18:13.598555Z"
    }
   },
   "cell_type": "code",
   "source": [
    "def crecimiento_anual_pension_fcn(ano_pension, pension_final, year_max=2040):\n",
    "    tabla = 'TABLAS/TABLA_INFLACION.txt'\n",
    "    tabla = pd.read_csv(tabla, sep = '\\t')\n",
    "    year_max = min(2040, year_max)\n",
    "    num_years = year_max - ano_pension\n",
    "    year_array = np.arange(0, num_years + 1) + ano_pension\n",
    "    idx_inicial = tabla.index[tabla['AÑO'] == ano_pension].tolist()[0]\n",
    "    idx_final = tabla.index[tabla['AÑO'] == ano_pension + num_years].tolist()[0]\n",
    "\n",
    "    inflacion_anual_numerico = tabla.iloc[idx_inicial:idx_final, 1]\n",
    "    inflacion_anual_numerico = inflacion_anual_numerico.map(lambda x: float(x.replace('%','')))\n",
    "    inflacion_anual_numerico = pd.concat([pd.Series([0]), inflacion_anual_numerico])\n",
    "\n",
    "    inflacion_anual_acumulada = np.cumsum(inflacion_anual_numerico)\n",
    "    pension_mensual = (inflacion_anual_acumulada/1e2 + 1) * pension_final\n",
    "\n",
    "    tabla_crecimiento_num = pd.DataFrame({\n",
    "        'Año': year_array.astype(int),\n",
    "        'Inflación Anual': inflacion_anual_numerico,\n",
    "        'Inflación Anual Acumulada' : inflacion_anual_acumulada,\n",
    "        'Pensión recibida mensual' : pension_mensual\n",
    "    }).round(2)\n",
    "\n",
    "    tabla_crecimiento_str = tabla_crecimiento_num.copy()\n",
    "    tabla_crecimiento_str['Inflación Anual'] = (tabla_crecimiento_str['Inflación Anual']).map(\"{:.3}%\".format)\n",
    "    tabla_crecimiento_str['Inflación Anual Acumulada'] = (tabla_crecimiento_str['Inflación Anual Acumulada']).map(\"{:.3}%\".format)\n",
    "    tabla_crecimiento_str['Pensión recibida mensual'] = [convert_double_currency(val) for val in tabla_crecimiento_str['Pensión recibida mensual']]\n",
    "\n",
    "\n",
    "    return tabla_crecimiento_num, tabla_crecimiento_str\n",
    "\n",
    "ano_inicio = 2025 #@param {type:\"integer\"}\n",
    "valor_pension = 56110 #@param {type:\"integer\"}\n",
    "year_max = 2040 #@param {type:\"integer\"}\n",
    "\n",
    "tabla_crecimiento_num, tabla_crecimiento_str = crecimiento_anual_pension_fcn(ano_inicio, valor_pension, year_max)\n",
    "display(tabla_crecimiento_str.head(10))\n",
    "display(tabla_crecimiento_num.head(10))"
   ],
   "id": "ebc28daeafbbacad",
   "outputs": [
    {
     "data": {
      "text/plain": [
       "     Año Inflación Anual Inflación Anual Acumulada Pensión recibida mensual\n",
       "0   2025            0.0%                      0.0%               $56,110.00\n",
       "22  2026           4.29%                     4.29%               $58,517.12\n",
       "23  2027           4.29%                     8.58%               $60,924.24\n",
       "24  2028           4.29%                     12.9%               $63,331.36\n",
       "25  2029           4.29%                     17.2%               $65,738.48\n",
       "26  2030           4.29%                     21.4%               $68,145.60\n",
       "27  2031           4.29%                     25.7%               $70,552.71\n",
       "28  2032           4.28%                     30.0%               $72,954.22\n",
       "29  2033           4.28%                     34.3%               $75,355.73\n",
       "30  2034           4.28%                     38.6%               $77,757.24"
      ],
      "text/html": [
       "<div>\n",
       "<style scoped>\n",
       "    .dataframe tbody tr th:only-of-type {\n",
       "        vertical-align: middle;\n",
       "    }\n",
       "\n",
       "    .dataframe tbody tr th {\n",
       "        vertical-align: top;\n",
       "    }\n",
       "\n",
       "    .dataframe thead th {\n",
       "        text-align: right;\n",
       "    }\n",
       "</style>\n",
       "<table border=\"1\" class=\"dataframe\">\n",
       "  <thead>\n",
       "    <tr style=\"text-align: right;\">\n",
       "      <th></th>\n",
       "      <th>Año</th>\n",
       "      <th>Inflación Anual</th>\n",
       "      <th>Inflación Anual Acumulada</th>\n",
       "      <th>Pensión recibida mensual</th>\n",
       "    </tr>\n",
       "  </thead>\n",
       "  <tbody>\n",
       "    <tr>\n",
       "      <th>0</th>\n",
       "      <td>2025</td>\n",
       "      <td>0.0%</td>\n",
       "      <td>0.0%</td>\n",
       "      <td>$56,110.00</td>\n",
       "    </tr>\n",
       "    <tr>\n",
       "      <th>22</th>\n",
       "      <td>2026</td>\n",
       "      <td>4.29%</td>\n",
       "      <td>4.29%</td>\n",
       "      <td>$58,517.12</td>\n",
       "    </tr>\n",
       "    <tr>\n",
       "      <th>23</th>\n",
       "      <td>2027</td>\n",
       "      <td>4.29%</td>\n",
       "      <td>8.58%</td>\n",
       "      <td>$60,924.24</td>\n",
       "    </tr>\n",
       "    <tr>\n",
       "      <th>24</th>\n",
       "      <td>2028</td>\n",
       "      <td>4.29%</td>\n",
       "      <td>12.9%</td>\n",
       "      <td>$63,331.36</td>\n",
       "    </tr>\n",
       "    <tr>\n",
       "      <th>25</th>\n",
       "      <td>2029</td>\n",
       "      <td>4.29%</td>\n",
       "      <td>17.2%</td>\n",
       "      <td>$65,738.48</td>\n",
       "    </tr>\n",
       "    <tr>\n",
       "      <th>26</th>\n",
       "      <td>2030</td>\n",
       "      <td>4.29%</td>\n",
       "      <td>21.4%</td>\n",
       "      <td>$68,145.60</td>\n",
       "    </tr>\n",
       "    <tr>\n",
       "      <th>27</th>\n",
       "      <td>2031</td>\n",
       "      <td>4.29%</td>\n",
       "      <td>25.7%</td>\n",
       "      <td>$70,552.71</td>\n",
       "    </tr>\n",
       "    <tr>\n",
       "      <th>28</th>\n",
       "      <td>2032</td>\n",
       "      <td>4.28%</td>\n",
       "      <td>30.0%</td>\n",
       "      <td>$72,954.22</td>\n",
       "    </tr>\n",
       "    <tr>\n",
       "      <th>29</th>\n",
       "      <td>2033</td>\n",
       "      <td>4.28%</td>\n",
       "      <td>34.3%</td>\n",
       "      <td>$75,355.73</td>\n",
       "    </tr>\n",
       "    <tr>\n",
       "      <th>30</th>\n",
       "      <td>2034</td>\n",
       "      <td>4.28%</td>\n",
       "      <td>38.6%</td>\n",
       "      <td>$77,757.24</td>\n",
       "    </tr>\n",
       "  </tbody>\n",
       "</table>\n",
       "</div>"
      ]
     },
     "metadata": {},
     "output_type": "display_data"
    },
    {
     "data": {
      "text/plain": [
       "     Año  Inflación Anual  Inflación Anual Acumulada  Pensión recibida mensual\n",
       "0   2025             0.00                       0.00                  56110.00\n",
       "22  2026             4.29                       4.29                  58517.12\n",
       "23  2027             4.29                       8.58                  60924.24\n",
       "24  2028             4.29                      12.87                  63331.36\n",
       "25  2029             4.29                      17.16                  65738.48\n",
       "26  2030             4.29                      21.45                  68145.60\n",
       "27  2031             4.29                      25.74                  70552.71\n",
       "28  2032             4.28                      30.02                  72954.22\n",
       "29  2033             4.28                      34.30                  75355.73\n",
       "30  2034             4.28                      38.58                  77757.24"
      ],
      "text/html": [
       "<div>\n",
       "<style scoped>\n",
       "    .dataframe tbody tr th:only-of-type {\n",
       "        vertical-align: middle;\n",
       "    }\n",
       "\n",
       "    .dataframe tbody tr th {\n",
       "        vertical-align: top;\n",
       "    }\n",
       "\n",
       "    .dataframe thead th {\n",
       "        text-align: right;\n",
       "    }\n",
       "</style>\n",
       "<table border=\"1\" class=\"dataframe\">\n",
       "  <thead>\n",
       "    <tr style=\"text-align: right;\">\n",
       "      <th></th>\n",
       "      <th>Año</th>\n",
       "      <th>Inflación Anual</th>\n",
       "      <th>Inflación Anual Acumulada</th>\n",
       "      <th>Pensión recibida mensual</th>\n",
       "    </tr>\n",
       "  </thead>\n",
       "  <tbody>\n",
       "    <tr>\n",
       "      <th>0</th>\n",
       "      <td>2025</td>\n",
       "      <td>0.00</td>\n",
       "      <td>0.00</td>\n",
       "      <td>56110.00</td>\n",
       "    </tr>\n",
       "    <tr>\n",
       "      <th>22</th>\n",
       "      <td>2026</td>\n",
       "      <td>4.29</td>\n",
       "      <td>4.29</td>\n",
       "      <td>58517.12</td>\n",
       "    </tr>\n",
       "    <tr>\n",
       "      <th>23</th>\n",
       "      <td>2027</td>\n",
       "      <td>4.29</td>\n",
       "      <td>8.58</td>\n",
       "      <td>60924.24</td>\n",
       "    </tr>\n",
       "    <tr>\n",
       "      <th>24</th>\n",
       "      <td>2028</td>\n",
       "      <td>4.29</td>\n",
       "      <td>12.87</td>\n",
       "      <td>63331.36</td>\n",
       "    </tr>\n",
       "    <tr>\n",
       "      <th>25</th>\n",
       "      <td>2029</td>\n",
       "      <td>4.29</td>\n",
       "      <td>17.16</td>\n",
       "      <td>65738.48</td>\n",
       "    </tr>\n",
       "    <tr>\n",
       "      <th>26</th>\n",
       "      <td>2030</td>\n",
       "      <td>4.29</td>\n",
       "      <td>21.45</td>\n",
       "      <td>68145.60</td>\n",
       "    </tr>\n",
       "    <tr>\n",
       "      <th>27</th>\n",
       "      <td>2031</td>\n",
       "      <td>4.29</td>\n",
       "      <td>25.74</td>\n",
       "      <td>70552.71</td>\n",
       "    </tr>\n",
       "    <tr>\n",
       "      <th>28</th>\n",
       "      <td>2032</td>\n",
       "      <td>4.28</td>\n",
       "      <td>30.02</td>\n",
       "      <td>72954.22</td>\n",
       "    </tr>\n",
       "    <tr>\n",
       "      <th>29</th>\n",
       "      <td>2033</td>\n",
       "      <td>4.28</td>\n",
       "      <td>34.30</td>\n",
       "      <td>75355.73</td>\n",
       "    </tr>\n",
       "    <tr>\n",
       "      <th>30</th>\n",
       "      <td>2034</td>\n",
       "      <td>4.28</td>\n",
       "      <td>38.58</td>\n",
       "      <td>77757.24</td>\n",
       "    </tr>\n",
       "  </tbody>\n",
       "</table>\n",
       "</div>"
      ]
     },
     "metadata": {},
     "output_type": "display_data"
    }
   ],
   "execution_count": 19
  },
  {
   "metadata": {},
   "cell_type": "markdown",
   "source": "# Tabla Pivot con Plotly",
   "id": "e509cb790d028e8b"
  },
  {
   "metadata": {
    "ExecuteTime": {
     "end_time": "2025-08-19T19:52:22.172008Z",
     "start_time": "2025-08-19T19:52:22.089209Z"
    }
   },
   "cell_type": "code",
   "source": [
    "def heatmap_pagos40(pivot_table):\n",
    "    # df should have 'Mes de Pago' as index, 'Año de Pago' as columns, and 'Pago Mensual' as values\n",
    "    # Melt the DataFrame to long format\n",
    "    df = pivot_table.copy()\n",
    "    print(df.columns, df.index)\n",
    "    df.drop('Total por mes', axis=0, inplace=True)\n",
    "    df.drop('Total por año', axis=1, inplace=True)\n",
    "    df_melted = df.reset_index().melt(id_vars=['Mes de Pago'], var_name='Año de Pago', value_name='Pago Mensual')\n",
    "    # Create the heatmap\n",
    "    fig = go.Figure(data=go.Heatmap(\n",
    "        x=df_melted['Año de Pago'],\n",
    "        y=df_melted['Mes de Pago'],\n",
    "        z=df_melted['Pago Mensual'],\n",
    "        colorscale='turbo',\n",
    "        colorbar=dict(\n",
    "            tickformat=\"$,.0f\"\n",
    "        ),\n",
    "        text=df_melted.apply(lambda row: f'Mes: {row[\"Mes de Pago\"]}<br>Año: {row[\"Año de Pago\"]}<br>Pago Mensual: ${row[\"Pago Mensual\"]:.2f}', axis=1),\n",
    "\n",
    "        hoverinfo='text',\n",
    "    ))\n",
    "\n",
    "    fig.update_layout(\n",
    "        title='Pagos Mensuales',\n",
    "        xaxis=dict(\n",
    "            nticks=36,\n",
    "            title='Año de Pago',\n",
    "            tickmode='linear',\n",
    "            tick0=0,\n",
    "            dtick=1,\n",
    "            tickformat='d'\n",
    "        ),\n",
    "        xaxis_nticks=36,\n",
    "        yaxis_nticks=12,\n",
    "        xaxis_title='Año de Pago',\n",
    "        yaxis_title='Mes de Pago',\n",
    "    )\n",
    "\n",
    "    # Add text annotations\n",
    "    for i in range(len(df_melted)):\n",
    "        fig.add_annotation(\n",
    "            x=df_melted['Año de Pago'][i],\n",
    "            y=df_melted['Mes de Pago'][i],\n",
    "            text=f\"${df_melted['Pago Mensual'][i]:,.0f}\",\n",
    "            showarrow=False,\n",
    "            font=dict(size=16, color = 'white')\n",
    "        )\n",
    "\n",
    "    return fig.show()\n",
    "\n",
    "heatmap_pagos40(pivot_table)"
   ],
   "id": "7a9e079a8569b815",
   "outputs": [
    {
     "name": "stdout",
     "output_type": "stream",
     "text": [
      "Index([2023, 2024, 2025, 'Total por año'], dtype='object', name='Año de Pago') Index(['Enero', 'Febrero', 'Marzo', 'Abril', 'Mayo', 'Junio', 'Julio',\n",
      "       'Agosto', 'Septiembre', 'Octubre', 'Noviembre', 'Diciembre',\n",
      "       'Total por mes'],\n",
      "      dtype='object', name='Mes de Pago')\n"
     ]
    },
    {
     "data": {
      "application/vnd.plotly.v1+json": {
       "data": [
        {
         "colorbar": {
          "tickformat": "$,.0f"
         },
         "colorscale": [
          [
           0.0,
           "#30123b"
          ],
          [
           0.07142857142857142,
           "#4145ab"
          ],
          [
           0.14285714285714285,
           "#4675ed"
          ],
          [
           0.21428571428571427,
           "#39a2fc"
          ],
          [
           0.2857142857142857,
           "#1bcfd4"
          ],
          [
           0.35714285714285715,
           "#24eca6"
          ],
          [
           0.42857142857142855,
           "#61fc6c"
          ],
          [
           0.5,
           "#a4fc3b"
          ],
          [
           0.5714285714285714,
           "#d1e834"
          ],
          [
           0.6428571428571429,
           "#f3c63a"
          ],
          [
           0.7142857142857143,
           "#fe9b2d"
          ],
          [
           0.7857142857142857,
           "#f36315"
          ],
          [
           0.8571428571428571,
           "#d93806"
          ],
          [
           0.9285714285714286,
           "#b11901"
          ],
          [
           1.0,
           "#7a0402"
          ]
         ],
         "hoverinfo": "text",
         "text": [
          "Mes: Enero<br>Año: 2023<br>Pago Mensual: $0.00",
          "Mes: Febrero<br>Año: 2023<br>Pago Mensual: $7529.35",
          "Mes: Marzo<br>Año: 2023<br>Pago Mensual: $8977.30",
          "Mes: Abril<br>Año: 2023<br>Pago Mensual: $8687.71",
          "Mes: Mayo<br>Año: 2023<br>Pago Mensual: $8977.30",
          "Mes: Junio<br>Año: 2023<br>Pago Mensual: $8687.71",
          "Mes: Julio<br>Año: 2023<br>Pago Mensual: $8977.30",
          "Mes: Agosto<br>Año: 2023<br>Pago Mensual: $8977.30",
          "Mes: Septiembre<br>Año: 2023<br>Pago Mensual: $8687.71",
          "Mes: Octubre<br>Año: 2023<br>Pago Mensual: $8977.30",
          "Mes: Noviembre<br>Año: 2023<br>Pago Mensual: $8687.71",
          "Mes: Diciembre<br>Año: 2023<br>Pago Mensual: $8977.30",
          "Mes: Enero<br>Año: 2024<br>Pago Mensual: $9853.64",
          "Mes: Febrero<br>Año: 2024<br>Pago Mensual: $9217.92",
          "Mes: Marzo<br>Año: 2024<br>Pago Mensual: $9853.64",
          "Mes: Abril<br>Año: 2024<br>Pago Mensual: $9535.78",
          "Mes: Mayo<br>Año: 2024<br>Pago Mensual: $9853.64",
          "Mes: Junio<br>Año: 2024<br>Pago Mensual: $9535.78",
          "Mes: Julio<br>Año: 2024<br>Pago Mensual: $9853.64",
          "Mes: Agosto<br>Año: 2024<br>Pago Mensual: $9853.64",
          "Mes: Septiembre<br>Año: 2024<br>Pago Mensual: $9535.78",
          "Mes: Octubre<br>Año: 2024<br>Pago Mensual: $9853.64",
          "Mes: Noviembre<br>Año: 2024<br>Pago Mensual: $9535.78",
          "Mes: Diciembre<br>Año: 2024<br>Pago Mensual: $9853.64",
          "Mes: Enero<br>Año: 2025<br>Pago Mensual: $10730.79",
          "Mes: Febrero<br>Año: 2025<br>Pago Mensual: $9692.32",
          "Mes: Marzo<br>Año: 2025<br>Pago Mensual: $0.00",
          "Mes: Abril<br>Año: 2025<br>Pago Mensual: $0.00",
          "Mes: Mayo<br>Año: 2025<br>Pago Mensual: $0.00",
          "Mes: Junio<br>Año: 2025<br>Pago Mensual: $0.00",
          "Mes: Julio<br>Año: 2025<br>Pago Mensual: $0.00",
          "Mes: Agosto<br>Año: 2025<br>Pago Mensual: $0.00",
          "Mes: Septiembre<br>Año: 2025<br>Pago Mensual: $0.00",
          "Mes: Octubre<br>Año: 2025<br>Pago Mensual: $0.00",
          "Mes: Noviembre<br>Año: 2025<br>Pago Mensual: $0.00",
          "Mes: Diciembre<br>Año: 2025<br>Pago Mensual: $0.00"
         ],
         "x": [
          2023,
          2023,
          2023,
          2023,
          2023,
          2023,
          2023,
          2023,
          2023,
          2023,
          2023,
          2023,
          2024,
          2024,
          2024,
          2024,
          2024,
          2024,
          2024,
          2024,
          2024,
          2024,
          2024,
          2024,
          2025,
          2025,
          2025,
          2025,
          2025,
          2025,
          2025,
          2025,
          2025,
          2025,
          2025,
          2025
         ],
         "y": [
          "Enero",
          "Febrero",
          "Marzo",
          "Abril",
          "Mayo",
          "Junio",
          "Julio",
          "Agosto",
          "Septiembre",
          "Octubre",
          "Noviembre",
          "Diciembre",
          "Enero",
          "Febrero",
          "Marzo",
          "Abril",
          "Mayo",
          "Junio",
          "Julio",
          "Agosto",
          "Septiembre",
          "Octubre",
          "Noviembre",
          "Diciembre",
          "Enero",
          "Febrero",
          "Marzo",
          "Abril",
          "Mayo",
          "Junio",
          "Julio",
          "Agosto",
          "Septiembre",
          "Octubre",
          "Noviembre",
          "Diciembre"
         ],
         "z": {
          "dtype": "f8",
          "bdata": "AAAAAAAAAACamZmZWWm9QGZmZmamiMFAFK5H4dr3wEBmZmZmpojBQBSuR+Ha98BAZmZmZqaIwUBmZmZmpojBQBSuR+Ha98BAZmZmZqaIwUAUrkfh2vfAQGZmZmamiMFAuB6F69E+w0ApXI/C9QDCQLgehevRPsNAcT0K1+OfwkC4HoXr0T7DQHE9Ctfjn8JAuB6F69E+w0C4HoXr0T7DQHE9Ctfjn8JAuB6F69E+w0BxPQrX45/CQLgehevRPsNA7FG4HmX1xEBcj8L1KO7CQAAAAAAAAAAAAAAAAAAAAAAAAAAAAAAAAAAAAAAAAAAAAAAAAAAAAAAAAAAAAAAAAAAAAAAAAAAAAAAAAAAAAAAAAAAAAAAAAAAAAAAAAAAA"
         },
         "type": "heatmap"
        }
       ],
       "layout": {
        "template": {
         "data": {
          "histogram2dcontour": [
           {
            "type": "histogram2dcontour",
            "colorbar": {
             "outlinewidth": 0,
             "ticks": ""
            },
            "colorscale": [
             [
              0.0,
              "#0d0887"
             ],
             [
              0.1111111111111111,
              "#46039f"
             ],
             [
              0.2222222222222222,
              "#7201a8"
             ],
             [
              0.3333333333333333,
              "#9c179e"
             ],
             [
              0.4444444444444444,
              "#bd3786"
             ],
             [
              0.5555555555555556,
              "#d8576b"
             ],
             [
              0.6666666666666666,
              "#ed7953"
             ],
             [
              0.7777777777777778,
              "#fb9f3a"
             ],
             [
              0.8888888888888888,
              "#fdca26"
             ],
             [
              1.0,
              "#f0f921"
             ]
            ]
           }
          ],
          "choropleth": [
           {
            "type": "choropleth",
            "colorbar": {
             "outlinewidth": 0,
             "ticks": ""
            }
           }
          ],
          "histogram2d": [
           {
            "type": "histogram2d",
            "colorbar": {
             "outlinewidth": 0,
             "ticks": ""
            },
            "colorscale": [
             [
              0.0,
              "#0d0887"
             ],
             [
              0.1111111111111111,
              "#46039f"
             ],
             [
              0.2222222222222222,
              "#7201a8"
             ],
             [
              0.3333333333333333,
              "#9c179e"
             ],
             [
              0.4444444444444444,
              "#bd3786"
             ],
             [
              0.5555555555555556,
              "#d8576b"
             ],
             [
              0.6666666666666666,
              "#ed7953"
             ],
             [
              0.7777777777777778,
              "#fb9f3a"
             ],
             [
              0.8888888888888888,
              "#fdca26"
             ],
             [
              1.0,
              "#f0f921"
             ]
            ]
           }
          ],
          "heatmap": [
           {
            "type": "heatmap",
            "colorbar": {
             "outlinewidth": 0,
             "ticks": ""
            },
            "colorscale": [
             [
              0.0,
              "#0d0887"
             ],
             [
              0.1111111111111111,
              "#46039f"
             ],
             [
              0.2222222222222222,
              "#7201a8"
             ],
             [
              0.3333333333333333,
              "#9c179e"
             ],
             [
              0.4444444444444444,
              "#bd3786"
             ],
             [
              0.5555555555555556,
              "#d8576b"
             ],
             [
              0.6666666666666666,
              "#ed7953"
             ],
             [
              0.7777777777777778,
              "#fb9f3a"
             ],
             [
              0.8888888888888888,
              "#fdca26"
             ],
             [
              1.0,
              "#f0f921"
             ]
            ]
           }
          ],
          "contourcarpet": [
           {
            "type": "contourcarpet",
            "colorbar": {
             "outlinewidth": 0,
             "ticks": ""
            }
           }
          ],
          "contour": [
           {
            "type": "contour",
            "colorbar": {
             "outlinewidth": 0,
             "ticks": ""
            },
            "colorscale": [
             [
              0.0,
              "#0d0887"
             ],
             [
              0.1111111111111111,
              "#46039f"
             ],
             [
              0.2222222222222222,
              "#7201a8"
             ],
             [
              0.3333333333333333,
              "#9c179e"
             ],
             [
              0.4444444444444444,
              "#bd3786"
             ],
             [
              0.5555555555555556,
              "#d8576b"
             ],
             [
              0.6666666666666666,
              "#ed7953"
             ],
             [
              0.7777777777777778,
              "#fb9f3a"
             ],
             [
              0.8888888888888888,
              "#fdca26"
             ],
             [
              1.0,
              "#f0f921"
             ]
            ]
           }
          ],
          "surface": [
           {
            "type": "surface",
            "colorbar": {
             "outlinewidth": 0,
             "ticks": ""
            },
            "colorscale": [
             [
              0.0,
              "#0d0887"
             ],
             [
              0.1111111111111111,
              "#46039f"
             ],
             [
              0.2222222222222222,
              "#7201a8"
             ],
             [
              0.3333333333333333,
              "#9c179e"
             ],
             [
              0.4444444444444444,
              "#bd3786"
             ],
             [
              0.5555555555555556,
              "#d8576b"
             ],
             [
              0.6666666666666666,
              "#ed7953"
             ],
             [
              0.7777777777777778,
              "#fb9f3a"
             ],
             [
              0.8888888888888888,
              "#fdca26"
             ],
             [
              1.0,
              "#f0f921"
             ]
            ]
           }
          ],
          "mesh3d": [
           {
            "type": "mesh3d",
            "colorbar": {
             "outlinewidth": 0,
             "ticks": ""
            }
           }
          ],
          "scatter": [
           {
            "marker": {
             "line": {
              "color": "#283442"
             }
            },
            "type": "scatter"
           }
          ],
          "parcoords": [
           {
            "type": "parcoords",
            "line": {
             "colorbar": {
              "outlinewidth": 0,
              "ticks": ""
             }
            }
           }
          ],
          "scatterpolargl": [
           {
            "type": "scatterpolargl",
            "marker": {
             "colorbar": {
              "outlinewidth": 0,
              "ticks": ""
             }
            }
           }
          ],
          "bar": [
           {
            "error_x": {
             "color": "#f2f5fa"
            },
            "error_y": {
             "color": "#f2f5fa"
            },
            "marker": {
             "line": {
              "color": "rgb(17,17,17)",
              "width": 0.5
             },
             "pattern": {
              "fillmode": "overlay",
              "size": 10,
              "solidity": 0.2
             }
            },
            "type": "bar"
           }
          ],
          "scattergeo": [
           {
            "type": "scattergeo",
            "marker": {
             "colorbar": {
              "outlinewidth": 0,
              "ticks": ""
             }
            }
           }
          ],
          "scatterpolar": [
           {
            "type": "scatterpolar",
            "marker": {
             "colorbar": {
              "outlinewidth": 0,
              "ticks": ""
             }
            }
           }
          ],
          "histogram": [
           {
            "marker": {
             "pattern": {
              "fillmode": "overlay",
              "size": 10,
              "solidity": 0.2
             }
            },
            "type": "histogram"
           }
          ],
          "scattergl": [
           {
            "marker": {
             "line": {
              "color": "#283442"
             }
            },
            "type": "scattergl"
           }
          ],
          "scatter3d": [
           {
            "type": "scatter3d",
            "line": {
             "colorbar": {
              "outlinewidth": 0,
              "ticks": ""
             }
            },
            "marker": {
             "colorbar": {
              "outlinewidth": 0,
              "ticks": ""
             }
            }
           }
          ],
          "scattermap": [
           {
            "type": "scattermap",
            "marker": {
             "colorbar": {
              "outlinewidth": 0,
              "ticks": ""
             }
            }
           }
          ],
          "scattermapbox": [
           {
            "type": "scattermapbox",
            "marker": {
             "colorbar": {
              "outlinewidth": 0,
              "ticks": ""
             }
            }
           }
          ],
          "scatterternary": [
           {
            "type": "scatterternary",
            "marker": {
             "colorbar": {
              "outlinewidth": 0,
              "ticks": ""
             }
            }
           }
          ],
          "scattercarpet": [
           {
            "type": "scattercarpet",
            "marker": {
             "colorbar": {
              "outlinewidth": 0,
              "ticks": ""
             }
            }
           }
          ],
          "carpet": [
           {
            "aaxis": {
             "endlinecolor": "#A2B1C6",
             "gridcolor": "#506784",
             "linecolor": "#506784",
             "minorgridcolor": "#506784",
             "startlinecolor": "#A2B1C6"
            },
            "baxis": {
             "endlinecolor": "#A2B1C6",
             "gridcolor": "#506784",
             "linecolor": "#506784",
             "minorgridcolor": "#506784",
             "startlinecolor": "#A2B1C6"
            },
            "type": "carpet"
           }
          ],
          "table": [
           {
            "cells": {
             "fill": {
              "color": "#506784"
             },
             "line": {
              "color": "rgb(17,17,17)"
             }
            },
            "header": {
             "fill": {
              "color": "#2a3f5f"
             },
             "line": {
              "color": "rgb(17,17,17)"
             }
            },
            "type": "table"
           }
          ],
          "barpolar": [
           {
            "marker": {
             "line": {
              "color": "rgb(17,17,17)",
              "width": 0.5
             },
             "pattern": {
              "fillmode": "overlay",
              "size": 10,
              "solidity": 0.2
             }
            },
            "type": "barpolar"
           }
          ],
          "pie": [
           {
            "automargin": true,
            "type": "pie"
           }
          ]
         },
         "layout": {
          "autotypenumbers": "strict",
          "colorway": [
           "#636efa",
           "#EF553B",
           "#00cc96",
           "#ab63fa",
           "#FFA15A",
           "#19d3f3",
           "#FF6692",
           "#B6E880",
           "#FF97FF",
           "#FECB52"
          ],
          "font": {
           "color": "#f2f5fa"
          },
          "hovermode": "closest",
          "hoverlabel": {
           "align": "left"
          },
          "paper_bgcolor": "rgb(17,17,17)",
          "plot_bgcolor": "rgb(17,17,17)",
          "polar": {
           "bgcolor": "rgb(17,17,17)",
           "angularaxis": {
            "gridcolor": "#506784",
            "linecolor": "#506784",
            "ticks": ""
           },
           "radialaxis": {
            "gridcolor": "#506784",
            "linecolor": "#506784",
            "ticks": ""
           }
          },
          "ternary": {
           "bgcolor": "rgb(17,17,17)",
           "aaxis": {
            "gridcolor": "#506784",
            "linecolor": "#506784",
            "ticks": ""
           },
           "baxis": {
            "gridcolor": "#506784",
            "linecolor": "#506784",
            "ticks": ""
           },
           "caxis": {
            "gridcolor": "#506784",
            "linecolor": "#506784",
            "ticks": ""
           }
          },
          "coloraxis": {
           "colorbar": {
            "outlinewidth": 0,
            "ticks": ""
           }
          },
          "colorscale": {
           "sequential": [
            [
             0.0,
             "#0d0887"
            ],
            [
             0.1111111111111111,
             "#46039f"
            ],
            [
             0.2222222222222222,
             "#7201a8"
            ],
            [
             0.3333333333333333,
             "#9c179e"
            ],
            [
             0.4444444444444444,
             "#bd3786"
            ],
            [
             0.5555555555555556,
             "#d8576b"
            ],
            [
             0.6666666666666666,
             "#ed7953"
            ],
            [
             0.7777777777777778,
             "#fb9f3a"
            ],
            [
             0.8888888888888888,
             "#fdca26"
            ],
            [
             1.0,
             "#f0f921"
            ]
           ],
           "sequentialminus": [
            [
             0.0,
             "#0d0887"
            ],
            [
             0.1111111111111111,
             "#46039f"
            ],
            [
             0.2222222222222222,
             "#7201a8"
            ],
            [
             0.3333333333333333,
             "#9c179e"
            ],
            [
             0.4444444444444444,
             "#bd3786"
            ],
            [
             0.5555555555555556,
             "#d8576b"
            ],
            [
             0.6666666666666666,
             "#ed7953"
            ],
            [
             0.7777777777777778,
             "#fb9f3a"
            ],
            [
             0.8888888888888888,
             "#fdca26"
            ],
            [
             1.0,
             "#f0f921"
            ]
           ],
           "diverging": [
            [
             0,
             "#8e0152"
            ],
            [
             0.1,
             "#c51b7d"
            ],
            [
             0.2,
             "#de77ae"
            ],
            [
             0.3,
             "#f1b6da"
            ],
            [
             0.4,
             "#fde0ef"
            ],
            [
             0.5,
             "#f7f7f7"
            ],
            [
             0.6,
             "#e6f5d0"
            ],
            [
             0.7,
             "#b8e186"
            ],
            [
             0.8,
             "#7fbc41"
            ],
            [
             0.9,
             "#4d9221"
            ],
            [
             1,
             "#276419"
            ]
           ]
          },
          "xaxis": {
           "gridcolor": "#283442",
           "linecolor": "#506784",
           "ticks": "",
           "title": {
            "standoff": 15
           },
           "zerolinecolor": "#283442",
           "automargin": true,
           "zerolinewidth": 2
          },
          "yaxis": {
           "gridcolor": "#283442",
           "linecolor": "#506784",
           "ticks": "",
           "title": {
            "standoff": 15
           },
           "zerolinecolor": "#283442",
           "automargin": true,
           "zerolinewidth": 2
          },
          "scene": {
           "xaxis": {
            "backgroundcolor": "rgb(17,17,17)",
            "gridcolor": "#506784",
            "linecolor": "#506784",
            "showbackground": true,
            "ticks": "",
            "zerolinecolor": "#C8D4E3",
            "gridwidth": 2
           },
           "yaxis": {
            "backgroundcolor": "rgb(17,17,17)",
            "gridcolor": "#506784",
            "linecolor": "#506784",
            "showbackground": true,
            "ticks": "",
            "zerolinecolor": "#C8D4E3",
            "gridwidth": 2
           },
           "zaxis": {
            "backgroundcolor": "rgb(17,17,17)",
            "gridcolor": "#506784",
            "linecolor": "#506784",
            "showbackground": true,
            "ticks": "",
            "zerolinecolor": "#C8D4E3",
            "gridwidth": 2
           }
          },
          "shapedefaults": {
           "line": {
            "color": "#f2f5fa"
           }
          },
          "annotationdefaults": {
           "arrowcolor": "#f2f5fa",
           "arrowhead": 0,
           "arrowwidth": 1
          },
          "geo": {
           "bgcolor": "rgb(17,17,17)",
           "landcolor": "rgb(17,17,17)",
           "subunitcolor": "#506784",
           "showland": true,
           "showlakes": true,
           "lakecolor": "rgb(17,17,17)"
          },
          "title": {
           "x": 0.05
          },
          "updatemenudefaults": {
           "bgcolor": "#506784",
           "borderwidth": 0
          },
          "sliderdefaults": {
           "bgcolor": "#C8D4E3",
           "borderwidth": 1,
           "bordercolor": "rgb(17,17,17)",
           "tickwidth": 0
          },
          "mapbox": {
           "style": "dark"
          }
         }
        },
        "xaxis": {
         "nticks": 36,
         "title": {
          "text": "Año de Pago"
         },
         "tickmode": "linear",
         "tick0": 0,
         "dtick": 1,
         "tickformat": "d"
        },
        "yaxis": {
         "nticks": 12,
         "title": {
          "text": "Mes de Pago"
         }
        },
        "title": {
         "text": "Pagos Mensuales"
        },
        "annotations": [
         {
          "font": {
           "color": "white",
           "size": 16
          },
          "showarrow": false,
          "text": "$0",
          "x": 2023,
          "y": "Enero"
         },
         {
          "font": {
           "color": "white",
           "size": 16
          },
          "showarrow": false,
          "text": "$7,529",
          "x": 2023,
          "y": "Febrero"
         },
         {
          "font": {
           "color": "white",
           "size": 16
          },
          "showarrow": false,
          "text": "$8,977",
          "x": 2023,
          "y": "Marzo"
         },
         {
          "font": {
           "color": "white",
           "size": 16
          },
          "showarrow": false,
          "text": "$8,688",
          "x": 2023,
          "y": "Abril"
         },
         {
          "font": {
           "color": "white",
           "size": 16
          },
          "showarrow": false,
          "text": "$8,977",
          "x": 2023,
          "y": "Mayo"
         },
         {
          "font": {
           "color": "white",
           "size": 16
          },
          "showarrow": false,
          "text": "$8,688",
          "x": 2023,
          "y": "Junio"
         },
         {
          "font": {
           "color": "white",
           "size": 16
          },
          "showarrow": false,
          "text": "$8,977",
          "x": 2023,
          "y": "Julio"
         },
         {
          "font": {
           "color": "white",
           "size": 16
          },
          "showarrow": false,
          "text": "$8,977",
          "x": 2023,
          "y": "Agosto"
         },
         {
          "font": {
           "color": "white",
           "size": 16
          },
          "showarrow": false,
          "text": "$8,688",
          "x": 2023,
          "y": "Septiembre"
         },
         {
          "font": {
           "color": "white",
           "size": 16
          },
          "showarrow": false,
          "text": "$8,977",
          "x": 2023,
          "y": "Octubre"
         },
         {
          "font": {
           "color": "white",
           "size": 16
          },
          "showarrow": false,
          "text": "$8,688",
          "x": 2023,
          "y": "Noviembre"
         },
         {
          "font": {
           "color": "white",
           "size": 16
          },
          "showarrow": false,
          "text": "$8,977",
          "x": 2023,
          "y": "Diciembre"
         },
         {
          "font": {
           "color": "white",
           "size": 16
          },
          "showarrow": false,
          "text": "$9,854",
          "x": 2024,
          "y": "Enero"
         },
         {
          "font": {
           "color": "white",
           "size": 16
          },
          "showarrow": false,
          "text": "$9,218",
          "x": 2024,
          "y": "Febrero"
         },
         {
          "font": {
           "color": "white",
           "size": 16
          },
          "showarrow": false,
          "text": "$9,854",
          "x": 2024,
          "y": "Marzo"
         },
         {
          "font": {
           "color": "white",
           "size": 16
          },
          "showarrow": false,
          "text": "$9,536",
          "x": 2024,
          "y": "Abril"
         },
         {
          "font": {
           "color": "white",
           "size": 16
          },
          "showarrow": false,
          "text": "$9,854",
          "x": 2024,
          "y": "Mayo"
         },
         {
          "font": {
           "color": "white",
           "size": 16
          },
          "showarrow": false,
          "text": "$9,536",
          "x": 2024,
          "y": "Junio"
         },
         {
          "font": {
           "color": "white",
           "size": 16
          },
          "showarrow": false,
          "text": "$9,854",
          "x": 2024,
          "y": "Julio"
         },
         {
          "font": {
           "color": "white",
           "size": 16
          },
          "showarrow": false,
          "text": "$9,854",
          "x": 2024,
          "y": "Agosto"
         },
         {
          "font": {
           "color": "white",
           "size": 16
          },
          "showarrow": false,
          "text": "$9,536",
          "x": 2024,
          "y": "Septiembre"
         },
         {
          "font": {
           "color": "white",
           "size": 16
          },
          "showarrow": false,
          "text": "$9,854",
          "x": 2024,
          "y": "Octubre"
         },
         {
          "font": {
           "color": "white",
           "size": 16
          },
          "showarrow": false,
          "text": "$9,536",
          "x": 2024,
          "y": "Noviembre"
         },
         {
          "font": {
           "color": "white",
           "size": 16
          },
          "showarrow": false,
          "text": "$9,854",
          "x": 2024,
          "y": "Diciembre"
         },
         {
          "font": {
           "color": "white",
           "size": 16
          },
          "showarrow": false,
          "text": "$10,731",
          "x": 2025,
          "y": "Enero"
         },
         {
          "font": {
           "color": "white",
           "size": 16
          },
          "showarrow": false,
          "text": "$9,692",
          "x": 2025,
          "y": "Febrero"
         },
         {
          "font": {
           "color": "white",
           "size": 16
          },
          "showarrow": false,
          "text": "$0",
          "x": 2025,
          "y": "Marzo"
         },
         {
          "font": {
           "color": "white",
           "size": 16
          },
          "showarrow": false,
          "text": "$0",
          "x": 2025,
          "y": "Abril"
         },
         {
          "font": {
           "color": "white",
           "size": 16
          },
          "showarrow": false,
          "text": "$0",
          "x": 2025,
          "y": "Mayo"
         },
         {
          "font": {
           "color": "white",
           "size": 16
          },
          "showarrow": false,
          "text": "$0",
          "x": 2025,
          "y": "Junio"
         },
         {
          "font": {
           "color": "white",
           "size": 16
          },
          "showarrow": false,
          "text": "$0",
          "x": 2025,
          "y": "Julio"
         },
         {
          "font": {
           "color": "white",
           "size": 16
          },
          "showarrow": false,
          "text": "$0",
          "x": 2025,
          "y": "Agosto"
         },
         {
          "font": {
           "color": "white",
           "size": 16
          },
          "showarrow": false,
          "text": "$0",
          "x": 2025,
          "y": "Septiembre"
         },
         {
          "font": {
           "color": "white",
           "size": 16
          },
          "showarrow": false,
          "text": "$0",
          "x": 2025,
          "y": "Octubre"
         },
         {
          "font": {
           "color": "white",
           "size": 16
          },
          "showarrow": false,
          "text": "$0",
          "x": 2025,
          "y": "Noviembre"
         },
         {
          "font": {
           "color": "white",
           "size": 16
          },
          "showarrow": false,
          "text": "$0",
          "x": 2025,
          "y": "Diciembre"
         }
        ]
       },
       "config": {
        "plotlyServerURL": "https://plot.ly"
       }
      }
     },
     "metadata": {},
     "output_type": "display_data"
    }
   ],
   "execution_count": 24
  }
 ],
 "metadata": {
  "kernelspec": {
   "display_name": "Python 3",
   "language": "python",
   "name": "python3"
  },
  "language_info": {
   "codemirror_mode": {
    "name": "ipython",
    "version": 2
   },
   "file_extension": ".py",
   "mimetype": "text/x-python",
   "name": "python",
   "nbconvert_exporter": "python",
   "pygments_lexer": "ipython2",
   "version": "2.7.6"
  }
 },
 "nbformat": 4,
 "nbformat_minor": 5
}
